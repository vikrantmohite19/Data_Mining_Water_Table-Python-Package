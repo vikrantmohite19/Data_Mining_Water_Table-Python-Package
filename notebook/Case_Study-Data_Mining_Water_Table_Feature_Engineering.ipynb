{
 "cells": [
  {
   "cell_type": "markdown",
   "id": "51616373",
   "metadata": {},
   "source": [
    "# Self Case Study-1_Pump it up-Data Mining the Water Table"
   ]
  },
  {
   "cell_type": "markdown",
   "id": "3e8099c2",
   "metadata": {},
   "source": [
    "## Section-II"
   ]
  },
  {
   "cell_type": "markdown",
   "id": "3e0a116c",
   "metadata": {},
   "source": [
    "## 4. Feature Engineering and Baseline model"
   ]
  },
  {
   "cell_type": "markdown",
   "id": "330195ae",
   "metadata": {},
   "source": [
    "#### 4.1 Importing required libraries & reading data"
   ]
  },
  {
   "cell_type": "code",
   "execution_count": 1,
   "id": "e6810330",
   "metadata": {},
   "outputs": [],
   "source": [
    "import pandas as pd\n",
    "import matplotlib.pyplot as plt\n",
    "%matplotlib inline  \n",
    "import re\n",
    "import time\n",
    "import warnings\n",
    "warnings.filterwarnings(\"ignore\")\n",
    "import numpy as np\n",
    "from nltk.corpus import stopwords\n",
    "from sklearn.preprocessing import normalize\n",
    "from sklearn.feature_extraction.text import CountVectorizer\n",
    "from sklearn.manifold import TSNE\n",
    "import seaborn as sns\n",
    "from sklearn.neighbors import KNeighborsClassifier\n",
    "from sklearn.metrics import confusion_matrix\n",
    "import sys\n",
    "from category_encoders import OneHotEncoder\n",
    "from sklearn.preprocessing import MinMaxScaler\n",
    "from category_encoders import TargetEncoder, LeaveOneOutEncoder, WOEEncoder\n",
    "from sklearn.preprocessing import RobustScaler\n",
    "from sklearn.metrics import accuracy_score, balanced_accuracy_score\n",
    "from sklearn.metrics import confusion_matrix"
   ]
  },
  {
   "cell_type": "code",
   "execution_count": 2,
   "id": "e3dda6c7",
   "metadata": {},
   "outputs": [],
   "source": [
    "import pandas as pd"
   ]
  },
  {
   "cell_type": "code",
   "execution_count": 3,
   "id": "6240e3d1",
   "metadata": {},
   "outputs": [],
   "source": [
    "df1 = pd.read_csv('data/clean_df.csv')"
   ]
  },
  {
   "cell_type": "code",
   "execution_count": 4,
   "id": "5b124fad",
   "metadata": {
    "scrolled": true
   },
   "outputs": [
    {
     "data": {
      "text/html": [
       "<div>\n",
       "<style scoped>\n",
       "    .dataframe tbody tr th:only-of-type {\n",
       "        vertical-align: middle;\n",
       "    }\n",
       "\n",
       "    .dataframe tbody tr th {\n",
       "        vertical-align: top;\n",
       "    }\n",
       "\n",
       "    .dataframe thead th {\n",
       "        text-align: right;\n",
       "    }\n",
       "</style>\n",
       "<table border=\"1\" class=\"dataframe\">\n",
       "  <thead>\n",
       "    <tr style=\"text-align: right;\">\n",
       "      <th></th>\n",
       "      <th>Unnamed: 0</th>\n",
       "      <th>id</th>\n",
       "      <th>amount_tsh</th>\n",
       "      <th>funder</th>\n",
       "      <th>gps_height</th>\n",
       "      <th>installer</th>\n",
       "      <th>longitude</th>\n",
       "      <th>latitude</th>\n",
       "      <th>basin</th>\n",
       "      <th>region</th>\n",
       "      <th>...</th>\n",
       "      <th>permit</th>\n",
       "      <th>extraction_type_group</th>\n",
       "      <th>management</th>\n",
       "      <th>payment</th>\n",
       "      <th>water_quality</th>\n",
       "      <th>quantity</th>\n",
       "      <th>source</th>\n",
       "      <th>status_group</th>\n",
       "      <th>operational_year</th>\n",
       "      <th>waterpoint_type</th>\n",
       "    </tr>\n",
       "  </thead>\n",
       "  <tbody>\n",
       "    <tr>\n",
       "      <th>0</th>\n",
       "      <td>0</td>\n",
       "      <td>69572</td>\n",
       "      <td>6000.0</td>\n",
       "      <td>other</td>\n",
       "      <td>1390</td>\n",
       "      <td>other</td>\n",
       "      <td>34.938093</td>\n",
       "      <td>-9.856322</td>\n",
       "      <td>Lake Nyasa</td>\n",
       "      <td>Iringa</td>\n",
       "      <td>...</td>\n",
       "      <td>False</td>\n",
       "      <td>gravity</td>\n",
       "      <td>vwc</td>\n",
       "      <td>pay annually</td>\n",
       "      <td>soft</td>\n",
       "      <td>enough</td>\n",
       "      <td>spring</td>\n",
       "      <td>functional</td>\n",
       "      <td>12</td>\n",
       "      <td>communal standpipe</td>\n",
       "    </tr>\n",
       "    <tr>\n",
       "      <th>1</th>\n",
       "      <td>1</td>\n",
       "      <td>8776</td>\n",
       "      <td>0.0</td>\n",
       "      <td>other</td>\n",
       "      <td>1399</td>\n",
       "      <td>other</td>\n",
       "      <td>34.698766</td>\n",
       "      <td>-2.147466</td>\n",
       "      <td>Lake Victoria</td>\n",
       "      <td>Mara</td>\n",
       "      <td>...</td>\n",
       "      <td>True</td>\n",
       "      <td>gravity</td>\n",
       "      <td>wug</td>\n",
       "      <td>never pay</td>\n",
       "      <td>soft</td>\n",
       "      <td>insufficient</td>\n",
       "      <td>rainwater harvesting</td>\n",
       "      <td>functional</td>\n",
       "      <td>3</td>\n",
       "      <td>communal standpipe</td>\n",
       "    </tr>\n",
       "    <tr>\n",
       "      <th>2</th>\n",
       "      <td>2</td>\n",
       "      <td>34310</td>\n",
       "      <td>25.0</td>\n",
       "      <td>other</td>\n",
       "      <td>686</td>\n",
       "      <td>World Vision</td>\n",
       "      <td>37.460664</td>\n",
       "      <td>-3.821329</td>\n",
       "      <td>Pangani</td>\n",
       "      <td>Manyara</td>\n",
       "      <td>...</td>\n",
       "      <td>True</td>\n",
       "      <td>gravity</td>\n",
       "      <td>vwc</td>\n",
       "      <td>pay per bucket</td>\n",
       "      <td>soft</td>\n",
       "      <td>enough</td>\n",
       "      <td>dam</td>\n",
       "      <td>functional</td>\n",
       "      <td>4</td>\n",
       "      <td>communal standpipe multiple</td>\n",
       "    </tr>\n",
       "    <tr>\n",
       "      <th>3</th>\n",
       "      <td>3</td>\n",
       "      <td>67743</td>\n",
       "      <td>0.0</td>\n",
       "      <td>Unicef</td>\n",
       "      <td>263</td>\n",
       "      <td>UNICEF</td>\n",
       "      <td>38.486161</td>\n",
       "      <td>-11.155298</td>\n",
       "      <td>Ruvuma / Southern Coast</td>\n",
       "      <td>Mtwara</td>\n",
       "      <td>...</td>\n",
       "      <td>True</td>\n",
       "      <td>submersible</td>\n",
       "      <td>vwc</td>\n",
       "      <td>never pay</td>\n",
       "      <td>soft</td>\n",
       "      <td>dry</td>\n",
       "      <td>machine dbh</td>\n",
       "      <td>non functional</td>\n",
       "      <td>27</td>\n",
       "      <td>communal standpipe multiple</td>\n",
       "    </tr>\n",
       "    <tr>\n",
       "      <th>4</th>\n",
       "      <td>4</td>\n",
       "      <td>19728</td>\n",
       "      <td>0.0</td>\n",
       "      <td>other</td>\n",
       "      <td>0</td>\n",
       "      <td>other</td>\n",
       "      <td>31.130847</td>\n",
       "      <td>-1.825359</td>\n",
       "      <td>Lake Victoria</td>\n",
       "      <td>Kagera</td>\n",
       "      <td>...</td>\n",
       "      <td>True</td>\n",
       "      <td>gravity</td>\n",
       "      <td>other</td>\n",
       "      <td>never pay</td>\n",
       "      <td>soft</td>\n",
       "      <td>seasonal</td>\n",
       "      <td>rainwater harvesting</td>\n",
       "      <td>functional</td>\n",
       "      <td>15</td>\n",
       "      <td>communal standpipe</td>\n",
       "    </tr>\n",
       "  </tbody>\n",
       "</table>\n",
       "<p>5 rows × 24 columns</p>\n",
       "</div>"
      ],
      "text/plain": [
       "   Unnamed: 0     id  amount_tsh  funder  gps_height     installer  longitude  \\\n",
       "0           0  69572      6000.0   other        1390         other  34.938093   \n",
       "1           1   8776         0.0   other        1399         other  34.698766   \n",
       "2           2  34310        25.0   other         686  World Vision  37.460664   \n",
       "3           3  67743         0.0  Unicef         263        UNICEF  38.486161   \n",
       "4           4  19728         0.0   other           0         other  31.130847   \n",
       "\n",
       "    latitude                    basin   region  ...  permit  \\\n",
       "0  -9.856322               Lake Nyasa   Iringa  ...   False   \n",
       "1  -2.147466            Lake Victoria     Mara  ...    True   \n",
       "2  -3.821329                  Pangani  Manyara  ...    True   \n",
       "3 -11.155298  Ruvuma / Southern Coast   Mtwara  ...    True   \n",
       "4  -1.825359            Lake Victoria   Kagera  ...    True   \n",
       "\n",
       "  extraction_type_group  management         payment  water_quality  \\\n",
       "0               gravity         vwc    pay annually           soft   \n",
       "1               gravity         wug       never pay           soft   \n",
       "2               gravity         vwc  pay per bucket           soft   \n",
       "3           submersible         vwc       never pay           soft   \n",
       "4               gravity       other       never pay           soft   \n",
       "\n",
       "       quantity                source    status_group operational_year  \\\n",
       "0        enough                spring      functional               12   \n",
       "1  insufficient  rainwater harvesting      functional                3   \n",
       "2        enough                   dam      functional                4   \n",
       "3           dry           machine dbh  non functional               27   \n",
       "4      seasonal  rainwater harvesting      functional               15   \n",
       "\n",
       "               waterpoint_type  \n",
       "0           communal standpipe  \n",
       "1           communal standpipe  \n",
       "2  communal standpipe multiple  \n",
       "3  communal standpipe multiple  \n",
       "4           communal standpipe  \n",
       "\n",
       "[5 rows x 24 columns]"
      ]
     },
     "execution_count": 4,
     "metadata": {},
     "output_type": "execute_result"
    }
   ],
   "source": [
    "df1.head()"
   ]
  },
  {
   "cell_type": "code",
   "execution_count": 5,
   "id": "aeaa26ec",
   "metadata": {},
   "outputs": [],
   "source": [
    "df1.drop(columns=['Unnamed: 0'],inplace=True )"
   ]
  },
  {
   "cell_type": "code",
   "execution_count": 6,
   "id": "97192fb0",
   "metadata": {},
   "outputs": [],
   "source": [
    "df1['permit'] = df1['permit'].astype(bool).astype(int) #converting True/Flse into 0/1\n",
    "df1['public_meeting'] = df1['public_meeting'].astype(bool).astype(int) #converting True/Flse into 0/1"
   ]
  },
  {
   "cell_type": "markdown",
   "id": "372457a9",
   "metadata": {},
   "source": [
    "#### 4.2 Converting categories of target variable into numeric values"
   ]
  },
  {
   "cell_type": "code",
   "execution_count": 7,
   "id": "afba6d84",
   "metadata": {},
   "outputs": [
    {
     "data": {
      "text/plain": [
       "array(['functional', 'non functional', 'functional needs repair'],\n",
       "      dtype=object)"
      ]
     },
     "execution_count": 7,
     "metadata": {},
     "output_type": "execute_result"
    }
   ],
   "source": [
    "df1['status_group'].unique()"
   ]
  },
  {
   "cell_type": "code",
   "execution_count": 8,
   "id": "dcbb1bd0",
   "metadata": {},
   "outputs": [],
   "source": [
    "numeric_target_values = {'functional':1, 'non functional':0, 'functional needs repair':2}"
   ]
  },
  {
   "cell_type": "code",
   "execution_count": 9,
   "id": "0a4c3388",
   "metadata": {},
   "outputs": [],
   "source": [
    "df1['status_group'] = df1['status_group'].replace(numeric_target_values)"
   ]
  },
  {
   "cell_type": "code",
   "execution_count": 10,
   "id": "020e3275",
   "metadata": {},
   "outputs": [
    {
     "data": {
      "text/plain": [
       "1    32259\n",
       "0    22824\n",
       "2     4317\n",
       "Name: status_group, dtype: int64"
      ]
     },
     "execution_count": 10,
     "metadata": {},
     "output_type": "execute_result"
    }
   ],
   "source": [
    "df1['status_group'].value_counts()"
   ]
  },
  {
   "cell_type": "markdown",
   "id": "8c9e5a64",
   "metadata": {},
   "source": [
    "#### 4.3 Analysis of column 'amount_tsh' to conclude if the same adds any values "
   ]
  },
  {
   "cell_type": "code",
   "execution_count": 140,
   "id": "4e0bd7d1",
   "metadata": {},
   "outputs": [
    {
     "data": {
      "text/plain": [
       "0.0         41639\n",
       "500.0        3102\n",
       "50.0         2472\n",
       "1000.0       1488\n",
       "20.0         1463\n",
       "            ...  \n",
       "6300.0          1\n",
       "120000.0        1\n",
       "138000.0        1\n",
       "350000.0        1\n",
       "59.0            1\n",
       "Name: amount_tsh, Length: 98, dtype: int64"
      ]
     },
     "execution_count": 140,
     "metadata": {},
     "output_type": "execute_result"
    }
   ],
   "source": [
    "df1['amount_tsh'].value_counts()"
   ]
  },
  {
   "cell_type": "code",
   "execution_count": 141,
   "id": "2585f21f",
   "metadata": {},
   "outputs": [
    {
     "data": {
      "text/plain": [
       "0.0         0.700993\n",
       "500.0       0.052222\n",
       "50.0        0.041616\n",
       "1000.0      0.025051\n",
       "20.0        0.024630\n",
       "              ...   \n",
       "6300.0      0.000017\n",
       "120000.0    0.000017\n",
       "138000.0    0.000017\n",
       "350000.0    0.000017\n",
       "59.0        0.000017\n",
       "Name: amount_tsh, Length: 98, dtype: float64"
      ]
     },
     "execution_count": 141,
     "metadata": {},
     "output_type": "execute_result"
    }
   ],
   "source": [
    "df1['amount_tsh'].value_counts()/df1['amount_tsh'].value_counts().sum()"
   ]
  },
  {
   "cell_type": "code",
   "execution_count": 142,
   "id": "a69f2490",
   "metadata": {},
   "outputs": [
    {
     "data": {
      "text/plain": [
       "status_group\n",
       "0    18885\n",
       "1    19706\n",
       "2     3048\n",
       "dtype: int64"
      ]
     },
     "execution_count": 142,
     "metadata": {},
     "output_type": "execute_result"
    }
   ],
   "source": [
    "df1.loc[df1['amount_tsh']==0].groupby('status_group').size()"
   ]
  },
  {
   "cell_type": "markdown",
   "id": "179e7396",
   "metadata": {},
   "source": [
    "Here we can see that around 70% of all values of 'amount_tsh' feature has zero. At this point, it is very difficult to say if this feature will make any impact as it has very less information. we will try modelling with & without 'amount_tsh' feature. "
   ]
  },
  {
   "cell_type": "code",
   "execution_count": 143,
   "id": "6e85b829",
   "metadata": {},
   "outputs": [
    {
     "data": {
      "text/plain": [
       "1062.351942458195"
      ]
     },
     "execution_count": 143,
     "metadata": {},
     "output_type": "execute_result"
    }
   ],
   "source": [
    "df1.loc[df1['amount_tsh']!=0, 'amount_tsh'].mean()"
   ]
  },
  {
   "cell_type": "code",
   "execution_count": 144,
   "id": "f3ab1988",
   "metadata": {},
   "outputs": [
    {
     "data": {
      "text/plain": [
       "count     17761.000000\n",
       "mean       1062.351942\n",
       "std        5409.344940\n",
       "min           0.200000\n",
       "25%          50.000000\n",
       "50%         250.000000\n",
       "75%        1000.000000\n",
       "max      350000.000000\n",
       "Name: amount_tsh, dtype: float64"
      ]
     },
     "execution_count": 144,
     "metadata": {},
     "output_type": "execute_result"
    }
   ],
   "source": [
    "df1.loc[df1['amount_tsh']!=0, 'amount_tsh'].describe()"
   ]
  },
  {
   "cell_type": "code",
   "execution_count": 145,
   "id": "ebb8ccdd",
   "metadata": {},
   "outputs": [
    {
     "data": {
      "text/plain": [
       "<AxesSubplot:xlabel='amount_tsh', ylabel='Density'>"
      ]
     },
     "execution_count": 145,
     "metadata": {},
     "output_type": "execute_result"
    },
    {
     "data": {
      "image/png": "[encoded data removed]",
      "text/plain": [
       "<Figure size 2016x864 with 1 Axes>"
      ]
     },
     "metadata": {
      "needs_background": "light"
     },
     "output_type": "display_data"
    }
   ],
   "source": [
    "plt.figure(figsize=(28,12))\n",
    "sns.kdeplot(data=df1, x='amount_tsh', hue=\"status_group\", gridsize=200)"
   ]
  },
  {
   "cell_type": "markdown",
   "id": "04f852b9",
   "metadata": {},
   "source": [
    "we will try replacing the zero values with mean value"
   ]
  },
  {
   "cell_type": "code",
   "execution_count": 11,
   "id": "f79c1192",
   "metadata": {},
   "outputs": [],
   "source": [
    "df2 = df1.copy() #creating copy of dataset"
   ]
  },
  {
   "cell_type": "code",
   "execution_count": 12,
   "id": "dc101601",
   "metadata": {},
   "outputs": [
    {
     "data": {
      "text/plain": [
       "(59400, 23)"
      ]
     },
     "execution_count": 12,
     "metadata": {},
     "output_type": "execute_result"
    }
   ],
   "source": [
    "df2.shape"
   ]
  },
  {
   "cell_type": "code",
   "execution_count": 148,
   "id": "a8001c2d",
   "metadata": {},
   "outputs": [
    {
     "data": {
      "text/plain": [
       "count     59400.000000\n",
       "mean        317.650385\n",
       "std        2997.574558\n",
       "min           0.000000\n",
       "25%           0.000000\n",
       "50%           0.000000\n",
       "75%          20.000000\n",
       "max      350000.000000\n",
       "Name: amount_tsh, dtype: float64"
      ]
     },
     "execution_count": 148,
     "metadata": {},
     "output_type": "execute_result"
    }
   ],
   "source": [
    "df2['amount_tsh'].describe()"
   ]
  },
  {
   "cell_type": "code",
   "execution_count": null,
   "id": "aa38f910",
   "metadata": {},
   "outputs": [],
   "source": []
  },
  {
   "cell_type": "code",
   "execution_count": 13,
   "id": "4b341888",
   "metadata": {},
   "outputs": [],
   "source": [
    "df2['amount_tsh'].replace(to_replace = 0 , value =1062.35, inplace=True)"
   ]
  },
  {
   "cell_type": "code",
   "execution_count": 14,
   "id": "1d1fd4a7",
   "metadata": {},
   "outputs": [
    {
     "data": {
      "text/plain": [
       "count     59400.000000\n",
       "mean       1062.350581\n",
       "std        2957.853024\n",
       "min           0.200000\n",
       "25%        1062.350000\n",
       "50%        1062.350000\n",
       "75%        1062.350000\n",
       "max      350000.000000\n",
       "Name: amount_tsh, dtype: float64"
      ]
     },
     "execution_count": 14,
     "metadata": {},
     "output_type": "execute_result"
    }
   ],
   "source": [
    "df2['amount_tsh'].describe()  #checking after replacement of zero with mean"
   ]
  },
  {
   "cell_type": "code",
   "execution_count": 151,
   "id": "d924c747",
   "metadata": {
    "scrolled": false
   },
   "outputs": [
    {
     "data": {
      "text/plain": [
       "<AxesSubplot:xlabel='amount_tsh', ylabel='Density'>"
      ]
     },
     "execution_count": 151,
     "metadata": {},
     "output_type": "execute_result"
    },
    {
     "data": {
      "image/png": "[encoded data removed]",
      "text/plain": [
       "<Figure size 2016x864 with 1 Axes>"
      ]
     },
     "metadata": {
      "needs_background": "light"
     },
     "output_type": "display_data"
    }
   ],
   "source": [
    "plt.figure(figsize=(28,12))\n",
    "sns.kdeplot(data=df2, x='amount_tsh', hue=\"status_group\", gridsize=200)"
   ]
  },
  {
   "cell_type": "markdown",
   "id": "4e88ddbf",
   "metadata": {},
   "source": [
    "#### 4.4 Modeling with 'amount_tsh'"
   ]
  },
  {
   "cell_type": "markdown",
   "id": "c0ba98df",
   "metadata": {},
   "source": [
    "#### 4.4.1 Generating list of numerical and categorical values "
   ]
  },
  {
   "cell_type": "code",
   "execution_count": 15,
   "id": "984e39ac",
   "metadata": {},
   "outputs": [
    {
     "data": {
      "text/plain": [
       "Index(['id', 'amount_tsh', 'funder', 'gps_height', 'installer', 'longitude',\n",
       "       'latitude', 'basin', 'region', 'district_code', 'lga', 'population',\n",
       "       'public_meeting', 'permit', 'extraction_type_group', 'management',\n",
       "       'payment', 'water_quality', 'quantity', 'source', 'status_group',\n",
       "       'operational_year', 'waterpoint_type'],\n",
       "      dtype='object')"
      ]
     },
     "execution_count": 15,
     "metadata": {},
     "output_type": "execute_result"
    }
   ],
   "source": [
    "df2.columns"
   ]
  },
  {
   "cell_type": "code",
   "execution_count": 16,
   "id": "2e79e216",
   "metadata": {},
   "outputs": [
    {
     "name": "stdout",
     "output_type": "stream",
     "text": [
      "We have 11 numerical features : ['id', 'amount_tsh', 'gps_height', 'longitude', 'latitude', 'district_code', 'population', 'public_meeting', 'permit', 'status_group', 'operational_year']\n",
      "\n",
      "We have 12 categorical features : ['funder', 'installer', 'basin', 'region', 'lga', 'extraction_type_group', 'management', 'payment', 'water_quality', 'quantity', 'source', 'waterpoint_type']\n"
     ]
    }
   ],
   "source": [
    "numerical_features = [feature for feature in df2.columns if df2[feature].dtype != 'O']\n",
    "categorical_features = [feature for feature in df2.columns if df2[feature].dtype == 'O']\n",
    "\n",
    "# print columns\n",
    "print('We have {} numerical features : {}'.format(len(numerical_features), numerical_features))\n",
    "print('\\nWe have {} categorical features : {}'.format(len(categorical_features), categorical_features))"
   ]
  },
  {
   "cell_type": "code",
   "execution_count": 18,
   "id": "b25af985",
   "metadata": {},
   "outputs": [],
   "source": [
    "numerical_features = ['amount_tsh','gps_height','longitude', 'latitude', 'district_code','population','operational_year']"
   ]
  },
  {
   "cell_type": "code",
   "execution_count": 19,
   "id": "f0c0ec81",
   "metadata": {},
   "outputs": [],
   "source": [
    "categorical_features = ['funder','installer','basin', 'region', 'lga','public_meeting','permit', 'extraction_type_group',\n",
    "       'management', 'payment', 'water_quality', 'quantity', 'source','waterpoint_type']"
   ]
  },
  {
   "cell_type": "code",
   "execution_count": 20,
   "id": "46acdde5",
   "metadata": {},
   "outputs": [
    {
     "data": {
      "text/plain": [
       "14"
      ]
     },
     "execution_count": 20,
     "metadata": {},
     "output_type": "execute_result"
    }
   ],
   "source": [
    "len(categorical_features)"
   ]
  },
  {
   "cell_type": "code",
   "execution_count": 21,
   "id": "531b2828",
   "metadata": {},
   "outputs": [
    {
     "data": {
      "text/plain": [
       "7"
      ]
     },
     "execution_count": 21,
     "metadata": {},
     "output_type": "execute_result"
    }
   ],
   "source": [
    "len(numerical_features)"
   ]
  },
  {
   "cell_type": "code",
   "execution_count": 22,
   "id": "76cc0d77",
   "metadata": {},
   "outputs": [
    {
     "data": {
      "text/html": [
       "<div>\n",
       "<style scoped>\n",
       "    .dataframe tbody tr th:only-of-type {\n",
       "        vertical-align: middle;\n",
       "    }\n",
       "\n",
       "    .dataframe tbody tr th {\n",
       "        vertical-align: top;\n",
       "    }\n",
       "\n",
       "    .dataframe thead th {\n",
       "        text-align: right;\n",
       "    }\n",
       "</style>\n",
       "<table border=\"1\" class=\"dataframe\">\n",
       "  <thead>\n",
       "    <tr style=\"text-align: right;\">\n",
       "      <th></th>\n",
       "      <th>id</th>\n",
       "      <th>amount_tsh</th>\n",
       "      <th>funder</th>\n",
       "      <th>gps_height</th>\n",
       "      <th>installer</th>\n",
       "      <th>longitude</th>\n",
       "      <th>latitude</th>\n",
       "      <th>basin</th>\n",
       "      <th>region</th>\n",
       "      <th>district_code</th>\n",
       "      <th>...</th>\n",
       "      <th>permit</th>\n",
       "      <th>extraction_type_group</th>\n",
       "      <th>management</th>\n",
       "      <th>payment</th>\n",
       "      <th>water_quality</th>\n",
       "      <th>quantity</th>\n",
       "      <th>source</th>\n",
       "      <th>status_group</th>\n",
       "      <th>operational_year</th>\n",
       "      <th>waterpoint_type</th>\n",
       "    </tr>\n",
       "  </thead>\n",
       "  <tbody>\n",
       "    <tr>\n",
       "      <th>0</th>\n",
       "      <td>69572</td>\n",
       "      <td>6000.0</td>\n",
       "      <td>other</td>\n",
       "      <td>1390</td>\n",
       "      <td>other</td>\n",
       "      <td>34.938093</td>\n",
       "      <td>-9.856322</td>\n",
       "      <td>Lake Nyasa</td>\n",
       "      <td>Iringa</td>\n",
       "      <td>5</td>\n",
       "      <td>...</td>\n",
       "      <td>0</td>\n",
       "      <td>gravity</td>\n",
       "      <td>vwc</td>\n",
       "      <td>pay annually</td>\n",
       "      <td>soft</td>\n",
       "      <td>enough</td>\n",
       "      <td>spring</td>\n",
       "      <td>1</td>\n",
       "      <td>12</td>\n",
       "      <td>communal standpipe</td>\n",
       "    </tr>\n",
       "  </tbody>\n",
       "</table>\n",
       "<p>1 rows × 23 columns</p>\n",
       "</div>"
      ],
      "text/plain": [
       "      id  amount_tsh funder  gps_height installer  longitude  latitude  \\\n",
       "0  69572      6000.0  other        1390     other  34.938093 -9.856322   \n",
       "\n",
       "        basin  region  district_code  ... permit  extraction_type_group  \\\n",
       "0  Lake Nyasa  Iringa              5  ...      0                gravity   \n",
       "\n",
       "   management       payment water_quality quantity  source status_group  \\\n",
       "0         vwc  pay annually          soft   enough  spring            1   \n",
       "\n",
       "  operational_year     waterpoint_type  \n",
       "0               12  communal standpipe  \n",
       "\n",
       "[1 rows x 23 columns]"
      ]
     },
     "execution_count": 22,
     "metadata": {},
     "output_type": "execute_result"
    }
   ],
   "source": [
    "df2.head(1)"
   ]
  },
  {
   "cell_type": "markdown",
   "id": "181d0008",
   "metadata": {},
   "source": [
    "#### 4.4.2 Separating target column 'status_group' from other columns "
   ]
  },
  {
   "cell_type": "code",
   "execution_count": 159,
   "id": "c1947c55",
   "metadata": {},
   "outputs": [],
   "source": [
    "y=df2['status_group']\n",
    "X = df2.drop(columns = ['status_group', 'id'])"
   ]
  },
  {
   "cell_type": "code",
   "execution_count": 160,
   "id": "15dd462e",
   "metadata": {},
   "outputs": [
    {
     "data": {
      "text/plain": [
       "(59400, 21)"
      ]
     },
     "execution_count": 160,
     "metadata": {},
     "output_type": "execute_result"
    }
   ],
   "source": [
    "X.shape"
   ]
  },
  {
   "cell_type": "code",
   "execution_count": 161,
   "id": "3b871dfe",
   "metadata": {},
   "outputs": [
    {
     "data": {
      "text/plain": [
       "(59400,)"
      ]
     },
     "execution_count": 161,
     "metadata": {},
     "output_type": "execute_result"
    }
   ],
   "source": [
    "y.shape"
   ]
  },
  {
   "cell_type": "markdown",
   "id": "2aba5fe1",
   "metadata": {},
   "source": [
    "#### 4.4.3 Splitting the data"
   ]
  },
  {
   "cell_type": "code",
   "execution_count": 162,
   "id": "ce3e55fb",
   "metadata": {},
   "outputs": [],
   "source": [
    "from sklearn.model_selection import train_test_split\n",
    "X_train, X_test, y_train, y_test = train_test_split(X, y, test_size=0.2, random_state=35)"
   ]
  },
  {
   "cell_type": "markdown",
   "id": "c6ee2666",
   "metadata": {},
   "source": [
    "#### 4.4.4 Standardising the numerical features using RobustScaler"
   ]
  },
  {
   "cell_type": "code",
   "execution_count": 163,
   "id": "c9369b83",
   "metadata": {},
   "outputs": [],
   "source": [
    "transformer = RobustScaler().fit(X_train[numerical_features])"
   ]
  },
  {
   "cell_type": "code",
   "execution_count": 164,
   "id": "492cf634",
   "metadata": {},
   "outputs": [
    {
     "data": {
      "text/plain": [
       "array([[ 0.00000000e+00, -2.79210926e-01, -8.96727076e-01, ...,\n",
       "         3.33333333e-01,  0.00000000e+00,  0.00000000e+00],\n",
       "       [ 0.00000000e+00, -2.79210926e-01, -6.00695420e-01, ...,\n",
       "         0.00000000e+00,  0.00000000e+00,  2.22222222e-01],\n",
       "       [ 0.00000000e+00, -2.64795144e-01,  1.11542716e+00, ...,\n",
       "        -3.33333333e-01, -4.47779753e-01, -2.22222222e-01],\n",
       "       ...,\n",
       "       [ 0.00000000e+00, -2.79210926e-01, -1.07130384e+00, ...,\n",
       "         9.00000000e+00,  0.00000000e+00,  0.00000000e+00],\n",
       "       [ 0.00000000e+00, -2.79210926e-01, -2.13696508e-01, ...,\n",
       "        -6.66666667e-01,  0.00000000e+00,  1.11111111e-01],\n",
       "       [-1.05735000e+03,  5.72837633e-01,  6.02806549e-01, ...,\n",
       "         6.66666667e-01, -1.27611012e+00, -1.11111111e-01]])"
      ]
     },
     "execution_count": 164,
     "metadata": {},
     "output_type": "execute_result"
    }
   ],
   "source": [
    "transformer.transform(X_train[numerical_features])"
   ]
  },
  {
   "cell_type": "code",
   "execution_count": 165,
   "id": "14409a02",
   "metadata": {},
   "outputs": [
    {
     "data": {
      "text/plain": [
       "array([[ 0.00000000e+00, -2.79210926e-01, -8.56100409e-01, ...,\n",
       "         0.00000000e+00,  0.00000000e+00,  0.00000000e+00],\n",
       "       [ 0.00000000e+00,  5.52352049e-01, -1.06803837e-01, ...,\n",
       "        -6.66666667e-01, -5.25090588e-01, -8.88888889e-01],\n",
       "       [ 0.00000000e+00, -2.79210926e-01, -2.70020041e-01, ...,\n",
       "         3.33333333e-01,  0.00000000e+00,  0.00000000e+00],\n",
       "       ...,\n",
       "       [-5.62350000e+02,  9.97723824e-01, -1.59183129e-01, ...,\n",
       "         0.00000000e+00,  0.00000000e+00,  1.11111111e-01],\n",
       "       [-5.62350000e+02, -6.37329287e-02,  4.63123027e-01, ...,\n",
       "         3.33333333e-01, -1.23745471e+00, -8.88888889e-01],\n",
       "       [ 0.00000000e+00, -2.79210926e-01, -3.37846948e-01, ...,\n",
       "        -3.33333333e-01,  0.00000000e+00,  1.11111111e-01]])"
      ]
     },
     "execution_count": 165,
     "metadata": {},
     "output_type": "execute_result"
    }
   ],
   "source": [
    "transformer.transform(X_test[numerical_features])"
   ]
  },
  {
   "cell_type": "code",
   "execution_count": 166,
   "id": "b5640df0",
   "metadata": {},
   "outputs": [],
   "source": [
    "X_train[numerical_features] = transformer.transform(X_train[numerical_features])"
   ]
  },
  {
   "cell_type": "code",
   "execution_count": 167,
   "id": "a511ae8f",
   "metadata": {},
   "outputs": [],
   "source": [
    "X_test[numerical_features] = transformer.transform(X_test[numerical_features])"
   ]
  },
  {
   "cell_type": "code",
   "execution_count": 168,
   "id": "c0a3309e",
   "metadata": {},
   "outputs": [
    {
     "data": {
      "text/html": [
       "<div>\n",
       "<style scoped>\n",
       "    .dataframe tbody tr th:only-of-type {\n",
       "        vertical-align: middle;\n",
       "    }\n",
       "\n",
       "    .dataframe tbody tr th {\n",
       "        vertical-align: top;\n",
       "    }\n",
       "\n",
       "    .dataframe thead th {\n",
       "        text-align: right;\n",
       "    }\n",
       "</style>\n",
       "<table border=\"1\" class=\"dataframe\">\n",
       "  <thead>\n",
       "    <tr style=\"text-align: right;\">\n",
       "      <th></th>\n",
       "      <th>amount_tsh</th>\n",
       "      <th>funder</th>\n",
       "      <th>gps_height</th>\n",
       "      <th>installer</th>\n",
       "      <th>longitude</th>\n",
       "      <th>latitude</th>\n",
       "      <th>basin</th>\n",
       "      <th>region</th>\n",
       "      <th>district_code</th>\n",
       "      <th>lga</th>\n",
       "      <th>...</th>\n",
       "      <th>public_meeting</th>\n",
       "      <th>permit</th>\n",
       "      <th>extraction_type_group</th>\n",
       "      <th>management</th>\n",
       "      <th>payment</th>\n",
       "      <th>water_quality</th>\n",
       "      <th>quantity</th>\n",
       "      <th>source</th>\n",
       "      <th>operational_year</th>\n",
       "      <th>waterpoint_type</th>\n",
       "    </tr>\n",
       "  </thead>\n",
       "  <tbody>\n",
       "    <tr>\n",
       "      <th>51950</th>\n",
       "      <td>0.0</td>\n",
       "      <td>Hesawa</td>\n",
       "      <td>-0.279211</td>\n",
       "      <td>DWE</td>\n",
       "      <td>-0.896727</td>\n",
       "      <td>0.418023</td>\n",
       "      <td>Lake Tanganyika</td>\n",
       "      <td>Kagera</td>\n",
       "      <td>0.333333</td>\n",
       "      <td>Biharamulo</td>\n",
       "      <td>...</td>\n",
       "      <td>1</td>\n",
       "      <td>1</td>\n",
       "      <td>gravity</td>\n",
       "      <td>vwc</td>\n",
       "      <td>never pay</td>\n",
       "      <td>soft</td>\n",
       "      <td>seasonal</td>\n",
       "      <td>rainwater harvesting</td>\n",
       "      <td>0.000000</td>\n",
       "      <td>communal standpipe</td>\n",
       "    </tr>\n",
       "    <tr>\n",
       "      <th>33024</th>\n",
       "      <td>0.0</td>\n",
       "      <td>Rwssp</td>\n",
       "      <td>-0.279211</td>\n",
       "      <td>DWE</td>\n",
       "      <td>-0.600695</td>\n",
       "      <td>0.228799</td>\n",
       "      <td>Lake Victoria</td>\n",
       "      <td>Shinyanga</td>\n",
       "      <td>0.000000</td>\n",
       "      <td>Kahama</td>\n",
       "      <td>...</td>\n",
       "      <td>1</td>\n",
       "      <td>1</td>\n",
       "      <td>other</td>\n",
       "      <td>wug</td>\n",
       "      <td>unknown</td>\n",
       "      <td>milky</td>\n",
       "      <td>insufficient</td>\n",
       "      <td>shallow well</td>\n",
       "      <td>0.222222</td>\n",
       "      <td>other</td>\n",
       "    </tr>\n",
       "    <tr>\n",
       "      <th>33547</th>\n",
       "      <td>0.0</td>\n",
       "      <td>Undefined</td>\n",
       "      <td>-0.264795</td>\n",
       "      <td>Undefined</td>\n",
       "      <td>1.115427</td>\n",
       "      <td>-0.370306</td>\n",
       "      <td>Wami / Ruvu</td>\n",
       "      <td>Dar es Salaam</td>\n",
       "      <td>-0.333333</td>\n",
       "      <td>Ilala</td>\n",
       "      <td>...</td>\n",
       "      <td>1</td>\n",
       "      <td>0</td>\n",
       "      <td>submersible</td>\n",
       "      <td>parastatal</td>\n",
       "      <td>never pay</td>\n",
       "      <td>soft</td>\n",
       "      <td>enough</td>\n",
       "      <td>machine dbh</td>\n",
       "      <td>-0.222222</td>\n",
       "      <td>communal standpipe</td>\n",
       "    </tr>\n",
       "    <tr>\n",
       "      <th>1813</th>\n",
       "      <td>0.0</td>\n",
       "      <td>other</td>\n",
       "      <td>-0.279211</td>\n",
       "      <td>other</td>\n",
       "      <td>-0.559189</td>\n",
       "      <td>-0.116281</td>\n",
       "      <td>Lake Tanganyika</td>\n",
       "      <td>Tabora</td>\n",
       "      <td>0.666667</td>\n",
       "      <td>Sikonge</td>\n",
       "      <td>...</td>\n",
       "      <td>1</td>\n",
       "      <td>1</td>\n",
       "      <td>india mark ii</td>\n",
       "      <td>vwc</td>\n",
       "      <td>never pay</td>\n",
       "      <td>soft</td>\n",
       "      <td>dry</td>\n",
       "      <td>machine dbh</td>\n",
       "      <td>0.111111</td>\n",
       "      <td>hand pump</td>\n",
       "    </tr>\n",
       "    <tr>\n",
       "      <th>17664</th>\n",
       "      <td>0.0</td>\n",
       "      <td>Tcrs</td>\n",
       "      <td>0.756449</td>\n",
       "      <td>DWE</td>\n",
       "      <td>0.469989</td>\n",
       "      <td>0.453226</td>\n",
       "      <td>Internal</td>\n",
       "      <td>Arusha</td>\n",
       "      <td>1.000000</td>\n",
       "      <td>Longido</td>\n",
       "      <td>...</td>\n",
       "      <td>1</td>\n",
       "      <td>1</td>\n",
       "      <td>gravity</td>\n",
       "      <td>vwc</td>\n",
       "      <td>pay when scheme fails</td>\n",
       "      <td>soft</td>\n",
       "      <td>dry</td>\n",
       "      <td>river</td>\n",
       "      <td>-0.111111</td>\n",
       "      <td>communal standpipe</td>\n",
       "    </tr>\n",
       "  </tbody>\n",
       "</table>\n",
       "<p>5 rows × 21 columns</p>\n",
       "</div>"
      ],
      "text/plain": [
       "       amount_tsh     funder  gps_height  installer  longitude  latitude  \\\n",
       "51950         0.0     Hesawa   -0.279211        DWE  -0.896727  0.418023   \n",
       "33024         0.0      Rwssp   -0.279211        DWE  -0.600695  0.228799   \n",
       "33547         0.0  Undefined   -0.264795  Undefined   1.115427 -0.370306   \n",
       "1813          0.0      other   -0.279211      other  -0.559189 -0.116281   \n",
       "17664         0.0       Tcrs    0.756449        DWE   0.469989  0.453226   \n",
       "\n",
       "                 basin         region  district_code         lga  ...  \\\n",
       "51950  Lake Tanganyika         Kagera       0.333333  Biharamulo  ...   \n",
       "33024    Lake Victoria      Shinyanga       0.000000      Kahama  ...   \n",
       "33547      Wami / Ruvu  Dar es Salaam      -0.333333       Ilala  ...   \n",
       "1813   Lake Tanganyika         Tabora       0.666667     Sikonge  ...   \n",
       "17664         Internal         Arusha       1.000000     Longido  ...   \n",
       "\n",
       "       public_meeting  permit  extraction_type_group  management  \\\n",
       "51950               1       1                gravity         vwc   \n",
       "33024               1       1                  other         wug   \n",
       "33547               1       0            submersible  parastatal   \n",
       "1813                1       1          india mark ii         vwc   \n",
       "17664               1       1                gravity         vwc   \n",
       "\n",
       "                     payment water_quality      quantity  \\\n",
       "51950              never pay          soft      seasonal   \n",
       "33024                unknown         milky  insufficient   \n",
       "33547              never pay          soft        enough   \n",
       "1813               never pay          soft           dry   \n",
       "17664  pay when scheme fails          soft           dry   \n",
       "\n",
       "                     source operational_year     waterpoint_type  \n",
       "51950  rainwater harvesting         0.000000  communal standpipe  \n",
       "33024          shallow well         0.222222               other  \n",
       "33547           machine dbh        -0.222222  communal standpipe  \n",
       "1813            machine dbh         0.111111           hand pump  \n",
       "17664                 river        -0.111111  communal standpipe  \n",
       "\n",
       "[5 rows x 21 columns]"
      ]
     },
     "execution_count": 168,
     "metadata": {},
     "output_type": "execute_result"
    }
   ],
   "source": [
    "X_train.head()"
   ]
  },
  {
   "cell_type": "code",
   "execution_count": 169,
   "id": "77fc2315",
   "metadata": {},
   "outputs": [
    {
     "data": {
      "text/html": [
       "<div>\n",
       "<style scoped>\n",
       "    .dataframe tbody tr th:only-of-type {\n",
       "        vertical-align: middle;\n",
       "    }\n",
       "\n",
       "    .dataframe tbody tr th {\n",
       "        vertical-align: top;\n",
       "    }\n",
       "\n",
       "    .dataframe thead th {\n",
       "        text-align: right;\n",
       "    }\n",
       "</style>\n",
       "<table border=\"1\" class=\"dataframe\">\n",
       "  <thead>\n",
       "    <tr style=\"text-align: right;\">\n",
       "      <th></th>\n",
       "      <th>amount_tsh</th>\n",
       "      <th>funder</th>\n",
       "      <th>gps_height</th>\n",
       "      <th>installer</th>\n",
       "      <th>longitude</th>\n",
       "      <th>latitude</th>\n",
       "      <th>basin</th>\n",
       "      <th>region</th>\n",
       "      <th>district_code</th>\n",
       "      <th>lga</th>\n",
       "      <th>...</th>\n",
       "      <th>public_meeting</th>\n",
       "      <th>permit</th>\n",
       "      <th>extraction_type_group</th>\n",
       "      <th>management</th>\n",
       "      <th>payment</th>\n",
       "      <th>water_quality</th>\n",
       "      <th>quantity</th>\n",
       "      <th>source</th>\n",
       "      <th>operational_year</th>\n",
       "      <th>waterpoint_type</th>\n",
       "    </tr>\n",
       "  </thead>\n",
       "  <tbody>\n",
       "    <tr>\n",
       "      <th>59379</th>\n",
       "      <td>0.00</td>\n",
       "      <td>other</td>\n",
       "      <td>-0.279211</td>\n",
       "      <td>other</td>\n",
       "      <td>-0.856100</td>\n",
       "      <td>0.613682</td>\n",
       "      <td>Lake Victoria</td>\n",
       "      <td>Kagera</td>\n",
       "      <td>0.000000</td>\n",
       "      <td>Muleba</td>\n",
       "      <td>...</td>\n",
       "      <td>1</td>\n",
       "      <td>1</td>\n",
       "      <td>gravity</td>\n",
       "      <td>vwc</td>\n",
       "      <td>never pay</td>\n",
       "      <td>soft</td>\n",
       "      <td>enough</td>\n",
       "      <td>spring</td>\n",
       "      <td>0.000000</td>\n",
       "      <td>communal standpipe</td>\n",
       "    </tr>\n",
       "    <tr>\n",
       "      <th>23853</th>\n",
       "      <td>0.00</td>\n",
       "      <td>other</td>\n",
       "      <td>0.552352</td>\n",
       "      <td>DWE</td>\n",
       "      <td>-0.106804</td>\n",
       "      <td>0.172762</td>\n",
       "      <td>Internal</td>\n",
       "      <td>Singida</td>\n",
       "      <td>-0.666667</td>\n",
       "      <td>Iramba</td>\n",
       "      <td>...</td>\n",
       "      <td>1</td>\n",
       "      <td>1</td>\n",
       "      <td>gravity</td>\n",
       "      <td>parastatal</td>\n",
       "      <td>never pay</td>\n",
       "      <td>soft</td>\n",
       "      <td>seasonal</td>\n",
       "      <td>rainwater harvesting</td>\n",
       "      <td>-0.888889</td>\n",
       "      <td>communal standpipe</td>\n",
       "    </tr>\n",
       "    <tr>\n",
       "      <th>4306</th>\n",
       "      <td>0.00</td>\n",
       "      <td>Undefined</td>\n",
       "      <td>-0.279211</td>\n",
       "      <td>Undefined</td>\n",
       "      <td>-0.270020</td>\n",
       "      <td>-0.830738</td>\n",
       "      <td>Lake Nyasa</td>\n",
       "      <td>Mbeya</td>\n",
       "      <td>0.333333</td>\n",
       "      <td>Rungwe</td>\n",
       "      <td>...</td>\n",
       "      <td>1</td>\n",
       "      <td>1</td>\n",
       "      <td>gravity</td>\n",
       "      <td>vwc</td>\n",
       "      <td>never pay</td>\n",
       "      <td>soft</td>\n",
       "      <td>enough</td>\n",
       "      <td>spring</td>\n",
       "      <td>0.000000</td>\n",
       "      <td>communal standpipe</td>\n",
       "    </tr>\n",
       "    <tr>\n",
       "      <th>11714</th>\n",
       "      <td>0.00</td>\n",
       "      <td>Hesawa</td>\n",
       "      <td>0.775417</td>\n",
       "      <td>HESAWA</td>\n",
       "      <td>-0.101200</td>\n",
       "      <td>0.586696</td>\n",
       "      <td>Lake Victoria</td>\n",
       "      <td>Mara</td>\n",
       "      <td>-0.333333</td>\n",
       "      <td>Serengeti</td>\n",
       "      <td>...</td>\n",
       "      <td>0</td>\n",
       "      <td>1</td>\n",
       "      <td>gravity</td>\n",
       "      <td>wug</td>\n",
       "      <td>never pay</td>\n",
       "      <td>soft</td>\n",
       "      <td>enough</td>\n",
       "      <td>spring</td>\n",
       "      <td>0.333333</td>\n",
       "      <td>communal standpipe</td>\n",
       "    </tr>\n",
       "    <tr>\n",
       "      <th>36791</th>\n",
       "      <td>-62.35</td>\n",
       "      <td>Danida</td>\n",
       "      <td>0.485584</td>\n",
       "      <td>other</td>\n",
       "      <td>0.164856</td>\n",
       "      <td>-1.087846</td>\n",
       "      <td>Ruvuma / Southern Coast</td>\n",
       "      <td>Ruvuma</td>\n",
       "      <td>0.333333</td>\n",
       "      <td>Songea Rural</td>\n",
       "      <td>...</td>\n",
       "      <td>0</td>\n",
       "      <td>1</td>\n",
       "      <td>india mark ii</td>\n",
       "      <td>vwc</td>\n",
       "      <td>pay monthly</td>\n",
       "      <td>soft</td>\n",
       "      <td>enough</td>\n",
       "      <td>shallow well</td>\n",
       "      <td>1.333333</td>\n",
       "      <td>hand pump</td>\n",
       "    </tr>\n",
       "  </tbody>\n",
       "</table>\n",
       "<p>5 rows × 21 columns</p>\n",
       "</div>"
      ],
      "text/plain": [
       "       amount_tsh     funder  gps_height  installer  longitude  latitude  \\\n",
       "59379        0.00      other   -0.279211      other  -0.856100  0.613682   \n",
       "23853        0.00      other    0.552352        DWE  -0.106804  0.172762   \n",
       "4306         0.00  Undefined   -0.279211  Undefined  -0.270020 -0.830738   \n",
       "11714        0.00     Hesawa    0.775417     HESAWA  -0.101200  0.586696   \n",
       "36791      -62.35     Danida    0.485584      other   0.164856 -1.087846   \n",
       "\n",
       "                         basin   region  district_code           lga  ...  \\\n",
       "59379            Lake Victoria   Kagera       0.000000        Muleba  ...   \n",
       "23853                 Internal  Singida      -0.666667        Iramba  ...   \n",
       "4306                Lake Nyasa    Mbeya       0.333333        Rungwe  ...   \n",
       "11714            Lake Victoria     Mara      -0.333333     Serengeti  ...   \n",
       "36791  Ruvuma / Southern Coast   Ruvuma       0.333333  Songea Rural  ...   \n",
       "\n",
       "       public_meeting  permit  extraction_type_group  management      payment  \\\n",
       "59379               1       1                gravity         vwc    never pay   \n",
       "23853               1       1                gravity  parastatal    never pay   \n",
       "4306                1       1                gravity         vwc    never pay   \n",
       "11714               0       1                gravity         wug    never pay   \n",
       "36791               0       1          india mark ii         vwc  pay monthly   \n",
       "\n",
       "      water_quality  quantity                source operational_year  \\\n",
       "59379          soft    enough                spring         0.000000   \n",
       "23853          soft  seasonal  rainwater harvesting        -0.888889   \n",
       "4306           soft    enough                spring         0.000000   \n",
       "11714          soft    enough                spring         0.333333   \n",
       "36791          soft    enough          shallow well         1.333333   \n",
       "\n",
       "          waterpoint_type  \n",
       "59379  communal standpipe  \n",
       "23853  communal standpipe  \n",
       "4306   communal standpipe  \n",
       "11714  communal standpipe  \n",
       "36791           hand pump  \n",
       "\n",
       "[5 rows x 21 columns]"
      ]
     },
     "execution_count": 169,
     "metadata": {},
     "output_type": "execute_result"
    }
   ],
   "source": [
    "X_test.head()"
   ]
  },
  {
   "cell_type": "markdown",
   "id": "e880cc5a",
   "metadata": {},
   "source": [
    "#### 4.4.5 Encoding of categorical features"
   ]
  },
  {
   "cell_type": "code",
   "execution_count": 171,
   "id": "b7b0fbb0",
   "metadata": {},
   "outputs": [],
   "source": [
    "import category_encoders as ce\n",
    "transformer_te = ce.TargetEncoder().fit(X_train[categorical_features], y_train)"
   ]
  },
  {
   "cell_type": "code",
   "execution_count": 172,
   "id": "69c547ae",
   "metadata": {},
   "outputs": [],
   "source": [
    "X_train[categorical_features] = transformer_te.transform(X_train[categorical_features])\n",
    "X_test[categorical_features] = transformer_te.transform(X_test[categorical_features])"
   ]
  },
  {
   "cell_type": "code",
   "execution_count": 173,
   "id": "fd5bd26c",
   "metadata": {},
   "outputs": [
    {
     "data": {
      "text/html": [
       "<div>\n",
       "<style scoped>\n",
       "    .dataframe tbody tr th:only-of-type {\n",
       "        vertical-align: middle;\n",
       "    }\n",
       "\n",
       "    .dataframe tbody tr th {\n",
       "        vertical-align: top;\n",
       "    }\n",
       "\n",
       "    .dataframe thead th {\n",
       "        text-align: right;\n",
       "    }\n",
       "</style>\n",
       "<table border=\"1\" class=\"dataframe\">\n",
       "  <thead>\n",
       "    <tr style=\"text-align: right;\">\n",
       "      <th></th>\n",
       "      <th>amount_tsh</th>\n",
       "      <th>funder</th>\n",
       "      <th>gps_height</th>\n",
       "      <th>installer</th>\n",
       "      <th>longitude</th>\n",
       "      <th>latitude</th>\n",
       "      <th>basin</th>\n",
       "      <th>region</th>\n",
       "      <th>district_code</th>\n",
       "      <th>lga</th>\n",
       "      <th>...</th>\n",
       "      <th>public_meeting</th>\n",
       "      <th>permit</th>\n",
       "      <th>extraction_type_group</th>\n",
       "      <th>management</th>\n",
       "      <th>payment</th>\n",
       "      <th>water_quality</th>\n",
       "      <th>quantity</th>\n",
       "      <th>source</th>\n",
       "      <th>operational_year</th>\n",
       "      <th>waterpoint_type</th>\n",
       "    </tr>\n",
       "  </thead>\n",
       "  <tbody>\n",
       "    <tr>\n",
       "      <th>51950</th>\n",
       "      <td>0.0</td>\n",
       "      <td>0.628118</td>\n",
       "      <td>-0.279211</td>\n",
       "      <td>0.727951</td>\n",
       "      <td>-0.896727</td>\n",
       "      <td>0.418023</td>\n",
       "      <td>0.709981</td>\n",
       "      <td>0.693627</td>\n",
       "      <td>0.333333</td>\n",
       "      <td>0.772036</td>\n",
       "      <td>...</td>\n",
       "      <td>1</td>\n",
       "      <td>1</td>\n",
       "      <td>0.801130</td>\n",
       "      <td>0.641465</td>\n",
       "      <td>0.598014</td>\n",
       "      <td>0.718483</td>\n",
       "      <td>0.781402</td>\n",
       "      <td>0.881709</td>\n",
       "      <td>0.000000</td>\n",
       "      <td>0.778496</td>\n",
       "    </tr>\n",
       "    <tr>\n",
       "      <th>33024</th>\n",
       "      <td>0.0</td>\n",
       "      <td>0.740807</td>\n",
       "      <td>-0.279211</td>\n",
       "      <td>0.727951</td>\n",
       "      <td>-0.600695</td>\n",
       "      <td>0.228799</td>\n",
       "      <td>0.686842</td>\n",
       "      <td>0.815691</td>\n",
       "      <td>0.000000</td>\n",
       "      <td>0.549928</td>\n",
       "      <td>...</td>\n",
       "      <td>1</td>\n",
       "      <td>1</td>\n",
       "      <td>0.226949</td>\n",
       "      <td>0.800115</td>\n",
       "      <td>0.537454</td>\n",
       "      <td>0.562974</td>\n",
       "      <td>0.713554</td>\n",
       "      <td>0.604793</td>\n",
       "      <td>0.222222</td>\n",
       "      <td>0.222717</td>\n",
       "    </tr>\n",
       "    <tr>\n",
       "      <th>33547</th>\n",
       "      <td>0.0</td>\n",
       "      <td>0.752472</td>\n",
       "      <td>-0.264795</td>\n",
       "      <td>0.755051</td>\n",
       "      <td>1.115427</td>\n",
       "      <td>-0.370306</td>\n",
       "      <td>0.613160</td>\n",
       "      <td>0.571651</td>\n",
       "      <td>-0.333333</td>\n",
       "      <td>0.686076</td>\n",
       "      <td>...</td>\n",
       "      <td>1</td>\n",
       "      <td>0</td>\n",
       "      <td>0.618023</td>\n",
       "      <td>0.833333</td>\n",
       "      <td>0.598014</td>\n",
       "      <td>0.718483</td>\n",
       "      <td>0.794656</td>\n",
       "      <td>0.576823</td>\n",
       "      <td>-0.222222</td>\n",
       "      <td>0.778496</td>\n",
       "    </tr>\n",
       "    <tr>\n",
       "      <th>1813</th>\n",
       "      <td>0.0</td>\n",
       "      <td>0.715915</td>\n",
       "      <td>-0.279211</td>\n",
       "      <td>0.674986</td>\n",
       "      <td>-0.559189</td>\n",
       "      <td>-0.116281</td>\n",
       "      <td>0.709981</td>\n",
       "      <td>0.471591</td>\n",
       "      <td>0.666667</td>\n",
       "      <td>0.270833</td>\n",
       "      <td>...</td>\n",
       "      <td>1</td>\n",
       "      <td>1</td>\n",
       "      <td>0.667534</td>\n",
       "      <td>0.641465</td>\n",
       "      <td>0.598014</td>\n",
       "      <td>0.718483</td>\n",
       "      <td>0.038500</td>\n",
       "      <td>0.576823</td>\n",
       "      <td>0.111111</td>\n",
       "      <td>0.733453</td>\n",
       "    </tr>\n",
       "    <tr>\n",
       "      <th>17664</th>\n",
       "      <td>0.0</td>\n",
       "      <td>0.522541</td>\n",
       "      <td>0.756449</td>\n",
       "      <td>0.727951</td>\n",
       "      <td>0.469989</td>\n",
       "      <td>0.453226</td>\n",
       "      <td>0.721076</td>\n",
       "      <td>0.791061</td>\n",
       "      <td>1.000000</td>\n",
       "      <td>0.857143</td>\n",
       "      <td>...</td>\n",
       "      <td>1</td>\n",
       "      <td>1</td>\n",
       "      <td>0.801130</td>\n",
       "      <td>0.641465</td>\n",
       "      <td>0.764405</td>\n",
       "      <td>0.718483</td>\n",
       "      <td>0.038500</td>\n",
       "      <td>0.819604</td>\n",
       "      <td>-0.111111</td>\n",
       "      <td>0.778496</td>\n",
       "    </tr>\n",
       "  </tbody>\n",
       "</table>\n",
       "<p>5 rows × 21 columns</p>\n",
       "</div>"
      ],
      "text/plain": [
       "       amount_tsh    funder  gps_height  installer  longitude  latitude  \\\n",
       "51950         0.0  0.628118   -0.279211   0.727951  -0.896727  0.418023   \n",
       "33024         0.0  0.740807   -0.279211   0.727951  -0.600695  0.228799   \n",
       "33547         0.0  0.752472   -0.264795   0.755051   1.115427 -0.370306   \n",
       "1813          0.0  0.715915   -0.279211   0.674986  -0.559189 -0.116281   \n",
       "17664         0.0  0.522541    0.756449   0.727951   0.469989  0.453226   \n",
       "\n",
       "          basin    region  district_code       lga  ...  public_meeting  \\\n",
       "51950  0.709981  0.693627       0.333333  0.772036  ...               1   \n",
       "33024  0.686842  0.815691       0.000000  0.549928  ...               1   \n",
       "33547  0.613160  0.571651      -0.333333  0.686076  ...               1   \n",
       "1813   0.709981  0.471591       0.666667  0.270833  ...               1   \n",
       "17664  0.721076  0.791061       1.000000  0.857143  ...               1   \n",
       "\n",
       "       permit  extraction_type_group  management   payment  water_quality  \\\n",
       "51950       1               0.801130    0.641465  0.598014       0.718483   \n",
       "33024       1               0.226949    0.800115  0.537454       0.562974   \n",
       "33547       0               0.618023    0.833333  0.598014       0.718483   \n",
       "1813        1               0.667534    0.641465  0.598014       0.718483   \n",
       "17664       1               0.801130    0.641465  0.764405       0.718483   \n",
       "\n",
       "       quantity    source  operational_year  waterpoint_type  \n",
       "51950  0.781402  0.881709          0.000000         0.778496  \n",
       "33024  0.713554  0.604793          0.222222         0.222717  \n",
       "33547  0.794656  0.576823         -0.222222         0.778496  \n",
       "1813   0.038500  0.576823          0.111111         0.733453  \n",
       "17664  0.038500  0.819604         -0.111111         0.778496  \n",
       "\n",
       "[5 rows x 21 columns]"
      ]
     },
     "execution_count": 173,
     "metadata": {},
     "output_type": "execute_result"
    }
   ],
   "source": [
    "X_train.head()"
   ]
  },
  {
   "cell_type": "code",
   "execution_count": 174,
   "id": "76fb9c67",
   "metadata": {},
   "outputs": [
    {
     "data": {
      "text/html": [
       "<div>\n",
       "<style scoped>\n",
       "    .dataframe tbody tr th:only-of-type {\n",
       "        vertical-align: middle;\n",
       "    }\n",
       "\n",
       "    .dataframe tbody tr th {\n",
       "        vertical-align: top;\n",
       "    }\n",
       "\n",
       "    .dataframe thead th {\n",
       "        text-align: right;\n",
       "    }\n",
       "</style>\n",
       "<table border=\"1\" class=\"dataframe\">\n",
       "  <thead>\n",
       "    <tr style=\"text-align: right;\">\n",
       "      <th></th>\n",
       "      <th>amount_tsh</th>\n",
       "      <th>funder</th>\n",
       "      <th>gps_height</th>\n",
       "      <th>installer</th>\n",
       "      <th>longitude</th>\n",
       "      <th>latitude</th>\n",
       "      <th>basin</th>\n",
       "      <th>region</th>\n",
       "      <th>district_code</th>\n",
       "      <th>lga</th>\n",
       "      <th>...</th>\n",
       "      <th>public_meeting</th>\n",
       "      <th>permit</th>\n",
       "      <th>extraction_type_group</th>\n",
       "      <th>management</th>\n",
       "      <th>payment</th>\n",
       "      <th>water_quality</th>\n",
       "      <th>quantity</th>\n",
       "      <th>source</th>\n",
       "      <th>operational_year</th>\n",
       "      <th>waterpoint_type</th>\n",
       "    </tr>\n",
       "  </thead>\n",
       "  <tbody>\n",
       "    <tr>\n",
       "      <th>59379</th>\n",
       "      <td>0.00</td>\n",
       "      <td>0.715915</td>\n",
       "      <td>-0.279211</td>\n",
       "      <td>0.674986</td>\n",
       "      <td>-0.856100</td>\n",
       "      <td>0.613682</td>\n",
       "      <td>0.686842</td>\n",
       "      <td>0.693627</td>\n",
       "      <td>0.000000</td>\n",
       "      <td>0.492355</td>\n",
       "      <td>...</td>\n",
       "      <td>1</td>\n",
       "      <td>1</td>\n",
       "      <td>0.801130</td>\n",
       "      <td>0.641465</td>\n",
       "      <td>0.598014</td>\n",
       "      <td>0.718483</td>\n",
       "      <td>0.794656</td>\n",
       "      <td>0.774558</td>\n",
       "      <td>0.000000</td>\n",
       "      <td>0.778496</td>\n",
       "    </tr>\n",
       "    <tr>\n",
       "      <th>23853</th>\n",
       "      <td>0.00</td>\n",
       "      <td>0.715915</td>\n",
       "      <td>0.552352</td>\n",
       "      <td>0.727951</td>\n",
       "      <td>-0.106804</td>\n",
       "      <td>0.172762</td>\n",
       "      <td>0.721076</td>\n",
       "      <td>0.606509</td>\n",
       "      <td>-0.666667</td>\n",
       "      <td>0.786667</td>\n",
       "      <td>...</td>\n",
       "      <td>1</td>\n",
       "      <td>1</td>\n",
       "      <td>0.801130</td>\n",
       "      <td>0.833333</td>\n",
       "      <td>0.598014</td>\n",
       "      <td>0.718483</td>\n",
       "      <td>0.781402</td>\n",
       "      <td>0.881709</td>\n",
       "      <td>-0.888889</td>\n",
       "      <td>0.778496</td>\n",
       "    </tr>\n",
       "    <tr>\n",
       "      <th>4306</th>\n",
       "      <td>0.00</td>\n",
       "      <td>0.752472</td>\n",
       "      <td>-0.279211</td>\n",
       "      <td>0.755051</td>\n",
       "      <td>-0.270020</td>\n",
       "      <td>-0.830738</td>\n",
       "      <td>0.760453</td>\n",
       "      <td>0.720716</td>\n",
       "      <td>0.333333</td>\n",
       "      <td>0.911236</td>\n",
       "      <td>...</td>\n",
       "      <td>1</td>\n",
       "      <td>1</td>\n",
       "      <td>0.801130</td>\n",
       "      <td>0.641465</td>\n",
       "      <td>0.598014</td>\n",
       "      <td>0.718483</td>\n",
       "      <td>0.794656</td>\n",
       "      <td>0.774558</td>\n",
       "      <td>0.000000</td>\n",
       "      <td>0.778496</td>\n",
       "    </tr>\n",
       "    <tr>\n",
       "      <th>11714</th>\n",
       "      <td>0.00</td>\n",
       "      <td>0.628118</td>\n",
       "      <td>0.775417</td>\n",
       "      <td>0.630941</td>\n",
       "      <td>-0.101200</td>\n",
       "      <td>0.586696</td>\n",
       "      <td>0.686842</td>\n",
       "      <td>0.506305</td>\n",
       "      <td>-0.333333</td>\n",
       "      <td>0.663265</td>\n",
       "      <td>...</td>\n",
       "      <td>0</td>\n",
       "      <td>1</td>\n",
       "      <td>0.801130</td>\n",
       "      <td>0.800115</td>\n",
       "      <td>0.598014</td>\n",
       "      <td>0.718483</td>\n",
       "      <td>0.794656</td>\n",
       "      <td>0.774558</td>\n",
       "      <td>0.333333</td>\n",
       "      <td>0.778496</td>\n",
       "    </tr>\n",
       "    <tr>\n",
       "      <th>36791</th>\n",
       "      <td>-62.35</td>\n",
       "      <td>0.658088</td>\n",
       "      <td>0.485584</td>\n",
       "      <td>0.674986</td>\n",
       "      <td>0.164856</td>\n",
       "      <td>-1.087846</td>\n",
       "      <td>0.519412</td>\n",
       "      <td>0.686632</td>\n",
       "      <td>0.333333</td>\n",
       "      <td>0.713249</td>\n",
       "      <td>...</td>\n",
       "      <td>0</td>\n",
       "      <td>1</td>\n",
       "      <td>0.667534</td>\n",
       "      <td>0.641465</td>\n",
       "      <td>0.880207</td>\n",
       "      <td>0.718483</td>\n",
       "      <td>0.794656</td>\n",
       "      <td>0.604793</td>\n",
       "      <td>1.333333</td>\n",
       "      <td>0.733453</td>\n",
       "    </tr>\n",
       "  </tbody>\n",
       "</table>\n",
       "<p>5 rows × 21 columns</p>\n",
       "</div>"
      ],
      "text/plain": [
       "       amount_tsh    funder  gps_height  installer  longitude  latitude  \\\n",
       "59379        0.00  0.715915   -0.279211   0.674986  -0.856100  0.613682   \n",
       "23853        0.00  0.715915    0.552352   0.727951  -0.106804  0.172762   \n",
       "4306         0.00  0.752472   -0.279211   0.755051  -0.270020 -0.830738   \n",
       "11714        0.00  0.628118    0.775417   0.630941  -0.101200  0.586696   \n",
       "36791      -62.35  0.658088    0.485584   0.674986   0.164856 -1.087846   \n",
       "\n",
       "          basin    region  district_code       lga  ...  public_meeting  \\\n",
       "59379  0.686842  0.693627       0.000000  0.492355  ...               1   \n",
       "23853  0.721076  0.606509      -0.666667  0.786667  ...               1   \n",
       "4306   0.760453  0.720716       0.333333  0.911236  ...               1   \n",
       "11714  0.686842  0.506305      -0.333333  0.663265  ...               0   \n",
       "36791  0.519412  0.686632       0.333333  0.713249  ...               0   \n",
       "\n",
       "       permit  extraction_type_group  management   payment  water_quality  \\\n",
       "59379       1               0.801130    0.641465  0.598014       0.718483   \n",
       "23853       1               0.801130    0.833333  0.598014       0.718483   \n",
       "4306        1               0.801130    0.641465  0.598014       0.718483   \n",
       "11714       1               0.801130    0.800115  0.598014       0.718483   \n",
       "36791       1               0.667534    0.641465  0.880207       0.718483   \n",
       "\n",
       "       quantity    source  operational_year  waterpoint_type  \n",
       "59379  0.794656  0.774558          0.000000         0.778496  \n",
       "23853  0.781402  0.881709         -0.888889         0.778496  \n",
       "4306   0.794656  0.774558          0.000000         0.778496  \n",
       "11714  0.794656  0.774558          0.333333         0.778496  \n",
       "36791  0.794656  0.604793          1.333333         0.733453  \n",
       "\n",
       "[5 rows x 21 columns]"
      ]
     },
     "execution_count": 174,
     "metadata": {},
     "output_type": "execute_result"
    }
   ],
   "source": [
    "X_test.head()"
   ]
  },
  {
   "cell_type": "code",
   "execution_count": 176,
   "id": "5b23c316",
   "metadata": {},
   "outputs": [
    {
     "data": {
      "text/html": [
       "<style>#sk-container-id-2 {color: black;background-color: white;}#sk-container-id-2 pre{padding: 0;}#sk-container-id-2 div.sk-toggleable {background-color: white;}#sk-container-id-2 label.sk-toggleable__label {cursor: pointer;display: block;width: 100%;margin-bottom: 0;padding: 0.3em;box-sizing: border-box;text-align: center;}#sk-container-id-2 label.sk-toggleable__label-arrow:before {content: \"▸\";float: left;margin-right: 0.25em;color: #696969;}#sk-container-id-2 label.sk-toggleable__label-arrow:hover:before {color: black;}#sk-container-id-2 div.sk-estimator:hover label.sk-toggleable__label-arrow:before {color: black;}#sk-container-id-2 div.sk-toggleable__content {max-height: 0;max-width: 0;overflow: hidden;text-align: left;background-color: #f0f8ff;}#sk-container-id-2 div.sk-toggleable__content pre {margin: 0.2em;color: black;border-radius: 0.25em;background-color: #f0f8ff;}#sk-container-id-2 input.sk-toggleable__control:checked~div.sk-toggleable__content {max-height: 200px;max-width: 100%;overflow: auto;}#sk-container-id-2 input.sk-toggleable__control:checked~label.sk-toggleable__label-arrow:before {content: \"▾\";}#sk-container-id-2 div.sk-estimator input.sk-toggleable__control:checked~label.sk-toggleable__label {background-color: #d4ebff;}#sk-container-id-2 div.sk-label input.sk-toggleable__control:checked~label.sk-toggleable__label {background-color: #d4ebff;}#sk-container-id-2 input.sk-hidden--visually {border: 0;clip: rect(1px 1px 1px 1px);clip: rect(1px, 1px, 1px, 1px);height: 1px;margin: -1px;overflow: hidden;padding: 0;position: absolute;width: 1px;}#sk-container-id-2 div.sk-estimator {font-family: monospace;background-color: #f0f8ff;border: 1px dotted black;border-radius: 0.25em;box-sizing: border-box;margin-bottom: 0.5em;}#sk-container-id-2 div.sk-estimator:hover {background-color: #d4ebff;}#sk-container-id-2 div.sk-parallel-item::after {content: \"\";width: 100%;border-bottom: 1px solid gray;flex-grow: 1;}#sk-container-id-2 div.sk-label:hover label.sk-toggleable__label {background-color: #d4ebff;}#sk-container-id-2 div.sk-serial::before {content: \"\";position: absolute;border-left: 1px solid gray;box-sizing: border-box;top: 0;bottom: 0;left: 50%;z-index: 0;}#sk-container-id-2 div.sk-serial {display: flex;flex-direction: column;align-items: center;background-color: white;padding-right: 0.2em;padding-left: 0.2em;position: relative;}#sk-container-id-2 div.sk-item {position: relative;z-index: 1;}#sk-container-id-2 div.sk-parallel {display: flex;align-items: stretch;justify-content: center;background-color: white;position: relative;}#sk-container-id-2 div.sk-item::before, #sk-container-id-2 div.sk-parallel-item::before {content: \"\";position: absolute;border-left: 1px solid gray;box-sizing: border-box;top: 0;bottom: 0;left: 50%;z-index: -1;}#sk-container-id-2 div.sk-parallel-item {display: flex;flex-direction: column;z-index: 1;position: relative;background-color: white;}#sk-container-id-2 div.sk-parallel-item:first-child::after {align-self: flex-end;width: 50%;}#sk-container-id-2 div.sk-parallel-item:last-child::after {align-self: flex-start;width: 50%;}#sk-container-id-2 div.sk-parallel-item:only-child::after {width: 0;}#sk-container-id-2 div.sk-dashed-wrapped {border: 1px dashed gray;margin: 0 0.4em 0.5em 0.4em;box-sizing: border-box;padding-bottom: 0.4em;background-color: white;}#sk-container-id-2 div.sk-label label {font-family: monospace;font-weight: bold;display: inline-block;line-height: 1.2em;}#sk-container-id-2 div.sk-label-container {text-align: center;}#sk-container-id-2 div.sk-container {/* jupyter's `normalize.less` sets `[hidden] { display: none; }` but bootstrap.min.css set `[hidden] { display: none !important; }` so we also need the `!important` here to be able to override the default hidden behavior on the sphinx rendered scikit-learn.org. See: https://github.com/scikit-learn/scikit-learn/issues/21755 */display: inline-block !important;position: relative;}#sk-container-id-2 div.sk-text-repr-fallback {display: none;}</style><div id=\"sk-container-id-2\" class=\"sk-top-container\"><div class=\"sk-text-repr-fallback\"><pre>LogisticRegression(class_weight=&#x27;balanced&#x27;, random_state=30)</pre><b>In a Jupyter environment, please rerun this cell to show the HTML representation or trust the notebook. <br />On GitHub, the HTML representation is unable to render, please try loading this page with nbviewer.org.</b></div><div class=\"sk-container\" hidden><div class=\"sk-item\"><div class=\"sk-estimator sk-toggleable\"><input class=\"sk-toggleable__control sk-hidden--visually\" id=\"sk-estimator-id-2\" type=\"checkbox\" checked><label for=\"sk-estimator-id-2\" class=\"sk-toggleable__label sk-toggleable__label-arrow\">LogisticRegression</label><div class=\"sk-toggleable__content\"><pre>LogisticRegression(class_weight=&#x27;balanced&#x27;, random_state=30)</pre></div></div></div></div></div>"
      ],
      "text/plain": [
       "LogisticRegression(class_weight='balanced', random_state=30)"
      ]
     },
     "execution_count": 176,
     "metadata": {},
     "output_type": "execute_result"
    }
   ],
   "source": [
    "from sklearn.linear_model import LogisticRegression\n",
    "clf_lr1 = LogisticRegression(class_weight = 'balanced', solver = 'lbfgs', random_state=30)\n",
    "clf_lr1.fit(X_train, y_train)"
   ]
  },
  {
   "cell_type": "code",
   "execution_count": 199,
   "id": "4f0144a7",
   "metadata": {},
   "outputs": [
    {
     "name": "stdout",
     "output_type": "stream",
     "text": [
      "Accuracy:\n",
      "**************************************************\n",
      "TRAIN: 0.4858585858585859\n",
      "TEST: 0.49107744107744106\n",
      "\n",
      "Balanced Accuracy:\n",
      "**************************************************\n",
      "TRAIN: 0.47277359029364857\n",
      "TEST: 0.47372617664030797\n"
     ]
    }
   ],
   "source": [
    "# making prediction on train set\n",
    "y_pred_train = clf_lr1.predict(X_train)\n",
    "\n",
    "# making predictions on test set\n",
    "y_pred_test = clf_lr1.predict(X_test)\n",
    "\n",
    "# printing the result\n",
    "print(\"Accuracy:\")\n",
    "print(\"*\"*50)\n",
    "print(\"TRAIN:\", accuracy_score(y_train, y_pred_train))\n",
    "print(\"TEST:\", accuracy_score(y_test, y_pred_test))\n",
    "\n",
    "\n",
    "print(\"\\nBalanced Accuracy:\")\n",
    "print(\"*\"*50)\n",
    "print(\"TRAIN:\", balanced_accuracy_score(y_train, y_pred_train))\n",
    "print(\"TEST:\", balanced_accuracy_score(y_test, y_pred_test))"
   ]
  },
  {
   "cell_type": "markdown",
   "id": "2d435e54",
   "metadata": {},
   "source": [
    "#### 4.5 Modeling without 'amount_tsh'"
   ]
  },
  {
   "cell_type": "code",
   "execution_count": 185,
   "id": "d55a46fe",
   "metadata": {},
   "outputs": [],
   "source": [
    "numerical_features1 = ['gps_height','longitude', 'latitude', 'district_code','population','operational_year']"
   ]
  },
  {
   "cell_type": "code",
   "execution_count": 180,
   "id": "25c98dc0",
   "metadata": {},
   "outputs": [],
   "source": [
    "df3 = df1.copy() #creating copy of dataset"
   ]
  },
  {
   "cell_type": "code",
   "execution_count": 181,
   "id": "4919441b",
   "metadata": {},
   "outputs": [],
   "source": [
    "y1=df3['status_group']\n",
    "X1 = df3.drop(columns = ['status_group', 'id','amount_tsh'])"
   ]
  },
  {
   "cell_type": "code",
   "execution_count": 182,
   "id": "3cb4aa5a",
   "metadata": {},
   "outputs": [],
   "source": [
    "from sklearn.model_selection import train_test_split\n",
    "X_train1, X_test1, y_train1, y_test1 = train_test_split(X1, y1, test_size=0.2, random_state=35)"
   ]
  },
  {
   "cell_type": "code",
   "execution_count": 186,
   "id": "9f470169",
   "metadata": {},
   "outputs": [],
   "source": [
    "transformer1 = RobustScaler().fit(X_train1[numerical_features1])"
   ]
  },
  {
   "cell_type": "code",
   "execution_count": 188,
   "id": "916a4094",
   "metadata": {},
   "outputs": [],
   "source": [
    "X_train1[numerical_features1] = transformer1.transform(X_train1[numerical_features1])\n",
    "X_test1[numerical_features1] = transformer1.transform(X_test1[numerical_features1])"
   ]
  },
  {
   "cell_type": "code",
   "execution_count": 189,
   "id": "9d3a9421",
   "metadata": {},
   "outputs": [],
   "source": [
    "import category_encoders as ce\n",
    "transformer_te1 = ce.TargetEncoder().fit(X_train1[categorical_features], y_train1)"
   ]
  },
  {
   "cell_type": "code",
   "execution_count": 190,
   "id": "78e27f79",
   "metadata": {},
   "outputs": [],
   "source": [
    "X_train1[categorical_features] = transformer_te1.transform(X_train1[categorical_features])\n",
    "X_test1[categorical_features] = transformer_te1.transform(X_test1[categorical_features])"
   ]
  },
  {
   "cell_type": "code",
   "execution_count": 191,
   "id": "963cfa07",
   "metadata": {},
   "outputs": [
    {
     "data": {
      "text/html": [
       "<style>#sk-container-id-3 {color: black;background-color: white;}#sk-container-id-3 pre{padding: 0;}#sk-container-id-3 div.sk-toggleable {background-color: white;}#sk-container-id-3 label.sk-toggleable__label {cursor: pointer;display: block;width: 100%;margin-bottom: 0;padding: 0.3em;box-sizing: border-box;text-align: center;}#sk-container-id-3 label.sk-toggleable__label-arrow:before {content: \"▸\";float: left;margin-right: 0.25em;color: #696969;}#sk-container-id-3 label.sk-toggleable__label-arrow:hover:before {color: black;}#sk-container-id-3 div.sk-estimator:hover label.sk-toggleable__label-arrow:before {color: black;}#sk-container-id-3 div.sk-toggleable__content {max-height: 0;max-width: 0;overflow: hidden;text-align: left;background-color: #f0f8ff;}#sk-container-id-3 div.sk-toggleable__content pre {margin: 0.2em;color: black;border-radius: 0.25em;background-color: #f0f8ff;}#sk-container-id-3 input.sk-toggleable__control:checked~div.sk-toggleable__content {max-height: 200px;max-width: 100%;overflow: auto;}#sk-container-id-3 input.sk-toggleable__control:checked~label.sk-toggleable__label-arrow:before {content: \"▾\";}#sk-container-id-3 div.sk-estimator input.sk-toggleable__control:checked~label.sk-toggleable__label {background-color: #d4ebff;}#sk-container-id-3 div.sk-label input.sk-toggleable__control:checked~label.sk-toggleable__label {background-color: #d4ebff;}#sk-container-id-3 input.sk-hidden--visually {border: 0;clip: rect(1px 1px 1px 1px);clip: rect(1px, 1px, 1px, 1px);height: 1px;margin: -1px;overflow: hidden;padding: 0;position: absolute;width: 1px;}#sk-container-id-3 div.sk-estimator {font-family: monospace;background-color: #f0f8ff;border: 1px dotted black;border-radius: 0.25em;box-sizing: border-box;margin-bottom: 0.5em;}#sk-container-id-3 div.sk-estimator:hover {background-color: #d4ebff;}#sk-container-id-3 div.sk-parallel-item::after {content: \"\";width: 100%;border-bottom: 1px solid gray;flex-grow: 1;}#sk-container-id-3 div.sk-label:hover label.sk-toggleable__label {background-color: #d4ebff;}#sk-container-id-3 div.sk-serial::before {content: \"\";position: absolute;border-left: 1px solid gray;box-sizing: border-box;top: 0;bottom: 0;left: 50%;z-index: 0;}#sk-container-id-3 div.sk-serial {display: flex;flex-direction: column;align-items: center;background-color: white;padding-right: 0.2em;padding-left: 0.2em;position: relative;}#sk-container-id-3 div.sk-item {position: relative;z-index: 1;}#sk-container-id-3 div.sk-parallel {display: flex;align-items: stretch;justify-content: center;background-color: white;position: relative;}#sk-container-id-3 div.sk-item::before, #sk-container-id-3 div.sk-parallel-item::before {content: \"\";position: absolute;border-left: 1px solid gray;box-sizing: border-box;top: 0;bottom: 0;left: 50%;z-index: -1;}#sk-container-id-3 div.sk-parallel-item {display: flex;flex-direction: column;z-index: 1;position: relative;background-color: white;}#sk-container-id-3 div.sk-parallel-item:first-child::after {align-self: flex-end;width: 50%;}#sk-container-id-3 div.sk-parallel-item:last-child::after {align-self: flex-start;width: 50%;}#sk-container-id-3 div.sk-parallel-item:only-child::after {width: 0;}#sk-container-id-3 div.sk-dashed-wrapped {border: 1px dashed gray;margin: 0 0.4em 0.5em 0.4em;box-sizing: border-box;padding-bottom: 0.4em;background-color: white;}#sk-container-id-3 div.sk-label label {font-family: monospace;font-weight: bold;display: inline-block;line-height: 1.2em;}#sk-container-id-3 div.sk-label-container {text-align: center;}#sk-container-id-3 div.sk-container {/* jupyter's `normalize.less` sets `[hidden] { display: none; }` but bootstrap.min.css set `[hidden] { display: none !important; }` so we also need the `!important` here to be able to override the default hidden behavior on the sphinx rendered scikit-learn.org. See: https://github.com/scikit-learn/scikit-learn/issues/21755 */display: inline-block !important;position: relative;}#sk-container-id-3 div.sk-text-repr-fallback {display: none;}</style><div id=\"sk-container-id-3\" class=\"sk-top-container\"><div class=\"sk-text-repr-fallback\"><pre>LogisticRegression(class_weight=&#x27;balanced&#x27;, random_state=30)</pre><b>In a Jupyter environment, please rerun this cell to show the HTML representation or trust the notebook. <br />On GitHub, the HTML representation is unable to render, please try loading this page with nbviewer.org.</b></div><div class=\"sk-container\" hidden><div class=\"sk-item\"><div class=\"sk-estimator sk-toggleable\"><input class=\"sk-toggleable__control sk-hidden--visually\" id=\"sk-estimator-id-3\" type=\"checkbox\" checked><label for=\"sk-estimator-id-3\" class=\"sk-toggleable__label sk-toggleable__label-arrow\">LogisticRegression</label><div class=\"sk-toggleable__content\"><pre>LogisticRegression(class_weight=&#x27;balanced&#x27;, random_state=30)</pre></div></div></div></div></div>"
      ],
      "text/plain": [
       "LogisticRegression(class_weight='balanced', random_state=30)"
      ]
     },
     "execution_count": 191,
     "metadata": {},
     "output_type": "execute_result"
    }
   ],
   "source": [
    "from sklearn.linear_model import LogisticRegression\n",
    "clf_lr2 = LogisticRegression(class_weight = 'balanced', solver = 'lbfgs', random_state=30)\n",
    "clf_lr2.fit(X_train1, y_train1)"
   ]
  },
  {
   "cell_type": "code",
   "execution_count": 200,
   "id": "e3d4fc7f",
   "metadata": {},
   "outputs": [
    {
     "name": "stdout",
     "output_type": "stream",
     "text": [
      "Accuracy:\n",
      "**************************************************\n",
      "TRAIN: 0.6254208754208754\n",
      "TEST: 0.6262626262626263\n",
      "\n",
      "Balanced Accuracy:\n",
      "**************************************************\n",
      "TRAIN: 0.607809164357186\n",
      "TEST: 0.6043859306810534\n"
     ]
    }
   ],
   "source": [
    "# making prediction on train set\n",
    "y_pred_train1 = clf_lr2.predict(X_train1)\n",
    "\n",
    "# making predictions on test set\n",
    "y_pred_test1 = clf_lr2.predict(X_test1)\n",
    "\n",
    "# printing the result\n",
    "print(\"Accuracy:\")\n",
    "print(\"*\"*50)\n",
    "print(\"TRAIN:\", accuracy_score(y_train1, y_pred_train1))\n",
    "print(\"TEST:\", accuracy_score(y_test1, y_pred_test1))\n",
    "\n",
    "\n",
    "print(\"\\nBalanced Accuracy:\")\n",
    "print(\"*\"*50)\n",
    "print(\"TRAIN:\", balanced_accuracy_score(y_train1, y_pred_train1))\n",
    "print(\"TEST:\", balanced_accuracy_score(y_test1, y_pred_test1))"
   ]
  },
  {
   "cell_type": "markdown",
   "id": "1d80e7d1",
   "metadata": {},
   "source": [
    "From above result it is understood that accuracy has improved after removing the feature 'amount_tsh'. Hence we conclude that it is not adding any value in prediction and hence should be removed."
   ]
  },
  {
   "cell_type": "code",
   "execution_count": null,
   "id": "0018a57e",
   "metadata": {},
   "outputs": [],
   "source": []
  }
 ],
 "metadata": {
  "kernelspec": {
   "display_name": "Python 3 (ipykernel)",
   "language": "python",
   "name": "python3"
  },
  "language_info": {
   "codemirror_mode": {
    "name": "ipython",
    "version": 3
   },
   "file_extension": ".py",
   "mimetype": "text/x-python",
   "name": "python",
   "nbconvert_exporter": "python",
   "pygments_lexer": "ipython3",
   "version": "3.9.16"
  }
 },
 "nbformat": 4,
 "nbformat_minor": 5
}
