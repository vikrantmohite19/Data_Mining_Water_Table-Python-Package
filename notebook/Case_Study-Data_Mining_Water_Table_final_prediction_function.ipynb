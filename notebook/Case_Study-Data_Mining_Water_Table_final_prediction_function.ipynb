{
 "cells": [
  {
   "cell_type": "markdown",
   "id": "72827876",
   "metadata": {},
   "source": [
    "# Section-V- Self Case Study-1_Pump it up-Data Mining the Water Table"
   ]
  },
  {
   "cell_type": "markdown",
   "id": "d7088572",
   "metadata": {},
   "source": [
    "## 7. Creating a function for predicting the result of test dataset"
   ]
  },
  {
   "cell_type": "code",
   "execution_count": 16,
   "id": "d407684f",
   "metadata": {},
   "outputs": [],
   "source": [
    "import pandas as pd\n",
    "import matplotlib.pyplot as plt\n",
    "%matplotlib inline  \n",
    "import re\n",
    "import time\n",
    "import warnings\n",
    "warnings.filterwarnings(\"ignore\")\n",
    "import numpy as np\n",
    "from nltk.corpus import stopwords\n",
    "from sklearn.preprocessing import normalize\n",
    "from sklearn.feature_extraction.text import CountVectorizer\n",
    "from sklearn.manifold import TSNE\n",
    "import seaborn as sns\n",
    "from sklearn.neighbors import KNeighborsClassifier\n",
    "from sklearn.metrics import confusion_matrix\n",
    "import sys\n",
    "from category_encoders import OneHotEncoder\n",
    "from sklearn.preprocessing import MinMaxScaler\n",
    "from category_encoders import TargetEncoder, LeaveOneOutEncoder, WOEEncoder\n",
    "from sklearn.preprocessing import RobustScaler\n",
    "from sklearn.metrics import accuracy_score, balanced_accuracy_score\n",
    "from sklearn.metrics import confusion_matrix\n",
    "from sklearn.model_selection import train_test_split\n",
    "from xgboost import XGBClassifier\n",
    "from prettytable import PrettyTable\n",
    "import category_encoders as ce\n",
    "from imblearn.over_sampling import SMOTE\n",
    "from xgboost import XGBClassifier\n",
    "from sklearn.metrics import f1_score\n",
    "from sklearn.metrics import roc_auc_score\n",
    "import joblib"
   ]
  },
  {
   "cell_type": "code",
   "execution_count": 17,
   "id": "2d1a866b",
   "metadata": {},
   "outputs": [],
   "source": [
    "df_test = pd.read_csv(\"test.csv\")"
   ]
  },
  {
   "cell_type": "code",
   "execution_count": 19,
   "id": "71596de4",
   "metadata": {},
   "outputs": [],
   "source": [
    "def DMWT_preprocessor(df):\n",
    "    df['funder'].fillna(value='Undefined',inplace=True) \n",
    "    df['funder'].replace(to_replace = '0', value ='Undefined' , inplace=True) #replacing '0' & missing values with 'Undefined'\n",
    "    top_30_funders = ['Government Of Tanzania','Undefined','Danida','Hesawa','Rwssp','World Bank','Kkkt','World Vision',\n",
    "                      'Unicef','Tasaf','District Council','Dhv','Private Individual','Dwsp','Norad','Germany Republi',\n",
    "                      'Tcrs','Ministry Of Water','Water','Dwe','Netherlands','Hifab','Adb','Lga','Amref','Fini Water',\n",
    "                      'Oxfam','Wateraid','Rc Church','Isf']\n",
    "    df.loc[~df[\"funder\"].isin(top_30_funders), \"funder\"] = \"other\"\n",
    "    \n",
    "    df['installer'].fillna(value='Undefined',inplace=True) \n",
    "    df['installer'].replace(to_replace = '0', value ='Undefined' , inplace=True) #replacing '0' category with 'Undefined'\n",
    "\n",
    "\n",
    "    df['installer'].replace(to_replace = (\"Gove\",\"Gover\",\"GOVERM\", \"GOVERN\", \"GOVERNME\", \"Governmen\",\"Government\",\n",
    "                                          \"GOVER\"), value =\"Government\", inplace=True)\n",
    "    df['installer'].replace(to_replace = (\"RW\",\"RWE\",\"RWE /Community\",\"RWE Community\",\"RWE/ Community\",\"RWE/Community\",\n",
    "                                          \"RWE/DWE\",\"RWE/TCRS\",\"RWEDWE\",\"RWET/WESA\"), value =\"RWE\", inplace=True)\n",
    "    df['installer'].replace(to_replace = (\"Commu\", \"Communit\", \"Community\", \"COMMUNITY BANK\",\n",
    "                                          \"Comunity\"), value =\"Community\", inplace=True)\n",
    "    df['installer'].replace(to_replace = (\"Danda\",\"DANIAD\",\"Danid\",\"DANIDA\",\"DANIDA CO\",\"DANIDS\",\"DANNIDA\",\n",
    "                                          \"DANID\"), value =\"DANIDA\", inplace=True)\n",
    "    df['installer'].replace(to_replace = (\"Cebtral Government\",\"Cental Government\",\"Centr\",\"Centra Government\",\"Centra govt\",\n",
    "                                          \"Central government\",\"Central govt\",\"Cetral government /RC\",\"Tanzania Government\",\n",
    "                                          \"TANZANIAN GOVERNMENT\"), value =\"Central Government\", inplace=True)\n",
    "    df['installer'].replace(to_replace = (\"COUN\",\"Counc\",\"Council\",\"Distri\",\"District  Council\",\n",
    "                                          \"District Community j\",\"District Counci\", \"District council\",\n",
    "                                          \"District Council\"), value =\"District Council\", inplace=True)\n",
    "    df['installer'].replace(to_replace = (\"Hesawa\",\"HESAW\",\"Hesewa\",\"HESAWA\"),value ='HESAWA' , inplace=True)\n",
    "    df['installer'].replace(to_replace = (\"World Division\",\"World Visiin\",\"World vision\",\"World Vission\",\n",
    "                                          \"World Vision\"),value ='World Vision' , inplace=True)\n",
    "    df['installer'].replace(to_replace = (\"Distric Water Department\",\"District Water Department\",\n",
    "                                          \"District water depar\",\"District water department\",\n",
    "                                          \"Water Department\"),value ='District water department' , inplace=True)\n",
    "    df['installer'].replace(to_replace = (\"FINN WATER\",\"FinW\",\"FinWate\",\"FinWater\",\"Fini water\",\n",
    "                                          \"Fini Water\" ),value ='Fini Water' , inplace=True)\n",
    "    df['installer'].replace(to_replace = (\"RC\",\"RC .Church\",\"RC C\",\"RC Ch\",\"RC Churc\",\"RC Church\",\n",
    "                                          \"RC CHURCH BROTHER\",\"RC church/CEFA\",\"RC church/Central Gover\",\n",
    "                                          \"RCchurch/CEFA\",\"RC CHURCH\"),value =\"RC Church\" , inplace=True)\n",
    "    df['installer'].replace(to_replace = (\"Villa\",\"VILLAGER\",\"Villagerd\",\"Villagers\",\"Villages\",\"Villege Council\",\n",
    "                                          \"Villi\",\"villigers\"),value =\"Villagers\" , inplace=True)\n",
    "\n",
    "\n",
    "    top_30_installer = [\"DWE\",\"Undefined\",\"Government\",\"DANIDA\",\"Community\",\"HESAWA\",\"RWE\",\"District Council\",\n",
    "                        \"Central Government\",\"KKKT\",\"TCRS\",\"World Vision\",\"CES\",\"Fini Water\",\"RC Church\",\"LGA\",\n",
    "                        \"WEDECO\",\"TASAF\",\"AMREF\",\"TWESA\",\"WU\",\"Dmdd\",\"ACRA\",\"Villagers\",\"SEMA\",\"DW\",\"OXFAM\",\"Da\",\n",
    "                        \"Idara ya maji\",\"UNICEF\"]\n",
    "\n",
    "\n",
    "    df.loc[~df[\"installer\"].isin(top_30_installer), \"installer\"] = \"other\"\n",
    "    \n",
    "    df['longitude'].replace(to_replace = 0 , value =34.07742669202832 , inplace=True)\n",
    "    df['population'].replace(to_replace = 0, value = 281.087167 , inplace=True)\n",
    "    df['construction_year'].replace(to_replace = 0, value = 1996, inplace=True)\n",
    "    df['date_recorded'] = pd.to_datetime(df['date_recorded']) #converting dates to 'datetime' datatype \n",
    "    df['operational_year'] = df.date_recorded.dt.year - df.construction_year\n",
    "    df.operational_year.head(5)\n",
    "    df.loc[df['operational_year']<0, 'operational_year'] = 0\n",
    "    \n",
    "    df.drop(columns=[\"construction_year\", \"date_recorded\",\"extraction_type\", \"extraction_type_class\",'payment_type',\n",
    "                \"quality_group\", \"quantity_group\",\"source_type\", \"source_class\",\"waterpoint_type_group\",'permit',\n",
    "                \"scheme_management\", 'id', 'amount_tsh','ward','wpt_name', 'num_private','subvillage','region_code',\n",
    "                'public_meeting','recorded_by','management_group','scheme_name'], inplace=True)\n",
    "    \n",
    "    #encoding target variables manualy \n",
    "\n",
    "    numerical_features = ['gps_height','longitude', 'latitude', 'district_code','population', 'operational_year']\n",
    "    categorical_features = ['funder','installer','basin', 'region', 'lga', 'extraction_type_group','management', \n",
    "                            'payment', 'water_quality', 'quantity', 'source','waterpoint_type']\n",
    "    \n",
    "    scaler = joblib.load('scaler.pkl')\n",
    "    df[numerical_features] = scaler.transform(df[numerical_features])\n",
    "\n",
    "    encoder = joblib.load('encoder.pkl')\n",
    "    df[categorical_features] = encoder.transform(df[categorical_features])\n",
    "\n",
    "    \n",
    "    return df "
   ]
  },
  {
   "cell_type": "code",
   "execution_count": 20,
   "id": "243667ae",
   "metadata": {},
   "outputs": [],
   "source": [
    "def DMWT_prediction(df):\n",
    "    df = DMWT_preprocessor(df)\n",
    "    model = joblib.load('model.pkl')\n",
    "\n",
    "    y_pred = model.predict(df)\n",
    "    y_pred_train_proba = model.predict_proba(df)\n",
    "    \n",
    "    return y_pred, y_pred_train_proba"
   ]
  },
  {
   "cell_type": "code",
   "execution_count": 21,
   "id": "8e8077c3",
   "metadata": {},
   "outputs": [
    {
     "data": {
      "text/plain": [
       "(array([1, 1, 1, ..., 1, 1, 0], dtype=int64),\n",
       " array([[0.24287999, 0.72248787, 0.03463215],\n",
       "        [0.2529064 , 0.5026612 , 0.2444323 ],\n",
       "        [0.03922484, 0.878787  , 0.08198813],\n",
       "        ...,\n",
       "        [0.22526748, 0.7267688 , 0.04796375],\n",
       "        [0.06310199, 0.8525588 , 0.08433919],\n",
       "        [0.9881142 , 0.01067844, 0.00120742]], dtype=float32))"
      ]
     },
     "execution_count": 21,
     "metadata": {},
     "output_type": "execute_result"
    }
   ],
   "source": [
    "DMWT_prediction(df_test)"
   ]
  },
  {
   "cell_type": "code",
   "execution_count": null,
   "id": "6d103f47",
   "metadata": {},
   "outputs": [],
   "source": []
  }
 ],
 "metadata": {
  "kernelspec": {
   "display_name": "Python 3 (ipykernel)",
   "language": "python",
   "name": "python3"
  },
  "language_info": {
   "codemirror_mode": {
    "name": "ipython",
    "version": 3
   },
   "file_extension": ".py",
   "mimetype": "text/x-python",
   "name": "python",
   "nbconvert_exporter": "python",
   "pygments_lexer": "ipython3",
   "version": "3.8.12"
  }
 },
 "nbformat": 4,
 "nbformat_minor": 5
}
