{
 "cells": [
  {
   "cell_type": "markdown",
   "id": "2da26517",
   "metadata": {},
   "source": [
    "# Section-III- Self Case Study-1_Pump it up-Data Mining the Water Table"
   ]
  },
  {
   "cell_type": "markdown",
   "id": "a29a73f2",
   "metadata": {},
   "source": [
    "## 5. Modeling"
   ]
  },
  {
   "cell_type": "markdown",
   "id": "741fbce3",
   "metadata": {},
   "source": [
    "In this notebook, we will try various models and assess their performance to decide upon the best model. "
   ]
  },
  {
   "cell_type": "markdown",
   "id": "b1cb9558",
   "metadata": {},
   "source": [
    "### 5.1 Importing required libraries & reading data"
   ]
  },
  {
   "cell_type": "code",
   "execution_count": 2,
   "id": "ec172f44",
   "metadata": {},
   "outputs": [],
   "source": [
    "import pandas as pd\n",
    "import matplotlib.pyplot as plt\n",
    "%matplotlib inline  \n",
    "import re\n",
    "import time\n",
    "import warnings\n",
    "warnings.filterwarnings(\"ignore\")\n",
    "import numpy as np\n",
    "from nltk.corpus import stopwords\n",
    "from sklearn.preprocessing import normalize\n",
    "from sklearn.feature_extraction.text import CountVectorizer\n",
    "from sklearn.manifold import TSNE\n",
    "import seaborn as sns\n",
    "from sklearn.neighbors import KNeighborsClassifier\n",
    "from sklearn.metrics import confusion_matrix\n",
    "import sys\n",
    "from category_encoders import OneHotEncoder\n",
    "from sklearn.preprocessing import MinMaxScaler\n",
    "from category_encoders import TargetEncoder, LeaveOneOutEncoder, WOEEncoder\n",
    "from sklearn.preprocessing import RobustScaler\n",
    "from sklearn.metrics import accuracy_score, balanced_accuracy_score\n",
    "from sklearn.metrics import confusion_matrix"
   ]
  },
  {
   "cell_type": "code",
   "execution_count": 7,
   "id": "3bb3a6c3",
   "metadata": {},
   "outputs": [],
   "source": [
    "df = pd.read_csv('clean_df.csv')"
   ]
  },
  {
   "cell_type": "code",
   "execution_count": 13,
   "id": "13391250",
   "metadata": {},
   "outputs": [
    {
     "data": {
      "text/html": [
       "<div>\n",
       "<style scoped>\n",
       "    .dataframe tbody tr th:only-of-type {\n",
       "        vertical-align: middle;\n",
       "    }\n",
       "\n",
       "    .dataframe tbody tr th {\n",
       "        vertical-align: top;\n",
       "    }\n",
       "\n",
       "    .dataframe thead th {\n",
       "        text-align: right;\n",
       "    }\n",
       "</style>\n",
       "<table border=\"1\" class=\"dataframe\">\n",
       "  <thead>\n",
       "    <tr style=\"text-align: right;\">\n",
       "      <th></th>\n",
       "      <th>Unnamed: 0</th>\n",
       "      <th>id</th>\n",
       "      <th>amount_tsh</th>\n",
       "      <th>funder</th>\n",
       "      <th>gps_height</th>\n",
       "      <th>installer</th>\n",
       "      <th>longitude</th>\n",
       "      <th>latitude</th>\n",
       "      <th>basin</th>\n",
       "      <th>region</th>\n",
       "      <th>district_code</th>\n",
       "      <th>lga</th>\n",
       "      <th>population</th>\n",
       "      <th>public_meeting</th>\n",
       "      <th>permit</th>\n",
       "      <th>extraction_type_group</th>\n",
       "      <th>management</th>\n",
       "      <th>payment</th>\n",
       "      <th>water_quality</th>\n",
       "      <th>quantity</th>\n",
       "      <th>source</th>\n",
       "      <th>status_group</th>\n",
       "      <th>operational_year</th>\n",
       "      <th>waterpoint_type</th>\n",
       "    </tr>\n",
       "  </thead>\n",
       "  <tbody>\n",
       "    <tr>\n",
       "      <th>0</th>\n",
       "      <td>0</td>\n",
       "      <td>69572</td>\n",
       "      <td>6000.0</td>\n",
       "      <td>other</td>\n",
       "      <td>1390</td>\n",
       "      <td>other</td>\n",
       "      <td>34.938093</td>\n",
       "      <td>-9.856322</td>\n",
       "      <td>Lake Nyasa</td>\n",
       "      <td>Iringa</td>\n",
       "      <td>5</td>\n",
       "      <td>Ludewa</td>\n",
       "      <td>109.0</td>\n",
       "      <td>True</td>\n",
       "      <td>False</td>\n",
       "      <td>gravity</td>\n",
       "      <td>vwc</td>\n",
       "      <td>pay annually</td>\n",
       "      <td>soft</td>\n",
       "      <td>enough</td>\n",
       "      <td>spring</td>\n",
       "      <td>functional</td>\n",
       "      <td>12</td>\n",
       "      <td>communal standpipe</td>\n",
       "    </tr>\n",
       "    <tr>\n",
       "      <th>1</th>\n",
       "      <td>1</td>\n",
       "      <td>8776</td>\n",
       "      <td>0.0</td>\n",
       "      <td>other</td>\n",
       "      <td>1399</td>\n",
       "      <td>other</td>\n",
       "      <td>34.698766</td>\n",
       "      <td>-2.147466</td>\n",
       "      <td>Lake Victoria</td>\n",
       "      <td>Mara</td>\n",
       "      <td>2</td>\n",
       "      <td>Serengeti</td>\n",
       "      <td>280.0</td>\n",
       "      <td>True</td>\n",
       "      <td>True</td>\n",
       "      <td>gravity</td>\n",
       "      <td>wug</td>\n",
       "      <td>never pay</td>\n",
       "      <td>soft</td>\n",
       "      <td>insufficient</td>\n",
       "      <td>rainwater harvesting</td>\n",
       "      <td>functional</td>\n",
       "      <td>3</td>\n",
       "      <td>communal standpipe</td>\n",
       "    </tr>\n",
       "  </tbody>\n",
       "</table>\n",
       "</div>"
      ],
      "text/plain": [
       "   Unnamed: 0     id  amount_tsh funder  gps_height installer  longitude  \\\n",
       "0           0  69572      6000.0  other        1390     other  34.938093   \n",
       "1           1   8776         0.0  other        1399     other  34.698766   \n",
       "\n",
       "   latitude          basin  region  district_code        lga  population  \\\n",
       "0 -9.856322     Lake Nyasa  Iringa              5     Ludewa       109.0   \n",
       "1 -2.147466  Lake Victoria    Mara              2  Serengeti       280.0   \n",
       "\n",
       "   public_meeting  permit extraction_type_group management       payment  \\\n",
       "0            True   False               gravity        vwc  pay annually   \n",
       "1            True    True               gravity        wug     never pay   \n",
       "\n",
       "  water_quality      quantity                source status_group  \\\n",
       "0          soft        enough                spring   functional   \n",
       "1          soft  insufficient  rainwater harvesting   functional   \n",
       "\n",
       "   operational_year     waterpoint_type  \n",
       "0                12  communal standpipe  \n",
       "1                 3  communal standpipe  "
      ]
     },
     "execution_count": 13,
     "metadata": {},
     "output_type": "execute_result"
    }
   ],
   "source": [
    "pd.set_option('display.max_columns', None)\n",
    "df.head(2)"
   ]
  },
  {
   "cell_type": "markdown",
   "id": "3ef0120b",
   "metadata": {},
   "source": [
    "In previous notebook (section-II), we have checked the baseline model performance using above features. Baseline model was run with and without feature 'amount_tsh' which has nearly 70% values as zero. It was found that removal of 'amount_tsh' improved the performace. "
   ]
  },
  {
   "cell_type": "code",
   "execution_count": 14,
   "id": "83317b35",
   "metadata": {},
   "outputs": [],
   "source": [
    "df1 = df.copy() #creating copy of df"
   ]
  },
  {
   "cell_type": "code",
   "execution_count": 15,
   "id": "0667e679",
   "metadata": {},
   "outputs": [],
   "source": [
    "df1.drop(columns=['Unnamed: 0', 'amount_tsh', 'id' ],inplace=True ) # dropping unwanted columns"
   ]
  },
  {
   "cell_type": "code",
   "execution_count": 16,
   "id": "239427fc",
   "metadata": {},
   "outputs": [],
   "source": [
    "df1['permit'] = df1['permit'].astype(bool).astype(int) #converting True/Flse into 0/1\n",
    "df1['public_meeting'] = df1['public_meeting'].astype(bool).astype(int) #converting True/Flse into 0/1"
   ]
  },
  {
   "cell_type": "code",
   "execution_count": 19,
   "id": "0a456001",
   "metadata": {},
   "outputs": [
    {
     "data": {
      "text/html": [
       "<div>\n",
       "<style scoped>\n",
       "    .dataframe tbody tr th:only-of-type {\n",
       "        vertical-align: middle;\n",
       "    }\n",
       "\n",
       "    .dataframe tbody tr th {\n",
       "        vertical-align: top;\n",
       "    }\n",
       "\n",
       "    .dataframe thead th {\n",
       "        text-align: right;\n",
       "    }\n",
       "</style>\n",
       "<table border=\"1\" class=\"dataframe\">\n",
       "  <thead>\n",
       "    <tr style=\"text-align: right;\">\n",
       "      <th></th>\n",
       "      <th>funder</th>\n",
       "      <th>gps_height</th>\n",
       "      <th>installer</th>\n",
       "      <th>longitude</th>\n",
       "      <th>latitude</th>\n",
       "      <th>basin</th>\n",
       "      <th>region</th>\n",
       "      <th>district_code</th>\n",
       "      <th>lga</th>\n",
       "      <th>population</th>\n",
       "      <th>public_meeting</th>\n",
       "      <th>permit</th>\n",
       "      <th>extraction_type_group</th>\n",
       "      <th>management</th>\n",
       "      <th>payment</th>\n",
       "      <th>water_quality</th>\n",
       "      <th>quantity</th>\n",
       "      <th>source</th>\n",
       "      <th>status_group</th>\n",
       "      <th>operational_year</th>\n",
       "      <th>waterpoint_type</th>\n",
       "    </tr>\n",
       "  </thead>\n",
       "  <tbody>\n",
       "    <tr>\n",
       "      <th>0</th>\n",
       "      <td>other</td>\n",
       "      <td>1390</td>\n",
       "      <td>other</td>\n",
       "      <td>34.938093</td>\n",
       "      <td>-9.856322</td>\n",
       "      <td>Lake Nyasa</td>\n",
       "      <td>Iringa</td>\n",
       "      <td>5</td>\n",
       "      <td>Ludewa</td>\n",
       "      <td>109.0</td>\n",
       "      <td>1</td>\n",
       "      <td>0</td>\n",
       "      <td>gravity</td>\n",
       "      <td>vwc</td>\n",
       "      <td>pay annually</td>\n",
       "      <td>soft</td>\n",
       "      <td>enough</td>\n",
       "      <td>spring</td>\n",
       "      <td>1</td>\n",
       "      <td>12</td>\n",
       "      <td>communal standpipe</td>\n",
       "    </tr>\n",
       "  </tbody>\n",
       "</table>\n",
       "</div>"
      ],
      "text/plain": [
       "  funder  gps_height installer  longitude  latitude       basin  region  \\\n",
       "0  other        1390     other  34.938093 -9.856322  Lake Nyasa  Iringa   \n",
       "\n",
       "   district_code     lga  population  public_meeting  permit  \\\n",
       "0              5  Ludewa       109.0               1       0   \n",
       "\n",
       "  extraction_type_group management       payment water_quality quantity  \\\n",
       "0               gravity        vwc  pay annually          soft   enough   \n",
       "\n",
       "   source  status_group  operational_year     waterpoint_type  \n",
       "0  spring             1                12  communal standpipe  "
      ]
     },
     "execution_count": 19,
     "metadata": {},
     "output_type": "execute_result"
    }
   ],
   "source": [
    "df1.head(1)"
   ]
  },
  {
   "cell_type": "markdown",
   "id": "b7a4ece4",
   "metadata": {},
   "source": [
    "### 5.2 Encoding & Standardizaton of fearures using RobustScaler & TargetEncoder"
   ]
  },
  {
   "cell_type": "code",
   "execution_count": 17,
   "id": "cc70b7d9",
   "metadata": {},
   "outputs": [
    {
     "data": {
      "text/plain": [
       "1    32259\n",
       "0    22824\n",
       "2     4317\n",
       "Name: status_group, dtype: int64"
      ]
     },
     "execution_count": 17,
     "metadata": {},
     "output_type": "execute_result"
    }
   ],
   "source": [
    "#encoding target variables manualy \n",
    "numeric_target_values = {'functional':1, 'non functional':0, 'functional needs repair':2}\n",
    "df1['status_group'] = df1['status_group'].replace(numeric_target_values)\n",
    "df1['status_group'].value_counts()"
   ]
  },
  {
   "cell_type": "code",
   "execution_count": 18,
   "id": "3cb7a6c5",
   "metadata": {},
   "outputs": [],
   "source": [
    "numerical_features = ['gps_height','longitude', 'latitude', 'district_code','population', 'public_meeting',\n",
    "                      'permit','operational_year']\n",
    "categorical_features = ['funder','installer','basin', 'region', 'lga', 'extraction_type_group','management', \n",
    "                        'payment', 'water_quality', 'quantity', 'source','waterpoint_type']"
   ]
  },
  {
   "cell_type": "code",
   "execution_count": 20,
   "id": "a9b08714",
   "metadata": {},
   "outputs": [],
   "source": [
    "y=df1['status_group']\n",
    "X = df1.drop(columns = ['status_group'])"
   ]
  },
  {
   "cell_type": "code",
   "execution_count": 26,
   "id": "3b64adef",
   "metadata": {},
   "outputs": [],
   "source": [
    "from sklearn.model_selection import train_test_split\n",
    "X_train, X_test, y_train, y_test = train_test_split(X, y, test_size=0.2, random_state=40)"
   ]
  },
  {
   "cell_type": "code",
   "execution_count": 27,
   "id": "3aa93cd2",
   "metadata": {},
   "outputs": [],
   "source": [
    "import category_encoders as ce\n",
    "scaler1 = RobustScaler()\n",
    "encoder1 = ce.TargetEncoder()"
   ]
  },
  {
   "cell_type": "code",
   "execution_count": 28,
   "id": "33fc5f87",
   "metadata": {},
   "outputs": [],
   "source": [
    "transformer1 = scaler1.fit(X_train[numerical_features])\n",
    "\n",
    "X_train[numerical_features] = transformer1.transform(X_train[numerical_features])\n",
    "X_test[numerical_features] = transformer1.transform(X_test[numerical_features])"
   ]
  },
  {
   "cell_type": "code",
   "execution_count": 29,
   "id": "7ee1cd46",
   "metadata": {},
   "outputs": [],
   "source": [
    "transformer_te_1 = encoder1.fit(X_train[categorical_features], y_train)\n",
    "\n",
    "X_train[categorical_features] = transformer_te_1.transform(X_train[categorical_features])\n",
    "X_test[categorical_features] = transformer_te_1.transform(X_test[categorical_features])"
   ]
  },
  {
   "cell_type": "markdown",
   "id": "3c211aa6",
   "metadata": {},
   "source": [
    "#### 5.2.1 Applying Linear regression "
   ]
  },
  {
   "cell_type": "code",
   "execution_count": 30,
   "id": "720e3ae0",
   "metadata": {
    "scrolled": true
   },
   "outputs": [
    {
     "data": {
      "text/html": [
       "<style>#sk-container-id-1 {color: black;background-color: white;}#sk-container-id-1 pre{padding: 0;}#sk-container-id-1 div.sk-toggleable {background-color: white;}#sk-container-id-1 label.sk-toggleable__label {cursor: pointer;display: block;width: 100%;margin-bottom: 0;padding: 0.3em;box-sizing: border-box;text-align: center;}#sk-container-id-1 label.sk-toggleable__label-arrow:before {content: \"▸\";float: left;margin-right: 0.25em;color: #696969;}#sk-container-id-1 label.sk-toggleable__label-arrow:hover:before {color: black;}#sk-container-id-1 div.sk-estimator:hover label.sk-toggleable__label-arrow:before {color: black;}#sk-container-id-1 div.sk-toggleable__content {max-height: 0;max-width: 0;overflow: hidden;text-align: left;background-color: #f0f8ff;}#sk-container-id-1 div.sk-toggleable__content pre {margin: 0.2em;color: black;border-radius: 0.25em;background-color: #f0f8ff;}#sk-container-id-1 input.sk-toggleable__control:checked~div.sk-toggleable__content {max-height: 200px;max-width: 100%;overflow: auto;}#sk-container-id-1 input.sk-toggleable__control:checked~label.sk-toggleable__label-arrow:before {content: \"▾\";}#sk-container-id-1 div.sk-estimator input.sk-toggleable__control:checked~label.sk-toggleable__label {background-color: #d4ebff;}#sk-container-id-1 div.sk-label input.sk-toggleable__control:checked~label.sk-toggleable__label {background-color: #d4ebff;}#sk-container-id-1 input.sk-hidden--visually {border: 0;clip: rect(1px 1px 1px 1px);clip: rect(1px, 1px, 1px, 1px);height: 1px;margin: -1px;overflow: hidden;padding: 0;position: absolute;width: 1px;}#sk-container-id-1 div.sk-estimator {font-family: monospace;background-color: #f0f8ff;border: 1px dotted black;border-radius: 0.25em;box-sizing: border-box;margin-bottom: 0.5em;}#sk-container-id-1 div.sk-estimator:hover {background-color: #d4ebff;}#sk-container-id-1 div.sk-parallel-item::after {content: \"\";width: 100%;border-bottom: 1px solid gray;flex-grow: 1;}#sk-container-id-1 div.sk-label:hover label.sk-toggleable__label {background-color: #d4ebff;}#sk-container-id-1 div.sk-serial::before {content: \"\";position: absolute;border-left: 1px solid gray;box-sizing: border-box;top: 0;bottom: 0;left: 50%;z-index: 0;}#sk-container-id-1 div.sk-serial {display: flex;flex-direction: column;align-items: center;background-color: white;padding-right: 0.2em;padding-left: 0.2em;position: relative;}#sk-container-id-1 div.sk-item {position: relative;z-index: 1;}#sk-container-id-1 div.sk-parallel {display: flex;align-items: stretch;justify-content: center;background-color: white;position: relative;}#sk-container-id-1 div.sk-item::before, #sk-container-id-1 div.sk-parallel-item::before {content: \"\";position: absolute;border-left: 1px solid gray;box-sizing: border-box;top: 0;bottom: 0;left: 50%;z-index: -1;}#sk-container-id-1 div.sk-parallel-item {display: flex;flex-direction: column;z-index: 1;position: relative;background-color: white;}#sk-container-id-1 div.sk-parallel-item:first-child::after {align-self: flex-end;width: 50%;}#sk-container-id-1 div.sk-parallel-item:last-child::after {align-self: flex-start;width: 50%;}#sk-container-id-1 div.sk-parallel-item:only-child::after {width: 0;}#sk-container-id-1 div.sk-dashed-wrapped {border: 1px dashed gray;margin: 0 0.4em 0.5em 0.4em;box-sizing: border-box;padding-bottom: 0.4em;background-color: white;}#sk-container-id-1 div.sk-label label {font-family: monospace;font-weight: bold;display: inline-block;line-height: 1.2em;}#sk-container-id-1 div.sk-label-container {text-align: center;}#sk-container-id-1 div.sk-container {/* jupyter's `normalize.less` sets `[hidden] { display: none; }` but bootstrap.min.css set `[hidden] { display: none !important; }` so we also need the `!important` here to be able to override the default hidden behavior on the sphinx rendered scikit-learn.org. See: https://github.com/scikit-learn/scikit-learn/issues/21755 */display: inline-block !important;position: relative;}#sk-container-id-1 div.sk-text-repr-fallback {display: none;}</style><div id=\"sk-container-id-1\" class=\"sk-top-container\"><div class=\"sk-text-repr-fallback\"><pre>LogisticRegression(class_weight=&#x27;balanced&#x27;, random_state=30)</pre><b>In a Jupyter environment, please rerun this cell to show the HTML representation or trust the notebook. <br />On GitHub, the HTML representation is unable to render, please try loading this page with nbviewer.org.</b></div><div class=\"sk-container\" hidden><div class=\"sk-item\"><div class=\"sk-estimator sk-toggleable\"><input class=\"sk-toggleable__control sk-hidden--visually\" id=\"sk-estimator-id-1\" type=\"checkbox\" checked><label for=\"sk-estimator-id-1\" class=\"sk-toggleable__label sk-toggleable__label-arrow\">LogisticRegression</label><div class=\"sk-toggleable__content\"><pre>LogisticRegression(class_weight=&#x27;balanced&#x27;, random_state=30)</pre></div></div></div></div></div>"
      ],
      "text/plain": [
       "LogisticRegression(class_weight='balanced', random_state=30)"
      ]
     },
     "execution_count": 30,
     "metadata": {},
     "output_type": "execute_result"
    }
   ],
   "source": [
    "from sklearn.linear_model import LogisticRegression\n",
    "clf_lr1 = LogisticRegression(class_weight = 'balanced', solver = 'lbfgs', random_state=30)\n",
    "clf_lr1.fit(X_train, y_train)"
   ]
  },
  {
   "cell_type": "code",
   "execution_count": 31,
   "id": "a0e16c90",
   "metadata": {},
   "outputs": [],
   "source": [
    "from sklearn.metrics import roc_auc_score\n",
    "from sklearn.metrics import f1_score"
   ]
  },
  {
   "cell_type": "code",
   "execution_count": 32,
   "id": "83bd9c81",
   "metadata": {},
   "outputs": [
    {
     "name": "stdout",
     "output_type": "stream",
     "text": [
      "Accuracy:\n",
      "**************************************************\n",
      "Train: 0.6226430976430977\n",
      "Test: 0.6239057239057239\n",
      "\n",
      "Balanced Accuracy:\n",
      "**************************************************\n",
      "Train: 0.605188476871113\n",
      "Test: 0.6032531418049696\n",
      "\n",
      "F1_score:\n",
      "**************************************************\n",
      "Train: 0.6565152508234546\n",
      "Test: 0.6556423940145812\n",
      "\n",
      "roc_auc_score:\n",
      "**************************************************\n",
      "Train: 0.7912755897425586\n",
      "Test: 0.7910068826308301\n"
     ]
    }
   ],
   "source": [
    "# making predictions on test set\n",
    "y_pred_train = clf_lr1.predict(X_train)\n",
    "y_pred_train_proba = clf_lr1.predict_proba(X_train)\n",
    "# making predictions on test set\n",
    "y_pred_test = clf_lr1.predict(X_test)\n",
    "y_pred_test_proba = clf_lr1.predict_proba(X_test)\n",
    "\n",
    "# printing the result\n",
    "print(\"Accuracy:\")\n",
    "print(\"*\"*50)\n",
    "print(\"Train:\", accuracy_score(y_train, y_pred_train))\n",
    "print(\"Test:\", accuracy_score(y_test, y_pred_test))\n",
    "\n",
    "print(\"\\nBalanced Accuracy:\")\n",
    "print(\"*\"*50)\n",
    "print(\"Train:\", balanced_accuracy_score(y_train, y_pred_train))\n",
    "print(\"Test:\", balanced_accuracy_score(y_test, y_pred_test))\n",
    "\n",
    "print(\"\\nF1_score:\")\n",
    "print(\"*\"*50)\n",
    "print(\"Train:\",f1_score(y_train, y_pred_train, average=\"weighted\"))\n",
    "print(\"Test:\",f1_score(y_test, y_pred_test, average=\"weighted\"))\n",
    "\n",
    "print(\"\\nroc_auc_score:\")\n",
    "print(\"*\"*50)\n",
    "print(\"Train:\", roc_auc_score(y_train, y_pred_train_proba, multi_class='ovr'))\n",
    "print(\"Test:\", roc_auc_score(y_test, y_pred_test_proba, multi_class='ovr'))"
   ]
  },
  {
   "cell_type": "markdown",
   "id": "58d637bb",
   "metadata": {},
   "source": [
    "#### 5.2.2 Applying KNN "
   ]
  },
  {
   "cell_type": "code",
   "execution_count": 33,
   "id": "2d7ebd62",
   "metadata": {},
   "outputs": [
    {
     "data": {
      "text/html": [
       "<style>#sk-container-id-2 {color: black;background-color: white;}#sk-container-id-2 pre{padding: 0;}#sk-container-id-2 div.sk-toggleable {background-color: white;}#sk-container-id-2 label.sk-toggleable__label {cursor: pointer;display: block;width: 100%;margin-bottom: 0;padding: 0.3em;box-sizing: border-box;text-align: center;}#sk-container-id-2 label.sk-toggleable__label-arrow:before {content: \"▸\";float: left;margin-right: 0.25em;color: #696969;}#sk-container-id-2 label.sk-toggleable__label-arrow:hover:before {color: black;}#sk-container-id-2 div.sk-estimator:hover label.sk-toggleable__label-arrow:before {color: black;}#sk-container-id-2 div.sk-toggleable__content {max-height: 0;max-width: 0;overflow: hidden;text-align: left;background-color: #f0f8ff;}#sk-container-id-2 div.sk-toggleable__content pre {margin: 0.2em;color: black;border-radius: 0.25em;background-color: #f0f8ff;}#sk-container-id-2 input.sk-toggleable__control:checked~div.sk-toggleable__content {max-height: 200px;max-width: 100%;overflow: auto;}#sk-container-id-2 input.sk-toggleable__control:checked~label.sk-toggleable__label-arrow:before {content: \"▾\";}#sk-container-id-2 div.sk-estimator input.sk-toggleable__control:checked~label.sk-toggleable__label {background-color: #d4ebff;}#sk-container-id-2 div.sk-label input.sk-toggleable__control:checked~label.sk-toggleable__label {background-color: #d4ebff;}#sk-container-id-2 input.sk-hidden--visually {border: 0;clip: rect(1px 1px 1px 1px);clip: rect(1px, 1px, 1px, 1px);height: 1px;margin: -1px;overflow: hidden;padding: 0;position: absolute;width: 1px;}#sk-container-id-2 div.sk-estimator {font-family: monospace;background-color: #f0f8ff;border: 1px dotted black;border-radius: 0.25em;box-sizing: border-box;margin-bottom: 0.5em;}#sk-container-id-2 div.sk-estimator:hover {background-color: #d4ebff;}#sk-container-id-2 div.sk-parallel-item::after {content: \"\";width: 100%;border-bottom: 1px solid gray;flex-grow: 1;}#sk-container-id-2 div.sk-label:hover label.sk-toggleable__label {background-color: #d4ebff;}#sk-container-id-2 div.sk-serial::before {content: \"\";position: absolute;border-left: 1px solid gray;box-sizing: border-box;top: 0;bottom: 0;left: 50%;z-index: 0;}#sk-container-id-2 div.sk-serial {display: flex;flex-direction: column;align-items: center;background-color: white;padding-right: 0.2em;padding-left: 0.2em;position: relative;}#sk-container-id-2 div.sk-item {position: relative;z-index: 1;}#sk-container-id-2 div.sk-parallel {display: flex;align-items: stretch;justify-content: center;background-color: white;position: relative;}#sk-container-id-2 div.sk-item::before, #sk-container-id-2 div.sk-parallel-item::before {content: \"\";position: absolute;border-left: 1px solid gray;box-sizing: border-box;top: 0;bottom: 0;left: 50%;z-index: -1;}#sk-container-id-2 div.sk-parallel-item {display: flex;flex-direction: column;z-index: 1;position: relative;background-color: white;}#sk-container-id-2 div.sk-parallel-item:first-child::after {align-self: flex-end;width: 50%;}#sk-container-id-2 div.sk-parallel-item:last-child::after {align-self: flex-start;width: 50%;}#sk-container-id-2 div.sk-parallel-item:only-child::after {width: 0;}#sk-container-id-2 div.sk-dashed-wrapped {border: 1px dashed gray;margin: 0 0.4em 0.5em 0.4em;box-sizing: border-box;padding-bottom: 0.4em;background-color: white;}#sk-container-id-2 div.sk-label label {font-family: monospace;font-weight: bold;display: inline-block;line-height: 1.2em;}#sk-container-id-2 div.sk-label-container {text-align: center;}#sk-container-id-2 div.sk-container {/* jupyter's `normalize.less` sets `[hidden] { display: none; }` but bootstrap.min.css set `[hidden] { display: none !important; }` so we also need the `!important` here to be able to override the default hidden behavior on the sphinx rendered scikit-learn.org. See: https://github.com/scikit-learn/scikit-learn/issues/21755 */display: inline-block !important;position: relative;}#sk-container-id-2 div.sk-text-repr-fallback {display: none;}</style><div id=\"sk-container-id-2\" class=\"sk-top-container\"><div class=\"sk-text-repr-fallback\"><pre>KNeighborsClassifier()</pre><b>In a Jupyter environment, please rerun this cell to show the HTML representation or trust the notebook. <br />On GitHub, the HTML representation is unable to render, please try loading this page with nbviewer.org.</b></div><div class=\"sk-container\" hidden><div class=\"sk-item\"><div class=\"sk-estimator sk-toggleable\"><input class=\"sk-toggleable__control sk-hidden--visually\" id=\"sk-estimator-id-2\" type=\"checkbox\" checked><label for=\"sk-estimator-id-2\" class=\"sk-toggleable__label sk-toggleable__label-arrow\">KNeighborsClassifier</label><div class=\"sk-toggleable__content\"><pre>KNeighborsClassifier()</pre></div></div></div></div></div>"
      ],
      "text/plain": [
       "KNeighborsClassifier()"
      ]
     },
     "execution_count": 33,
     "metadata": {},
     "output_type": "execute_result"
    }
   ],
   "source": [
    "from sklearn.neighbors import KNeighborsClassifier\n",
    "clf_knn1 = KNeighborsClassifier()\n",
    "clf_knn1.fit(X_train, y_train)"
   ]
  },
  {
   "cell_type": "code",
   "execution_count": 34,
   "id": "f8be7c93",
   "metadata": {
    "scrolled": true
   },
   "outputs": [
    {
     "name": "stdout",
     "output_type": "stream",
     "text": [
      "Accuracy:\n",
      "**************************************************\n",
      "Train: 0.8303872053872053\n",
      "Test: 0.759006734006734\n",
      "\n",
      "Balanced Accuracy:\n",
      "**************************************************\n",
      "Train: 0.6941365864165254\n",
      "Test: 0.6108819497283525\n",
      "\n",
      "F1_score:\n",
      "**************************************************\n",
      "Train: 0.8233388856686996\n",
      "Test: 0.749075658784774\n",
      "\n",
      "roc_auc_score:\n",
      "**************************************************\n",
      "Train: 0.9467684546711088\n",
      "Test: 0.831141964503991\n"
     ]
    }
   ],
   "source": [
    "# making predictions on test set\n",
    "y_pred_train = clf_knn1.predict(X_train)\n",
    "y_pred_train_proba = clf_knn1.predict_proba(X_train)\n",
    "# making predictions on test set\n",
    "y_pred_test = clf_knn1.predict(X_test)\n",
    "y_pred_test_proba = clf_knn1.predict_proba(X_test)\n",
    "\n",
    "# printing the result\n",
    "print(\"Accuracy:\")\n",
    "print(\"*\"*50)\n",
    "print(\"Train:\", accuracy_score(y_train, y_pred_train))\n",
    "print(\"Test:\", accuracy_score(y_test, y_pred_test))\n",
    "\n",
    "print(\"\\nBalanced Accuracy:\")\n",
    "print(\"*\"*50)\n",
    "print(\"Train:\", balanced_accuracy_score(y_train, y_pred_train))\n",
    "print(\"Test:\", balanced_accuracy_score(y_test, y_pred_test))\n",
    "\n",
    "print(\"\\nF1_score:\")\n",
    "print(\"*\"*50)\n",
    "print(\"Train:\",f1_score(y_train, y_pred_train, average=\"weighted\"))\n",
    "print(\"Test:\",f1_score(y_test, y_pred_test, average=\"weighted\"))\n",
    "\n",
    "print(\"\\nroc_auc_score:\")\n",
    "print(\"*\"*50)\n",
    "print(\"Train:\", roc_auc_score(y_train, y_pred_train_proba, multi_class='ovr'))\n",
    "print(\"Test:\", roc_auc_score(y_test, y_pred_test_proba, multi_class='ovr'))"
   ]
  },
  {
   "cell_type": "markdown",
   "id": "36966bb1",
   "metadata": {},
   "source": [
    "#### 5.2.3 Applying Decision Tree"
   ]
  },
  {
   "cell_type": "code",
   "execution_count": 37,
   "id": "d569ede6",
   "metadata": {},
   "outputs": [
    {
     "data": {
      "text/html": [
       "<style>#sk-container-id-3 {color: black;background-color: white;}#sk-container-id-3 pre{padding: 0;}#sk-container-id-3 div.sk-toggleable {background-color: white;}#sk-container-id-3 label.sk-toggleable__label {cursor: pointer;display: block;width: 100%;margin-bottom: 0;padding: 0.3em;box-sizing: border-box;text-align: center;}#sk-container-id-3 label.sk-toggleable__label-arrow:before {content: \"▸\";float: left;margin-right: 0.25em;color: #696969;}#sk-container-id-3 label.sk-toggleable__label-arrow:hover:before {color: black;}#sk-container-id-3 div.sk-estimator:hover label.sk-toggleable__label-arrow:before {color: black;}#sk-container-id-3 div.sk-toggleable__content {max-height: 0;max-width: 0;overflow: hidden;text-align: left;background-color: #f0f8ff;}#sk-container-id-3 div.sk-toggleable__content pre {margin: 0.2em;color: black;border-radius: 0.25em;background-color: #f0f8ff;}#sk-container-id-3 input.sk-toggleable__control:checked~div.sk-toggleable__content {max-height: 200px;max-width: 100%;overflow: auto;}#sk-container-id-3 input.sk-toggleable__control:checked~label.sk-toggleable__label-arrow:before {content: \"▾\";}#sk-container-id-3 div.sk-estimator input.sk-toggleable__control:checked~label.sk-toggleable__label {background-color: #d4ebff;}#sk-container-id-3 div.sk-label input.sk-toggleable__control:checked~label.sk-toggleable__label {background-color: #d4ebff;}#sk-container-id-3 input.sk-hidden--visually {border: 0;clip: rect(1px 1px 1px 1px);clip: rect(1px, 1px, 1px, 1px);height: 1px;margin: -1px;overflow: hidden;padding: 0;position: absolute;width: 1px;}#sk-container-id-3 div.sk-estimator {font-family: monospace;background-color: #f0f8ff;border: 1px dotted black;border-radius: 0.25em;box-sizing: border-box;margin-bottom: 0.5em;}#sk-container-id-3 div.sk-estimator:hover {background-color: #d4ebff;}#sk-container-id-3 div.sk-parallel-item::after {content: \"\";width: 100%;border-bottom: 1px solid gray;flex-grow: 1;}#sk-container-id-3 div.sk-label:hover label.sk-toggleable__label {background-color: #d4ebff;}#sk-container-id-3 div.sk-serial::before {content: \"\";position: absolute;border-left: 1px solid gray;box-sizing: border-box;top: 0;bottom: 0;left: 50%;z-index: 0;}#sk-container-id-3 div.sk-serial {display: flex;flex-direction: column;align-items: center;background-color: white;padding-right: 0.2em;padding-left: 0.2em;position: relative;}#sk-container-id-3 div.sk-item {position: relative;z-index: 1;}#sk-container-id-3 div.sk-parallel {display: flex;align-items: stretch;justify-content: center;background-color: white;position: relative;}#sk-container-id-3 div.sk-item::before, #sk-container-id-3 div.sk-parallel-item::before {content: \"\";position: absolute;border-left: 1px solid gray;box-sizing: border-box;top: 0;bottom: 0;left: 50%;z-index: -1;}#sk-container-id-3 div.sk-parallel-item {display: flex;flex-direction: column;z-index: 1;position: relative;background-color: white;}#sk-container-id-3 div.sk-parallel-item:first-child::after {align-self: flex-end;width: 50%;}#sk-container-id-3 div.sk-parallel-item:last-child::after {align-self: flex-start;width: 50%;}#sk-container-id-3 div.sk-parallel-item:only-child::after {width: 0;}#sk-container-id-3 div.sk-dashed-wrapped {border: 1px dashed gray;margin: 0 0.4em 0.5em 0.4em;box-sizing: border-box;padding-bottom: 0.4em;background-color: white;}#sk-container-id-3 div.sk-label label {font-family: monospace;font-weight: bold;display: inline-block;line-height: 1.2em;}#sk-container-id-3 div.sk-label-container {text-align: center;}#sk-container-id-3 div.sk-container {/* jupyter's `normalize.less` sets `[hidden] { display: none; }` but bootstrap.min.css set `[hidden] { display: none !important; }` so we also need the `!important` here to be able to override the default hidden behavior on the sphinx rendered scikit-learn.org. See: https://github.com/scikit-learn/scikit-learn/issues/21755 */display: inline-block !important;position: relative;}#sk-container-id-3 div.sk-text-repr-fallback {display: none;}</style><div id=\"sk-container-id-3\" class=\"sk-top-container\"><div class=\"sk-text-repr-fallback\"><pre>DecisionTreeClassifier(class_weight=&#x27;balanced&#x27;, max_depth=4, min_samples_leaf=5,\n",
       "                       random_state=42)</pre><b>In a Jupyter environment, please rerun this cell to show the HTML representation or trust the notebook. <br />On GitHub, the HTML representation is unable to render, please try loading this page with nbviewer.org.</b></div><div class=\"sk-container\" hidden><div class=\"sk-item\"><div class=\"sk-estimator sk-toggleable\"><input class=\"sk-toggleable__control sk-hidden--visually\" id=\"sk-estimator-id-3\" type=\"checkbox\" checked><label for=\"sk-estimator-id-3\" class=\"sk-toggleable__label sk-toggleable__label-arrow\">DecisionTreeClassifier</label><div class=\"sk-toggleable__content\"><pre>DecisionTreeClassifier(class_weight=&#x27;balanced&#x27;, max_depth=4, min_samples_leaf=5,\n",
       "                       random_state=42)</pre></div></div></div></div></div>"
      ],
      "text/plain": [
       "DecisionTreeClassifier(class_weight='balanced', max_depth=4, min_samples_leaf=5,\n",
       "                       random_state=42)"
      ]
     },
     "execution_count": 37,
     "metadata": {},
     "output_type": "execute_result"
    }
   ],
   "source": [
    "from sklearn.tree import DecisionTreeClassifier\n",
    "clf_dt1 = DecisionTreeClassifier(criterion='gini', max_depth=4, min_samples_leaf=5, \n",
    "                                 random_state=42, class_weight='balanced')\n",
    "clf_dt1.fit(X_train, y_train)"
   ]
  },
  {
   "cell_type": "code",
   "execution_count": 38,
   "id": "f2cdb521",
   "metadata": {},
   "outputs": [
    {
     "name": "stdout",
     "output_type": "stream",
     "text": [
      "Accuracy:\n",
      "**************************************************\n",
      "Train: 0.6842803030303031\n",
      "Test: 0.6867003367003367\n",
      "\n",
      "Balanced Accuracy:\n",
      "**************************************************\n",
      "Train: 0.5519779283592047\n",
      "Test: 0.552951823991462\n",
      "\n",
      "F1_score:\n",
      "**************************************************\n",
      "Train: 0.6757230233643264\n",
      "Test: 0.6768887886696735\n",
      "\n",
      "roc_auc_score:\n",
      "**************************************************\n",
      "Train: 0.7304044669780986\n",
      "Test: 0.7299602954040708\n"
     ]
    }
   ],
   "source": [
    "# making predictions on test set\n",
    "y_pred_train = clf_dt1.predict(X_train)\n",
    "y_pred_train_proba = clf_dt1.predict_proba(X_train)\n",
    "# making predictions on test set\n",
    "y_pred_test = clf_dt1.predict(X_test)\n",
    "y_pred_test_proba = clf_dt1.predict_proba(X_test)\n",
    "\n",
    "# printing the result\n",
    "print(\"Accuracy:\")\n",
    "print(\"*\"*50)\n",
    "print(\"Train:\", accuracy_score(y_train, y_pred_train))\n",
    "print(\"Test:\", accuracy_score(y_test, y_pred_test))\n",
    "\n",
    "print(\"\\nBalanced Accuracy:\")\n",
    "print(\"*\"*50)\n",
    "print(\"Train:\", balanced_accuracy_score(y_train, y_pred_train))\n",
    "print(\"Test:\", balanced_accuracy_score(y_test, y_pred_test))\n",
    "\n",
    "print(\"\\nF1_score:\")\n",
    "print(\"*\"*50)\n",
    "print(\"Train:\",f1_score(y_train, y_pred_train, average=\"weighted\"))\n",
    "print(\"Test:\",f1_score(y_test, y_pred_test, average=\"weighted\"))\n",
    "\n",
    "print(\"\\nroc_auc_score:\")\n",
    "print(\"*\"*50)\n",
    "print(\"Train:\", roc_auc_score(y_train, y_pred_train_proba, multi_class='ovr'))\n",
    "print(\"Test:\", roc_auc_score(y_test, y_pred_test_proba, multi_class='ovr'))"
   ]
  },
  {
   "cell_type": "markdown",
   "id": "edd2683e",
   "metadata": {},
   "source": [
    "#### 5.2.4 Applying Random Forrest"
   ]
  },
  {
   "cell_type": "code",
   "execution_count": 39,
   "id": "b6ff731c",
   "metadata": {},
   "outputs": [
    {
     "data": {
      "text/html": [
       "<style>#sk-container-id-4 {color: black;background-color: white;}#sk-container-id-4 pre{padding: 0;}#sk-container-id-4 div.sk-toggleable {background-color: white;}#sk-container-id-4 label.sk-toggleable__label {cursor: pointer;display: block;width: 100%;margin-bottom: 0;padding: 0.3em;box-sizing: border-box;text-align: center;}#sk-container-id-4 label.sk-toggleable__label-arrow:before {content: \"▸\";float: left;margin-right: 0.25em;color: #696969;}#sk-container-id-4 label.sk-toggleable__label-arrow:hover:before {color: black;}#sk-container-id-4 div.sk-estimator:hover label.sk-toggleable__label-arrow:before {color: black;}#sk-container-id-4 div.sk-toggleable__content {max-height: 0;max-width: 0;overflow: hidden;text-align: left;background-color: #f0f8ff;}#sk-container-id-4 div.sk-toggleable__content pre {margin: 0.2em;color: black;border-radius: 0.25em;background-color: #f0f8ff;}#sk-container-id-4 input.sk-toggleable__control:checked~div.sk-toggleable__content {max-height: 200px;max-width: 100%;overflow: auto;}#sk-container-id-4 input.sk-toggleable__control:checked~label.sk-toggleable__label-arrow:before {content: \"▾\";}#sk-container-id-4 div.sk-estimator input.sk-toggleable__control:checked~label.sk-toggleable__label {background-color: #d4ebff;}#sk-container-id-4 div.sk-label input.sk-toggleable__control:checked~label.sk-toggleable__label {background-color: #d4ebff;}#sk-container-id-4 input.sk-hidden--visually {border: 0;clip: rect(1px 1px 1px 1px);clip: rect(1px, 1px, 1px, 1px);height: 1px;margin: -1px;overflow: hidden;padding: 0;position: absolute;width: 1px;}#sk-container-id-4 div.sk-estimator {font-family: monospace;background-color: #f0f8ff;border: 1px dotted black;border-radius: 0.25em;box-sizing: border-box;margin-bottom: 0.5em;}#sk-container-id-4 div.sk-estimator:hover {background-color: #d4ebff;}#sk-container-id-4 div.sk-parallel-item::after {content: \"\";width: 100%;border-bottom: 1px solid gray;flex-grow: 1;}#sk-container-id-4 div.sk-label:hover label.sk-toggleable__label {background-color: #d4ebff;}#sk-container-id-4 div.sk-serial::before {content: \"\";position: absolute;border-left: 1px solid gray;box-sizing: border-box;top: 0;bottom: 0;left: 50%;z-index: 0;}#sk-container-id-4 div.sk-serial {display: flex;flex-direction: column;align-items: center;background-color: white;padding-right: 0.2em;padding-left: 0.2em;position: relative;}#sk-container-id-4 div.sk-item {position: relative;z-index: 1;}#sk-container-id-4 div.sk-parallel {display: flex;align-items: stretch;justify-content: center;background-color: white;position: relative;}#sk-container-id-4 div.sk-item::before, #sk-container-id-4 div.sk-parallel-item::before {content: \"\";position: absolute;border-left: 1px solid gray;box-sizing: border-box;top: 0;bottom: 0;left: 50%;z-index: -1;}#sk-container-id-4 div.sk-parallel-item {display: flex;flex-direction: column;z-index: 1;position: relative;background-color: white;}#sk-container-id-4 div.sk-parallel-item:first-child::after {align-self: flex-end;width: 50%;}#sk-container-id-4 div.sk-parallel-item:last-child::after {align-self: flex-start;width: 50%;}#sk-container-id-4 div.sk-parallel-item:only-child::after {width: 0;}#sk-container-id-4 div.sk-dashed-wrapped {border: 1px dashed gray;margin: 0 0.4em 0.5em 0.4em;box-sizing: border-box;padding-bottom: 0.4em;background-color: white;}#sk-container-id-4 div.sk-label label {font-family: monospace;font-weight: bold;display: inline-block;line-height: 1.2em;}#sk-container-id-4 div.sk-label-container {text-align: center;}#sk-container-id-4 div.sk-container {/* jupyter's `normalize.less` sets `[hidden] { display: none; }` but bootstrap.min.css set `[hidden] { display: none !important; }` so we also need the `!important` here to be able to override the default hidden behavior on the sphinx rendered scikit-learn.org. See: https://github.com/scikit-learn/scikit-learn/issues/21755 */display: inline-block !important;position: relative;}#sk-container-id-4 div.sk-text-repr-fallback {display: none;}</style><div id=\"sk-container-id-4\" class=\"sk-top-container\"><div class=\"sk-text-repr-fallback\"><pre>RandomForestClassifier(class_weight=&#x27;balanced&#x27;, min_samples_split=5,\n",
       "                       n_estimators=150, n_jobs=-1, random_state=42)</pre><b>In a Jupyter environment, please rerun this cell to show the HTML representation or trust the notebook. <br />On GitHub, the HTML representation is unable to render, please try loading this page with nbviewer.org.</b></div><div class=\"sk-container\" hidden><div class=\"sk-item\"><div class=\"sk-estimator sk-toggleable\"><input class=\"sk-toggleable__control sk-hidden--visually\" id=\"sk-estimator-id-4\" type=\"checkbox\" checked><label for=\"sk-estimator-id-4\" class=\"sk-toggleable__label sk-toggleable__label-arrow\">RandomForestClassifier</label><div class=\"sk-toggleable__content\"><pre>RandomForestClassifier(class_weight=&#x27;balanced&#x27;, min_samples_split=5,\n",
       "                       n_estimators=150, n_jobs=-1, random_state=42)</pre></div></div></div></div></div>"
      ],
      "text/plain": [
       "RandomForestClassifier(class_weight='balanced', min_samples_split=5,\n",
       "                       n_estimators=150, n_jobs=-1, random_state=42)"
      ]
     },
     "execution_count": 39,
     "metadata": {},
     "output_type": "execute_result"
    }
   ],
   "source": [
    "from sklearn.ensemble import RandomForestClassifier\n",
    "clf_rf1 = RandomForestClassifier(n_estimators=150, random_state=42, n_jobs=-1, criterion= 'gini',min_samples_split= 5,\n",
    "                                class_weight='balanced')\n",
    "clf_rf1.fit(X_train, y_train)"
   ]
  },
  {
   "cell_type": "code",
   "execution_count": 40,
   "id": "e49f759c",
   "metadata": {},
   "outputs": [
    {
     "name": "stdout",
     "output_type": "stream",
     "text": [
      "Accuracy:\n",
      "**************************************************\n",
      "Train: 0.9664351851851852\n",
      "Test: 0.8047979797979798\n",
      "\n",
      "Balanced Accuracy:\n",
      "**************************************************\n",
      "Train: 0.9738089370693183\n",
      "Test: 0.7031972425944858\n",
      "\n",
      "F1_score:\n",
      "**************************************************\n",
      "Train: 0.9667777445145996\n",
      "Test: 0.803432446536808\n",
      "\n",
      "roc_auc_score:\n",
      "**************************************************\n",
      "Train: 0.9967192506096815\n",
      "Test: 0.9032102237969853\n"
     ]
    }
   ],
   "source": [
    "# making predictions on test set\n",
    "y_pred_train = clf_rf1.predict(X_train)\n",
    "y_pred_train_proba = clf_rf1.predict_proba(X_train)\n",
    "# making predictions on test set\n",
    "y_pred_test = clf_rf1.predict(X_test)\n",
    "y_pred_test_proba = clf_rf1.predict_proba(X_test)\n",
    "\n",
    "# printing the result\n",
    "print(\"Accuracy:\")\n",
    "print(\"*\"*50)\n",
    "print(\"Train:\", accuracy_score(y_train, y_pred_train))\n",
    "print(\"Test:\", accuracy_score(y_test, y_pred_test))\n",
    "\n",
    "print(\"\\nBalanced Accuracy:\")\n",
    "print(\"*\"*50)\n",
    "print(\"Train:\", balanced_accuracy_score(y_train, y_pred_train))\n",
    "print(\"Test:\", balanced_accuracy_score(y_test, y_pred_test))\n",
    "\n",
    "print(\"\\nF1_score:\")\n",
    "print(\"*\"*50)\n",
    "print(\"Train:\",f1_score(y_train, y_pred_train, average=\"weighted\"))\n",
    "print(\"Test:\",f1_score(y_test, y_pred_test, average=\"weighted\"))\n",
    "\n",
    "print(\"\\nroc_auc_score:\")\n",
    "print(\"*\"*50)\n",
    "print(\"Train:\", roc_auc_score(y_train, y_pred_train_proba, multi_class='ovr'))\n",
    "print(\"Test:\", roc_auc_score(y_test, y_pred_test_proba, multi_class='ovr'))"
   ]
  },
  {
   "cell_type": "markdown",
   "id": "3f6d69a3",
   "metadata": {},
   "source": [
    "##### 5.2.4.1 Feature importance in RandomForest"
   ]
  },
  {
   "cell_type": "code",
   "execution_count": 41,
   "id": "b430e365",
   "metadata": {},
   "outputs": [
    {
     "data": {
      "text/plain": [
       "array([0.03692044, 0.07177467, 0.03203825, 0.14354274, 0.13726511,\n",
       "       0.02089314, 0.02884282, 0.02515766, 0.06935551, 0.051031  ,\n",
       "       0.0062247 , 0.00877044, 0.04887417, 0.02143978, 0.03809518,\n",
       "       0.01291049, 0.10614632, 0.03739319, 0.05849199, 0.04483239])"
      ]
     },
     "execution_count": 41,
     "metadata": {},
     "output_type": "execute_result"
    }
   ],
   "source": [
    "clf_rf1.feature_importances_"
   ]
  },
  {
   "cell_type": "code",
   "execution_count": 47,
   "id": "a54922b4",
   "metadata": {},
   "outputs": [
    {
     "data": {
      "text/plain": [
       "<BarContainer object of 20 artists>"
      ]
     },
     "execution_count": 47,
     "metadata": {},
     "output_type": "execute_result"
    },
    {
     "data": {
      "image/png": "[encoded data removed]",
      "text/plain": [
       "<Figure size 1440x720 with 1 Axes>"
      ]
     },
     "metadata": {
      "needs_background": "light"
     },
     "output_type": "display_data"
    }
   ],
   "source": [
    "sorted_idx = clf_rf1.feature_importances_.argsort()\n",
    "plt.figure(figsize=(20, 10))\n",
    "plt.barh(X_train.columns[sorted_idx], clf_rf1.feature_importances_[sorted_idx])"
   ]
  },
  {
   "cell_type": "markdown",
   "id": "f6b87fb4",
   "metadata": {},
   "source": [
    "From the above plot it is seen that the feaures such as 'permit' & 'public_meeting' are least important. lets remove them. "
   ]
  },
  {
   "cell_type": "code",
   "execution_count": 52,
   "id": "382c19ab",
   "metadata": {},
   "outputs": [],
   "source": [
    "X_train.drop(columns=['permit', 'public_meeting'], inplace=True )\n",
    "X_test.drop(columns=['permit', 'public_meeting'], inplace=True )"
   ]
  },
  {
   "cell_type": "code",
   "execution_count": 53,
   "id": "cceca63a",
   "metadata": {
    "scrolled": true
   },
   "outputs": [
    {
     "data": {
      "text/html": [
       "<style>#sk-container-id-5 {color: black;background-color: white;}#sk-container-id-5 pre{padding: 0;}#sk-container-id-5 div.sk-toggleable {background-color: white;}#sk-container-id-5 label.sk-toggleable__label {cursor: pointer;display: block;width: 100%;margin-bottom: 0;padding: 0.3em;box-sizing: border-box;text-align: center;}#sk-container-id-5 label.sk-toggleable__label-arrow:before {content: \"▸\";float: left;margin-right: 0.25em;color: #696969;}#sk-container-id-5 label.sk-toggleable__label-arrow:hover:before {color: black;}#sk-container-id-5 div.sk-estimator:hover label.sk-toggleable__label-arrow:before {color: black;}#sk-container-id-5 div.sk-toggleable__content {max-height: 0;max-width: 0;overflow: hidden;text-align: left;background-color: #f0f8ff;}#sk-container-id-5 div.sk-toggleable__content pre {margin: 0.2em;color: black;border-radius: 0.25em;background-color: #f0f8ff;}#sk-container-id-5 input.sk-toggleable__control:checked~div.sk-toggleable__content {max-height: 200px;max-width: 100%;overflow: auto;}#sk-container-id-5 input.sk-toggleable__control:checked~label.sk-toggleable__label-arrow:before {content: \"▾\";}#sk-container-id-5 div.sk-estimator input.sk-toggleable__control:checked~label.sk-toggleable__label {background-color: #d4ebff;}#sk-container-id-5 div.sk-label input.sk-toggleable__control:checked~label.sk-toggleable__label {background-color: #d4ebff;}#sk-container-id-5 input.sk-hidden--visually {border: 0;clip: rect(1px 1px 1px 1px);clip: rect(1px, 1px, 1px, 1px);height: 1px;margin: -1px;overflow: hidden;padding: 0;position: absolute;width: 1px;}#sk-container-id-5 div.sk-estimator {font-family: monospace;background-color: #f0f8ff;border: 1px dotted black;border-radius: 0.25em;box-sizing: border-box;margin-bottom: 0.5em;}#sk-container-id-5 div.sk-estimator:hover {background-color: #d4ebff;}#sk-container-id-5 div.sk-parallel-item::after {content: \"\";width: 100%;border-bottom: 1px solid gray;flex-grow: 1;}#sk-container-id-5 div.sk-label:hover label.sk-toggleable__label {background-color: #d4ebff;}#sk-container-id-5 div.sk-serial::before {content: \"\";position: absolute;border-left: 1px solid gray;box-sizing: border-box;top: 0;bottom: 0;left: 50%;z-index: 0;}#sk-container-id-5 div.sk-serial {display: flex;flex-direction: column;align-items: center;background-color: white;padding-right: 0.2em;padding-left: 0.2em;position: relative;}#sk-container-id-5 div.sk-item {position: relative;z-index: 1;}#sk-container-id-5 div.sk-parallel {display: flex;align-items: stretch;justify-content: center;background-color: white;position: relative;}#sk-container-id-5 div.sk-item::before, #sk-container-id-5 div.sk-parallel-item::before {content: \"\";position: absolute;border-left: 1px solid gray;box-sizing: border-box;top: 0;bottom: 0;left: 50%;z-index: -1;}#sk-container-id-5 div.sk-parallel-item {display: flex;flex-direction: column;z-index: 1;position: relative;background-color: white;}#sk-container-id-5 div.sk-parallel-item:first-child::after {align-self: flex-end;width: 50%;}#sk-container-id-5 div.sk-parallel-item:last-child::after {align-self: flex-start;width: 50%;}#sk-container-id-5 div.sk-parallel-item:only-child::after {width: 0;}#sk-container-id-5 div.sk-dashed-wrapped {border: 1px dashed gray;margin: 0 0.4em 0.5em 0.4em;box-sizing: border-box;padding-bottom: 0.4em;background-color: white;}#sk-container-id-5 div.sk-label label {font-family: monospace;font-weight: bold;display: inline-block;line-height: 1.2em;}#sk-container-id-5 div.sk-label-container {text-align: center;}#sk-container-id-5 div.sk-container {/* jupyter's `normalize.less` sets `[hidden] { display: none; }` but bootstrap.min.css set `[hidden] { display: none !important; }` so we also need the `!important` here to be able to override the default hidden behavior on the sphinx rendered scikit-learn.org. See: https://github.com/scikit-learn/scikit-learn/issues/21755 */display: inline-block !important;position: relative;}#sk-container-id-5 div.sk-text-repr-fallback {display: none;}</style><div id=\"sk-container-id-5\" class=\"sk-top-container\"><div class=\"sk-text-repr-fallback\"><pre>RandomForestClassifier(class_weight=&#x27;balanced&#x27;, min_samples_split=5,\n",
       "                       n_estimators=150, n_jobs=-1, random_state=42)</pre><b>In a Jupyter environment, please rerun this cell to show the HTML representation or trust the notebook. <br />On GitHub, the HTML representation is unable to render, please try loading this page with nbviewer.org.</b></div><div class=\"sk-container\" hidden><div class=\"sk-item\"><div class=\"sk-estimator sk-toggleable\"><input class=\"sk-toggleable__control sk-hidden--visually\" id=\"sk-estimator-id-5\" type=\"checkbox\" checked><label for=\"sk-estimator-id-5\" class=\"sk-toggleable__label sk-toggleable__label-arrow\">RandomForestClassifier</label><div class=\"sk-toggleable__content\"><pre>RandomForestClassifier(class_weight=&#x27;balanced&#x27;, min_samples_split=5,\n",
       "                       n_estimators=150, n_jobs=-1, random_state=42)</pre></div></div></div></div></div>"
      ],
      "text/plain": [
       "RandomForestClassifier(class_weight='balanced', min_samples_split=5,\n",
       "                       n_estimators=150, n_jobs=-1, random_state=42)"
      ]
     },
     "execution_count": 53,
     "metadata": {},
     "output_type": "execute_result"
    }
   ],
   "source": [
    "clf_rf2 = RandomForestClassifier(n_estimators=150, random_state=42, n_jobs=-1, criterion= 'gini',min_samples_split= 5,\n",
    "                                class_weight='balanced')\n",
    "clf_rf2.fit(X_train, y_train)"
   ]
  },
  {
   "cell_type": "markdown",
   "id": "6365c68d",
   "metadata": {},
   "source": [
    "##### 5.2.4.2 Checking performance of RandomForest after removing least important features"
   ]
  },
  {
   "cell_type": "code",
   "execution_count": 54,
   "id": "34e3e229",
   "metadata": {},
   "outputs": [
    {
     "name": "stdout",
     "output_type": "stream",
     "text": [
      "Accuracy:\n",
      "**************************************************\n",
      "Train: 0.9678451178451178\n",
      "Test: 0.8032828282828283\n",
      "\n",
      "Balanced Accuracy:\n",
      "**************************************************\n",
      "Train: 0.9749178404127838\n",
      "Test: 0.6967651220798095\n",
      "\n",
      "F1_score:\n",
      "**************************************************\n",
      "Train: 0.9681619397959844\n",
      "Test: 0.8014343733709647\n",
      "\n",
      "roc_auc_score:\n",
      "**************************************************\n",
      "Train: 0.9967410532279221\n",
      "Test: 0.9022438622306468\n"
     ]
    }
   ],
   "source": [
    "# making predictions on test set\n",
    "y_pred_train = clf_rf2.predict(X_train)\n",
    "y_pred_train_proba = clf_rf2.predict_proba(X_train)\n",
    "# making predictions on test set\n",
    "y_pred_test = clf_rf2.predict(X_test)\n",
    "y_pred_test_proba = clf_rf2.predict_proba(X_test)\n",
    "\n",
    "# printing the result\n",
    "print(\"Accuracy:\")\n",
    "print(\"*\"*50)\n",
    "print(\"Train:\", accuracy_score(y_train, y_pred_train))\n",
    "print(\"Test:\", accuracy_score(y_test, y_pred_test))\n",
    "\n",
    "print(\"\\nBalanced Accuracy:\")\n",
    "print(\"*\"*50)\n",
    "print(\"Train:\", balanced_accuracy_score(y_train, y_pred_train))\n",
    "print(\"Test:\", balanced_accuracy_score(y_test, y_pred_test))\n",
    "\n",
    "print(\"\\nF1_score:\")\n",
    "print(\"*\"*50)\n",
    "print(\"Train:\",f1_score(y_train, y_pred_train, average=\"weighted\"))\n",
    "print(\"Test:\",f1_score(y_test, y_pred_test, average=\"weighted\"))\n",
    "\n",
    "print(\"\\nroc_auc_score:\")\n",
    "print(\"*\"*50)\n",
    "print(\"Train:\", roc_auc_score(y_train, y_pred_train_proba, multi_class='ovr'))\n",
    "print(\"Test:\", roc_auc_score(y_test, y_pred_test_proba, multi_class='ovr'))"
   ]
  },
  {
   "cell_type": "markdown",
   "id": "8c42e7f0",
   "metadata": {},
   "source": [
    "From some of the above results, its seen that the models are overfitting due to imbalance in data. Lets try an oversampling technique called 'SMOTE' to deal with imbalance."
   ]
  },
  {
   "cell_type": "markdown",
   "id": "50dc0d1f",
   "metadata": {},
   "source": [
    "##### 5.2.4.3 SMOTE"
   ]
  },
  {
   "cell_type": "code",
   "execution_count": 56,
   "id": "e9f38373",
   "metadata": {},
   "outputs": [
    {
     "name": "stdout",
     "output_type": "stream",
     "text": [
      "1    25790\n",
      "0    18317\n",
      "2     3413\n",
      "Name: status_group, dtype: int64\n",
      "\n",
      "After applying SMOTE\n",
      "1    25790\n",
      "0    25790\n",
      "2    25790\n",
      "Name: status_group, dtype: int64\n"
     ]
    }
   ],
   "source": [
    "from imblearn.over_sampling import SMOTE\n",
    "smote1 = SMOTE(sampling_strategy = 'auto', n_jobs = -1)\n",
    "\n",
    "X_smote_train, y_smote_train = smote1.fit_resample(X_train, y_train)\n",
    "y_smote_train = pd.Series(y_smote_train)\n",
    "print(y_train.value_counts())\n",
    "print(\"\\nAfter applying SMOTE\")\n",
    "print(y_smote_train.value_counts())"
   ]
  },
  {
   "cell_type": "code",
   "execution_count": 57,
   "id": "8407d5a4",
   "metadata": {},
   "outputs": [
    {
     "name": "stdout",
     "output_type": "stream",
     "text": [
      "1    6469\n",
      "0    4507\n",
      "2     904\n",
      "Name: status_group, dtype: int64\n",
      "\n",
      "After applying SMOTE\n",
      "1    6469\n",
      "0    6469\n",
      "2    6469\n",
      "Name: status_group, dtype: int64\n"
     ]
    }
   ],
   "source": [
    "smote2 = SMOTE(sampling_strategy = 'auto', n_jobs = -1)\n",
    "\n",
    "X_smote_test, y_smote_test = smote2.fit_resample(X_test, y_test)\n",
    "y_smote_test = pd.Series(y_smote_test)\n",
    "print(y_test.value_counts())\n",
    "print(\"\\nAfter applying SMOTE\")\n",
    "print(y_smote_test.value_counts())"
   ]
  },
  {
   "cell_type": "markdown",
   "id": "8e3511ea",
   "metadata": {},
   "source": [
    "##### 5.2.4.4 Recheckig performance after applying 'SMOTE' technique"
   ]
  },
  {
   "cell_type": "code",
   "execution_count": 58,
   "id": "0b149a9f",
   "metadata": {},
   "outputs": [
    {
     "data": {
      "text/html": [
       "<style>#sk-container-id-6 {color: black;background-color: white;}#sk-container-id-6 pre{padding: 0;}#sk-container-id-6 div.sk-toggleable {background-color: white;}#sk-container-id-6 label.sk-toggleable__label {cursor: pointer;display: block;width: 100%;margin-bottom: 0;padding: 0.3em;box-sizing: border-box;text-align: center;}#sk-container-id-6 label.sk-toggleable__label-arrow:before {content: \"▸\";float: left;margin-right: 0.25em;color: #696969;}#sk-container-id-6 label.sk-toggleable__label-arrow:hover:before {color: black;}#sk-container-id-6 div.sk-estimator:hover label.sk-toggleable__label-arrow:before {color: black;}#sk-container-id-6 div.sk-toggleable__content {max-height: 0;max-width: 0;overflow: hidden;text-align: left;background-color: #f0f8ff;}#sk-container-id-6 div.sk-toggleable__content pre {margin: 0.2em;color: black;border-radius: 0.25em;background-color: #f0f8ff;}#sk-container-id-6 input.sk-toggleable__control:checked~div.sk-toggleable__content {max-height: 200px;max-width: 100%;overflow: auto;}#sk-container-id-6 input.sk-toggleable__control:checked~label.sk-toggleable__label-arrow:before {content: \"▾\";}#sk-container-id-6 div.sk-estimator input.sk-toggleable__control:checked~label.sk-toggleable__label {background-color: #d4ebff;}#sk-container-id-6 div.sk-label input.sk-toggleable__control:checked~label.sk-toggleable__label {background-color: #d4ebff;}#sk-container-id-6 input.sk-hidden--visually {border: 0;clip: rect(1px 1px 1px 1px);clip: rect(1px, 1px, 1px, 1px);height: 1px;margin: -1px;overflow: hidden;padding: 0;position: absolute;width: 1px;}#sk-container-id-6 div.sk-estimator {font-family: monospace;background-color: #f0f8ff;border: 1px dotted black;border-radius: 0.25em;box-sizing: border-box;margin-bottom: 0.5em;}#sk-container-id-6 div.sk-estimator:hover {background-color: #d4ebff;}#sk-container-id-6 div.sk-parallel-item::after {content: \"\";width: 100%;border-bottom: 1px solid gray;flex-grow: 1;}#sk-container-id-6 div.sk-label:hover label.sk-toggleable__label {background-color: #d4ebff;}#sk-container-id-6 div.sk-serial::before {content: \"\";position: absolute;border-left: 1px solid gray;box-sizing: border-box;top: 0;bottom: 0;left: 50%;z-index: 0;}#sk-container-id-6 div.sk-serial {display: flex;flex-direction: column;align-items: center;background-color: white;padding-right: 0.2em;padding-left: 0.2em;position: relative;}#sk-container-id-6 div.sk-item {position: relative;z-index: 1;}#sk-container-id-6 div.sk-parallel {display: flex;align-items: stretch;justify-content: center;background-color: white;position: relative;}#sk-container-id-6 div.sk-item::before, #sk-container-id-6 div.sk-parallel-item::before {content: \"\";position: absolute;border-left: 1px solid gray;box-sizing: border-box;top: 0;bottom: 0;left: 50%;z-index: -1;}#sk-container-id-6 div.sk-parallel-item {display: flex;flex-direction: column;z-index: 1;position: relative;background-color: white;}#sk-container-id-6 div.sk-parallel-item:first-child::after {align-self: flex-end;width: 50%;}#sk-container-id-6 div.sk-parallel-item:last-child::after {align-self: flex-start;width: 50%;}#sk-container-id-6 div.sk-parallel-item:only-child::after {width: 0;}#sk-container-id-6 div.sk-dashed-wrapped {border: 1px dashed gray;margin: 0 0.4em 0.5em 0.4em;box-sizing: border-box;padding-bottom: 0.4em;background-color: white;}#sk-container-id-6 div.sk-label label {font-family: monospace;font-weight: bold;display: inline-block;line-height: 1.2em;}#sk-container-id-6 div.sk-label-container {text-align: center;}#sk-container-id-6 div.sk-container {/* jupyter's `normalize.less` sets `[hidden] { display: none; }` but bootstrap.min.css set `[hidden] { display: none !important; }` so we also need the `!important` here to be able to override the default hidden behavior on the sphinx rendered scikit-learn.org. See: https://github.com/scikit-learn/scikit-learn/issues/21755 */display: inline-block !important;position: relative;}#sk-container-id-6 div.sk-text-repr-fallback {display: none;}</style><div id=\"sk-container-id-6\" class=\"sk-top-container\"><div class=\"sk-text-repr-fallback\"><pre>RandomForestClassifier(class_weight=&#x27;balanced&#x27;, min_samples_split=5,\n",
       "                       n_estimators=150, n_jobs=-1, random_state=42)</pre><b>In a Jupyter environment, please rerun this cell to show the HTML representation or trust the notebook. <br />On GitHub, the HTML representation is unable to render, please try loading this page with nbviewer.org.</b></div><div class=\"sk-container\" hidden><div class=\"sk-item\"><div class=\"sk-estimator sk-toggleable\"><input class=\"sk-toggleable__control sk-hidden--visually\" id=\"sk-estimator-id-6\" type=\"checkbox\" checked><label for=\"sk-estimator-id-6\" class=\"sk-toggleable__label sk-toggleable__label-arrow\">RandomForestClassifier</label><div class=\"sk-toggleable__content\"><pre>RandomForestClassifier(class_weight=&#x27;balanced&#x27;, min_samples_split=5,\n",
       "                       n_estimators=150, n_jobs=-1, random_state=42)</pre></div></div></div></div></div>"
      ],
      "text/plain": [
       "RandomForestClassifier(class_weight='balanced', min_samples_split=5,\n",
       "                       n_estimators=150, n_jobs=-1, random_state=42)"
      ]
     },
     "execution_count": 58,
     "metadata": {},
     "output_type": "execute_result"
    }
   ],
   "source": [
    "clf_rf3 = RandomForestClassifier(n_estimators=150, random_state=42, n_jobs=-1, criterion= 'gini',min_samples_split= 5,\n",
    "                                class_weight='balanced')\n",
    "clf_rf3.fit(X_smote_train, y_smote_train)"
   ]
  },
  {
   "cell_type": "code",
   "execution_count": 59,
   "id": "8161fb97",
   "metadata": {},
   "outputs": [
    {
     "name": "stdout",
     "output_type": "stream",
     "text": [
      "Accuracy:\n",
      "**************************************************\n",
      "Train: 0.9787643789582525\n",
      "Test: 0.8071314474158808\n",
      "\n",
      "Balanced Accuracy:\n",
      "**************************************************\n",
      "Train: 0.9787643789582526\n",
      "Test: 0.8071314474158808\n",
      "\n",
      "F1_score:\n",
      "**************************************************\n",
      "Train: 0.978774218498059\n",
      "Test: 0.8074066807360177\n",
      "\n",
      "roc_auc_score:\n",
      "**************************************************\n",
      "Train: 0.9988996783958562\n",
      "Test: 0.9352664259237544\n"
     ]
    }
   ],
   "source": [
    "# making predictions on test set\n",
    "y_pred_train = clf_rf3.predict(X_smote_train)\n",
    "y_pred_train_proba = clf_rf3.predict_proba(X_smote_train)\n",
    "# making predictions on test set\n",
    "y_pred_test = clf_rf3.predict(X_smote_test)\n",
    "y_pred_test_proba = clf_rf3.predict_proba(X_smote_test)\n",
    "\n",
    "# printing the result\n",
    "print(\"Accuracy:\")\n",
    "print(\"*\"*50)\n",
    "print(\"Train:\", accuracy_score(y_smote_train, y_pred_train))\n",
    "print(\"Test:\", accuracy_score(y_smote_test, y_pred_test))\n",
    "\n",
    "print(\"\\nBalanced Accuracy:\")\n",
    "print(\"*\"*50)\n",
    "print(\"Train:\", balanced_accuracy_score(y_smote_train, y_pred_train))\n",
    "print(\"Test:\", balanced_accuracy_score(y_smote_test, y_pred_test))\n",
    "\n",
    "print(\"\\nF1_score:\")\n",
    "print(\"*\"*50)\n",
    "print(\"Train:\",f1_score(y_smote_train, y_pred_train, average=\"weighted\"))\n",
    "print(\"Test:\",f1_score(y_smote_test, y_pred_test, average=\"weighted\"))\n",
    "\n",
    "print(\"\\nroc_auc_score:\")\n",
    "print(\"*\"*50)\n",
    "print(\"Train:\", roc_auc_score(y_smote_train, y_pred_train_proba, multi_class='ovr'))\n",
    "print(\"Test:\", roc_auc_score(y_smote_test, y_pred_test_proba, multi_class='ovr'))"
   ]
  },
  {
   "cell_type": "markdown",
   "id": "311b2737",
   "metadata": {},
   "source": [
    "From above result after applying SMOTE, it is seen that the overfitting problem has been reduced to some extent "
   ]
  },
  {
   "cell_type": "code",
   "execution_count": null,
   "id": "6d0c6bef",
   "metadata": {},
   "outputs": [],
   "source": [
    "# clf_xgb = XGBClassifier(booster='gbtree', colsample_bylevel=1,\n",
    "#        colsample_bynode=1, colsample_bytree=1, learning_rate=0.1,\n",
    "#        max_depth=10, min_child_weight=1,n_estimators=100, n_jobs=-1,\n",
    "#        objective='multi:softprob', random_state=0,verbosity=1) "
   ]
  },
  {
   "cell_type": "code",
   "execution_count": 61,
   "id": "8ebf7f72",
   "metadata": {},
   "outputs": [
    {
     "name": "stdout",
     "output_type": "stream",
     "text": [
      "[23:26:09] WARNING: C:/Users/Administrator/workspace/xgboost-win64_release_1.5.1/src/learner.cc:1115: Starting in XGBoost 1.3.0, the default evaluation metric used with the objective 'multi:softprob' was changed from 'merror' to 'mlogloss'. Explicitly set eval_metric if you'd like to restore the old behavior.\n"
     ]
    },
    {
     "data": {
      "text/html": [
       "<style>#sk-container-id-7 {color: black;background-color: white;}#sk-container-id-7 pre{padding: 0;}#sk-container-id-7 div.sk-toggleable {background-color: white;}#sk-container-id-7 label.sk-toggleable__label {cursor: pointer;display: block;width: 100%;margin-bottom: 0;padding: 0.3em;box-sizing: border-box;text-align: center;}#sk-container-id-7 label.sk-toggleable__label-arrow:before {content: \"▸\";float: left;margin-right: 0.25em;color: #696969;}#sk-container-id-7 label.sk-toggleable__label-arrow:hover:before {color: black;}#sk-container-id-7 div.sk-estimator:hover label.sk-toggleable__label-arrow:before {color: black;}#sk-container-id-7 div.sk-toggleable__content {max-height: 0;max-width: 0;overflow: hidden;text-align: left;background-color: #f0f8ff;}#sk-container-id-7 div.sk-toggleable__content pre {margin: 0.2em;color: black;border-radius: 0.25em;background-color: #f0f8ff;}#sk-container-id-7 input.sk-toggleable__control:checked~div.sk-toggleable__content {max-height: 200px;max-width: 100%;overflow: auto;}#sk-container-id-7 input.sk-toggleable__control:checked~label.sk-toggleable__label-arrow:before {content: \"▾\";}#sk-container-id-7 div.sk-estimator input.sk-toggleable__control:checked~label.sk-toggleable__label {background-color: #d4ebff;}#sk-container-id-7 div.sk-label input.sk-toggleable__control:checked~label.sk-toggleable__label {background-color: #d4ebff;}#sk-container-id-7 input.sk-hidden--visually {border: 0;clip: rect(1px 1px 1px 1px);clip: rect(1px, 1px, 1px, 1px);height: 1px;margin: -1px;overflow: hidden;padding: 0;position: absolute;width: 1px;}#sk-container-id-7 div.sk-estimator {font-family: monospace;background-color: #f0f8ff;border: 1px dotted black;border-radius: 0.25em;box-sizing: border-box;margin-bottom: 0.5em;}#sk-container-id-7 div.sk-estimator:hover {background-color: #d4ebff;}#sk-container-id-7 div.sk-parallel-item::after {content: \"\";width: 100%;border-bottom: 1px solid gray;flex-grow: 1;}#sk-container-id-7 div.sk-label:hover label.sk-toggleable__label {background-color: #d4ebff;}#sk-container-id-7 div.sk-serial::before {content: \"\";position: absolute;border-left: 1px solid gray;box-sizing: border-box;top: 0;bottom: 0;left: 50%;z-index: 0;}#sk-container-id-7 div.sk-serial {display: flex;flex-direction: column;align-items: center;background-color: white;padding-right: 0.2em;padding-left: 0.2em;position: relative;}#sk-container-id-7 div.sk-item {position: relative;z-index: 1;}#sk-container-id-7 div.sk-parallel {display: flex;align-items: stretch;justify-content: center;background-color: white;position: relative;}#sk-container-id-7 div.sk-item::before, #sk-container-id-7 div.sk-parallel-item::before {content: \"\";position: absolute;border-left: 1px solid gray;box-sizing: border-box;top: 0;bottom: 0;left: 50%;z-index: -1;}#sk-container-id-7 div.sk-parallel-item {display: flex;flex-direction: column;z-index: 1;position: relative;background-color: white;}#sk-container-id-7 div.sk-parallel-item:first-child::after {align-self: flex-end;width: 50%;}#sk-container-id-7 div.sk-parallel-item:last-child::after {align-self: flex-start;width: 50%;}#sk-container-id-7 div.sk-parallel-item:only-child::after {width: 0;}#sk-container-id-7 div.sk-dashed-wrapped {border: 1px dashed gray;margin: 0 0.4em 0.5em 0.4em;box-sizing: border-box;padding-bottom: 0.4em;background-color: white;}#sk-container-id-7 div.sk-label label {font-family: monospace;font-weight: bold;display: inline-block;line-height: 1.2em;}#sk-container-id-7 div.sk-label-container {text-align: center;}#sk-container-id-7 div.sk-container {/* jupyter's `normalize.less` sets `[hidden] { display: none; }` but bootstrap.min.css set `[hidden] { display: none !important; }` so we also need the `!important` here to be able to override the default hidden behavior on the sphinx rendered scikit-learn.org. See: https://github.com/scikit-learn/scikit-learn/issues/21755 */display: inline-block !important;position: relative;}#sk-container-id-7 div.sk-text-repr-fallback {display: none;}</style><div id=\"sk-container-id-7\" class=\"sk-top-container\"><div class=\"sk-text-repr-fallback\"><pre>XGBClassifier(base_score=0.5, booster=&#x27;gbtree&#x27;, colsample_bylevel=1,\n",
       "              colsample_bynode=1, colsample_bytree=1, enable_categorical=False,\n",
       "              gamma=0, gpu_id=-1, importance_type=None,\n",
       "              interaction_constraints=&#x27;&#x27;, learning_rate=0.300000012,\n",
       "              max_delta_step=0, max_depth=6, min_child_weight=1, missing=nan,\n",
       "              monotone_constraints=&#x27;()&#x27;, n_estimators=100, n_jobs=4,\n",
       "              num_parallel_tree=1, objective=&#x27;multi:softprob&#x27;, predictor=&#x27;auto&#x27;,\n",
       "              random_state=0, reg_alpha=0, reg_lambda=1, scale_pos_weight=None,\n",
       "              subsample=1, tree_method=&#x27;exact&#x27;, validate_parameters=1,\n",
       "              verbosity=None)</pre><b>In a Jupyter environment, please rerun this cell to show the HTML representation or trust the notebook. <br />On GitHub, the HTML representation is unable to render, please try loading this page with nbviewer.org.</b></div><div class=\"sk-container\" hidden><div class=\"sk-item\"><div class=\"sk-estimator sk-toggleable\"><input class=\"sk-toggleable__control sk-hidden--visually\" id=\"sk-estimator-id-7\" type=\"checkbox\" checked><label for=\"sk-estimator-id-7\" class=\"sk-toggleable__label sk-toggleable__label-arrow\">XGBClassifier</label><div class=\"sk-toggleable__content\"><pre>XGBClassifier(base_score=0.5, booster=&#x27;gbtree&#x27;, colsample_bylevel=1,\n",
       "              colsample_bynode=1, colsample_bytree=1, enable_categorical=False,\n",
       "              gamma=0, gpu_id=-1, importance_type=None,\n",
       "              interaction_constraints=&#x27;&#x27;, learning_rate=0.300000012,\n",
       "              max_delta_step=0, max_depth=6, min_child_weight=1, missing=nan,\n",
       "              monotone_constraints=&#x27;()&#x27;, n_estimators=100, n_jobs=4,\n",
       "              num_parallel_tree=1, objective=&#x27;multi:softprob&#x27;, predictor=&#x27;auto&#x27;,\n",
       "              random_state=0, reg_alpha=0, reg_lambda=1, scale_pos_weight=None,\n",
       "              subsample=1, tree_method=&#x27;exact&#x27;, validate_parameters=1,\n",
       "              verbosity=None)</pre></div></div></div></div></div>"
      ],
      "text/plain": [
       "XGBClassifier(base_score=0.5, booster='gbtree', colsample_bylevel=1,\n",
       "              colsample_bynode=1, colsample_bytree=1, enable_categorical=False,\n",
       "              gamma=0, gpu_id=-1, importance_type=None,\n",
       "              interaction_constraints='', learning_rate=0.300000012,\n",
       "              max_delta_step=0, max_depth=6, min_child_weight=1, missing=nan,\n",
       "              monotone_constraints='()', n_estimators=100, n_jobs=4,\n",
       "              num_parallel_tree=1, objective='multi:softprob', predictor='auto',\n",
       "              random_state=0, reg_alpha=0, reg_lambda=1, scale_pos_weight=None,\n",
       "              subsample=1, tree_method='exact', validate_parameters=1,\n",
       "              verbosity=None)"
      ]
     },
     "execution_count": 61,
     "metadata": {},
     "output_type": "execute_result"
    }
   ],
   "source": [
    "from xgboost import XGBClassifier\n",
    "clf_xgb =XGBClassifier()\n",
    "clf_xgb.fit(X_smote_train, y_smote_train)"
   ]
  },
  {
   "cell_type": "code",
   "execution_count": 62,
   "id": "382cd4c8",
   "metadata": {},
   "outputs": [
    {
     "name": "stdout",
     "output_type": "stream",
     "text": [
      "Accuracy:\n",
      "**************************************************\n",
      "Train: 0.8624272974020938\n",
      "Test: 0.8114082547534395\n",
      "\n",
      "Balanced Accuracy:\n",
      "**************************************************\n",
      "Train: 0.8624272974020938\n",
      "Test: 0.8114082547534395\n",
      "\n",
      "F1_score:\n",
      "**************************************************\n",
      "Train: 0.8621542054573937\n",
      "Test: 0.8107848004014945\n",
      "\n",
      "roc_auc_score:\n",
      "**************************************************\n",
      "Train: 0.9661977455284911\n",
      "Test: 0.9390995537393089\n"
     ]
    }
   ],
   "source": [
    "# making predictions on test set\n",
    "y_pred_train = clf_xgb.predict(X_smote_train)\n",
    "y_pred_train_proba = clf_xgb.predict_proba(X_smote_train)\n",
    "# making predictions on test set\n",
    "y_pred_test = clf_xgb.predict(X_smote_test)\n",
    "y_pred_test_proba = clf_xgb.predict_proba(X_smote_test)\n",
    "\n",
    "# printing the result\n",
    "print(\"Accuracy:\")\n",
    "print(\"*\"*50)\n",
    "print(\"Train:\", accuracy_score(y_smote_train, y_pred_train))\n",
    "print(\"Test:\", accuracy_score(y_smote_test, y_pred_test))\n",
    "\n",
    "print(\"\\nBalanced Accuracy:\")\n",
    "print(\"*\"*50)\n",
    "print(\"Train:\", balanced_accuracy_score(y_smote_train, y_pred_train))\n",
    "print(\"Test:\", balanced_accuracy_score(y_smote_test, y_pred_test))\n",
    "\n",
    "print(\"\\nF1_score:\")\n",
    "print(\"*\"*50)\n",
    "print(\"Train:\",f1_score(y_smote_train, y_pred_train, average=\"weighted\"))\n",
    "print(\"Test:\",f1_score(y_smote_test, y_pred_test, average=\"weighted\"))\n",
    "\n",
    "print(\"\\nroc_auc_score:\")\n",
    "print(\"*\"*50)\n",
    "print(\"Train:\", roc_auc_score(y_smote_train, y_pred_train_proba, multi_class='ovr'))\n",
    "print(\"Test:\", roc_auc_score(y_smote_test, y_pred_test_proba, multi_class='ovr'))"
   ]
  },
  {
   "cell_type": "markdown",
   "id": "f49794c1",
   "metadata": {},
   "source": [
    "### 5.3 Using Leave One Out Encoding Encoder for encoding categorical features"
   ]
  },
  {
   "cell_type": "code",
   "execution_count": 66,
   "id": "a3d7c16d",
   "metadata": {},
   "outputs": [],
   "source": [
    "numerical_features1 = ['gps_height','longitude', 'latitude', 'district_code','population', 'operational_year']\n",
    "categorical_features1 = ['funder','installer','basin', 'region', 'lga', 'extraction_type_group','management', \n",
    "                        'payment', 'water_quality', 'quantity', 'source','waterpoint_type']"
   ]
  },
  {
   "cell_type": "code",
   "execution_count": 65,
   "id": "2a59c16a",
   "metadata": {},
   "outputs": [],
   "source": [
    "df1.drop(columns=['permit', 'public_meeting'], inplace=True )"
   ]
  },
  {
   "cell_type": "code",
   "execution_count": 67,
   "id": "d2374a79",
   "metadata": {},
   "outputs": [],
   "source": [
    "y1=df1['status_group']\n",
    "X1 = df1.drop(columns = ['status_group'])"
   ]
  },
  {
   "cell_type": "code",
   "execution_count": 68,
   "id": "c967eaf6",
   "metadata": {},
   "outputs": [],
   "source": [
    "from sklearn.model_selection import train_test_split\n",
    "X_train1, X_test1, y_train1, y_test1 = train_test_split(X1, y1, test_size=0.2, random_state=40)"
   ]
  },
  {
   "cell_type": "code",
   "execution_count": 72,
   "id": "35745a89",
   "metadata": {},
   "outputs": [],
   "source": [
    "scaler2 = RobustScaler()\n",
    "encoder2 = ce.LeaveOneOutEncoder()"
   ]
  },
  {
   "cell_type": "code",
   "execution_count": 73,
   "id": "50cd943c",
   "metadata": {},
   "outputs": [],
   "source": [
    "transformer2 = scaler2.fit(X_train1[numerical_features1])\n",
    "\n",
    "X_train1[numerical_features1] = transformer2.transform(X_train1[numerical_features1])\n",
    "X_test1[numerical_features1] = transformer2.transform(X_test1[numerical_features1])\n",
    "\n",
    "transformer_loe_1 = encoder2.fit(X_train1[categorical_features1], y_train1)\n",
    "\n",
    "X_train1[categorical_features1] = transformer_loe_1.transform(X_train1[categorical_features1])\n",
    "X_test1[categorical_features1] = transformer_loe_1.transform(X_test1[categorical_features1])"
   ]
  },
  {
   "cell_type": "code",
   "execution_count": 75,
   "id": "d77993ee",
   "metadata": {},
   "outputs": [
    {
     "name": "stdout",
     "output_type": "stream",
     "text": [
      "1    25790\n",
      "0    18317\n",
      "2     3413\n",
      "Name: status_group, dtype: int64\n",
      "\n",
      "After applying SMOTE\n",
      "1    25790\n",
      "0    25790\n",
      "2    25790\n",
      "Name: status_group, dtype: int64\n"
     ]
    }
   ],
   "source": [
    "smote1 = SMOTE(sampling_strategy = 'auto', n_jobs = -1)\n",
    "\n",
    "X_smote_train, y_smote_train = smote1.fit_resample(X_train1, y_train1)\n",
    "y_smote_train = pd.Series(y_smote_train)\n",
    "print(y_train.value_counts())\n",
    "print(\"\\nAfter applying SMOTE\")\n",
    "print(y_smote_train.value_counts())"
   ]
  },
  {
   "cell_type": "code",
   "execution_count": 76,
   "id": "7bc8380f",
   "metadata": {},
   "outputs": [
    {
     "name": "stdout",
     "output_type": "stream",
     "text": [
      "1    6469\n",
      "0    4507\n",
      "2     904\n",
      "Name: status_group, dtype: int64\n",
      "\n",
      "After applying SMOTE\n",
      "1    6469\n",
      "0    6469\n",
      "2    6469\n",
      "Name: status_group, dtype: int64\n"
     ]
    }
   ],
   "source": [
    "smote2 = SMOTE(sampling_strategy = 'auto', n_jobs = -1)\n",
    "\n",
    "X_smote_test, y_smote_test = smote2.fit_resample(X_test1, y_test1)\n",
    "y_smote_test = pd.Series(y_smote_test)\n",
    "print(y_test.value_counts())\n",
    "print(\"\\nAfter applying SMOTE\")\n",
    "print(y_smote_test.value_counts())"
   ]
  },
  {
   "cell_type": "code",
   "execution_count": 77,
   "id": "c4871bd7",
   "metadata": {},
   "outputs": [
    {
     "name": "stdout",
     "output_type": "stream",
     "text": [
      "[01:02:59] WARNING: C:/Users/Administrator/workspace/xgboost-win64_release_1.5.1/src/learner.cc:1115: Starting in XGBoost 1.3.0, the default evaluation metric used with the objective 'multi:softprob' was changed from 'merror' to 'mlogloss'. Explicitly set eval_metric if you'd like to restore the old behavior.\n"
     ]
    },
    {
     "data": {
      "text/html": [
       "<style>#sk-container-id-9 {color: black;background-color: white;}#sk-container-id-9 pre{padding: 0;}#sk-container-id-9 div.sk-toggleable {background-color: white;}#sk-container-id-9 label.sk-toggleable__label {cursor: pointer;display: block;width: 100%;margin-bottom: 0;padding: 0.3em;box-sizing: border-box;text-align: center;}#sk-container-id-9 label.sk-toggleable__label-arrow:before {content: \"▸\";float: left;margin-right: 0.25em;color: #696969;}#sk-container-id-9 label.sk-toggleable__label-arrow:hover:before {color: black;}#sk-container-id-9 div.sk-estimator:hover label.sk-toggleable__label-arrow:before {color: black;}#sk-container-id-9 div.sk-toggleable__content {max-height: 0;max-width: 0;overflow: hidden;text-align: left;background-color: #f0f8ff;}#sk-container-id-9 div.sk-toggleable__content pre {margin: 0.2em;color: black;border-radius: 0.25em;background-color: #f0f8ff;}#sk-container-id-9 input.sk-toggleable__control:checked~div.sk-toggleable__content {max-height: 200px;max-width: 100%;overflow: auto;}#sk-container-id-9 input.sk-toggleable__control:checked~label.sk-toggleable__label-arrow:before {content: \"▾\";}#sk-container-id-9 div.sk-estimator input.sk-toggleable__control:checked~label.sk-toggleable__label {background-color: #d4ebff;}#sk-container-id-9 div.sk-label input.sk-toggleable__control:checked~label.sk-toggleable__label {background-color: #d4ebff;}#sk-container-id-9 input.sk-hidden--visually {border: 0;clip: rect(1px 1px 1px 1px);clip: rect(1px, 1px, 1px, 1px);height: 1px;margin: -1px;overflow: hidden;padding: 0;position: absolute;width: 1px;}#sk-container-id-9 div.sk-estimator {font-family: monospace;background-color: #f0f8ff;border: 1px dotted black;border-radius: 0.25em;box-sizing: border-box;margin-bottom: 0.5em;}#sk-container-id-9 div.sk-estimator:hover {background-color: #d4ebff;}#sk-container-id-9 div.sk-parallel-item::after {content: \"\";width: 100%;border-bottom: 1px solid gray;flex-grow: 1;}#sk-container-id-9 div.sk-label:hover label.sk-toggleable__label {background-color: #d4ebff;}#sk-container-id-9 div.sk-serial::before {content: \"\";position: absolute;border-left: 1px solid gray;box-sizing: border-box;top: 0;bottom: 0;left: 50%;z-index: 0;}#sk-container-id-9 div.sk-serial {display: flex;flex-direction: column;align-items: center;background-color: white;padding-right: 0.2em;padding-left: 0.2em;position: relative;}#sk-container-id-9 div.sk-item {position: relative;z-index: 1;}#sk-container-id-9 div.sk-parallel {display: flex;align-items: stretch;justify-content: center;background-color: white;position: relative;}#sk-container-id-9 div.sk-item::before, #sk-container-id-9 div.sk-parallel-item::before {content: \"\";position: absolute;border-left: 1px solid gray;box-sizing: border-box;top: 0;bottom: 0;left: 50%;z-index: -1;}#sk-container-id-9 div.sk-parallel-item {display: flex;flex-direction: column;z-index: 1;position: relative;background-color: white;}#sk-container-id-9 div.sk-parallel-item:first-child::after {align-self: flex-end;width: 50%;}#sk-container-id-9 div.sk-parallel-item:last-child::after {align-self: flex-start;width: 50%;}#sk-container-id-9 div.sk-parallel-item:only-child::after {width: 0;}#sk-container-id-9 div.sk-dashed-wrapped {border: 1px dashed gray;margin: 0 0.4em 0.5em 0.4em;box-sizing: border-box;padding-bottom: 0.4em;background-color: white;}#sk-container-id-9 div.sk-label label {font-family: monospace;font-weight: bold;display: inline-block;line-height: 1.2em;}#sk-container-id-9 div.sk-label-container {text-align: center;}#sk-container-id-9 div.sk-container {/* jupyter's `normalize.less` sets `[hidden] { display: none; }` but bootstrap.min.css set `[hidden] { display: none !important; }` so we also need the `!important` here to be able to override the default hidden behavior on the sphinx rendered scikit-learn.org. See: https://github.com/scikit-learn/scikit-learn/issues/21755 */display: inline-block !important;position: relative;}#sk-container-id-9 div.sk-text-repr-fallback {display: none;}</style><div id=\"sk-container-id-9\" class=\"sk-top-container\"><div class=\"sk-text-repr-fallback\"><pre>XGBClassifier(base_score=0.5, booster=&#x27;gbtree&#x27;, colsample_bylevel=1,\n",
       "              colsample_bynode=1, colsample_bytree=1, enable_categorical=False,\n",
       "              gamma=0, gpu_id=-1, importance_type=None,\n",
       "              interaction_constraints=&#x27;&#x27;, learning_rate=0.300000012,\n",
       "              max_delta_step=0, max_depth=6, min_child_weight=1, missing=nan,\n",
       "              monotone_constraints=&#x27;()&#x27;, n_estimators=100, n_jobs=4,\n",
       "              num_parallel_tree=1, objective=&#x27;multi:softprob&#x27;, predictor=&#x27;auto&#x27;,\n",
       "              random_state=0, reg_alpha=0, reg_lambda=1, scale_pos_weight=None,\n",
       "              subsample=1, tree_method=&#x27;exact&#x27;, validate_parameters=1,\n",
       "              verbosity=None)</pre><b>In a Jupyter environment, please rerun this cell to show the HTML representation or trust the notebook. <br />On GitHub, the HTML representation is unable to render, please try loading this page with nbviewer.org.</b></div><div class=\"sk-container\" hidden><div class=\"sk-item\"><div class=\"sk-estimator sk-toggleable\"><input class=\"sk-toggleable__control sk-hidden--visually\" id=\"sk-estimator-id-9\" type=\"checkbox\" checked><label for=\"sk-estimator-id-9\" class=\"sk-toggleable__label sk-toggleable__label-arrow\">XGBClassifier</label><div class=\"sk-toggleable__content\"><pre>XGBClassifier(base_score=0.5, booster=&#x27;gbtree&#x27;, colsample_bylevel=1,\n",
       "              colsample_bynode=1, colsample_bytree=1, enable_categorical=False,\n",
       "              gamma=0, gpu_id=-1, importance_type=None,\n",
       "              interaction_constraints=&#x27;&#x27;, learning_rate=0.300000012,\n",
       "              max_delta_step=0, max_depth=6, min_child_weight=1, missing=nan,\n",
       "              monotone_constraints=&#x27;()&#x27;, n_estimators=100, n_jobs=4,\n",
       "              num_parallel_tree=1, objective=&#x27;multi:softprob&#x27;, predictor=&#x27;auto&#x27;,\n",
       "              random_state=0, reg_alpha=0, reg_lambda=1, scale_pos_weight=None,\n",
       "              subsample=1, tree_method=&#x27;exact&#x27;, validate_parameters=1,\n",
       "              verbosity=None)</pre></div></div></div></div></div>"
      ],
      "text/plain": [
       "XGBClassifier(base_score=0.5, booster='gbtree', colsample_bylevel=1,\n",
       "              colsample_bynode=1, colsample_bytree=1, enable_categorical=False,\n",
       "              gamma=0, gpu_id=-1, importance_type=None,\n",
       "              interaction_constraints='', learning_rate=0.300000012,\n",
       "              max_delta_step=0, max_depth=6, min_child_weight=1, missing=nan,\n",
       "              monotone_constraints='()', n_estimators=100, n_jobs=4,\n",
       "              num_parallel_tree=1, objective='multi:softprob', predictor='auto',\n",
       "              random_state=0, reg_alpha=0, reg_lambda=1, scale_pos_weight=None,\n",
       "              subsample=1, tree_method='exact', validate_parameters=1,\n",
       "              verbosity=None)"
      ]
     },
     "execution_count": 77,
     "metadata": {},
     "output_type": "execute_result"
    }
   ],
   "source": [
    "from xgboost import XGBClassifier\n",
    "clf_xgb1 =XGBClassifier()\n",
    "clf_xgb1.fit(X_smote_train, y_smote_train)"
   ]
  },
  {
   "cell_type": "code",
   "execution_count": 78,
   "id": "8f3c6a09",
   "metadata": {},
   "outputs": [
    {
     "name": "stdout",
     "output_type": "stream",
     "text": [
      "Accuracy:\n",
      "**************************************************\n",
      "Train: 0.8592865451725475\n",
      "Test: 0.8106353377647241\n",
      "\n",
      "Balanced Accuracy:\n",
      "**************************************************\n",
      "Train: 0.8592865451725475\n",
      "Test: 0.8106353377647241\n",
      "\n",
      "F1_score:\n",
      "**************************************************\n",
      "Train: 0.8589568631252777\n",
      "Test: 0.8099731365985003\n",
      "\n",
      "roc_auc_score:\n",
      "**************************************************\n",
      "Train: 0.9655189116837996\n",
      "Test: 0.9398856334561517\n"
     ]
    }
   ],
   "source": [
    "# making predictions on test set\n",
    "y_pred_train = clf_xgb1.predict(X_smote_train)\n",
    "y_pred_train_proba = clf_xgb1.predict_proba(X_smote_train)\n",
    "# making predictions on test set\n",
    "y_pred_test = clf_xgb1.predict(X_smote_test)\n",
    "y_pred_test_proba = clf_xgb1.predict_proba(X_smote_test)\n",
    "\n",
    "# printing the result\n",
    "print(\"Accuracy:\")\n",
    "print(\"*\"*50)\n",
    "print(\"Train:\", accuracy_score(y_smote_train, y_pred_train))\n",
    "print(\"Test:\", accuracy_score(y_smote_test, y_pred_test))\n",
    "\n",
    "print(\"\\nBalanced Accuracy:\")\n",
    "print(\"*\"*50)\n",
    "print(\"Train:\", balanced_accuracy_score(y_smote_train, y_pred_train))\n",
    "print(\"Test:\", balanced_accuracy_score(y_smote_test, y_pred_test))\n",
    "\n",
    "print(\"\\nF1_score:\")\n",
    "print(\"*\"*50)\n",
    "print(\"Train:\",f1_score(y_smote_train, y_pred_train, average=\"weighted\"))\n",
    "print(\"Test:\",f1_score(y_smote_test, y_pred_test, average=\"weighted\"))\n",
    "\n",
    "print(\"\\nroc_auc_score:\")\n",
    "print(\"*\"*50)\n",
    "print(\"Train:\", roc_auc_score(y_smote_train, y_pred_train_proba, multi_class='ovr'))\n",
    "print(\"Test:\", roc_auc_score(y_smote_test, y_pred_test_proba, multi_class='ovr'))"
   ]
  },
  {
   "cell_type": "markdown",
   "id": "9e49a1fe",
   "metadata": {},
   "source": [
    "### Summary of results"
   ]
  },
  {
   "cell_type": "code",
   "execution_count": 80,
   "id": "1b25b1ca",
   "metadata": {},
   "outputs": [
    {
     "name": "stdout",
     "output_type": "stream",
     "text": [
      "Collecting prettytableNote: you may need to restart the kernel to use updated packages.\n",
      "\n",
      "  Downloading prettytable-3.3.0-py3-none-any.whl (26 kB)\n",
      "Requirement already satisfied: wcwidth in c:\\users\\prafull mohite\\anaconda3\\lib\\site-packages (from prettytable) (0.2.5)\n",
      "Installing collected packages: prettytable\n",
      "Successfully installed prettytable-3.3.0\n"
     ]
    }
   ],
   "source": [
    "pip install prettytable"
   ]
  },
  {
   "cell_type": "code",
   "execution_count": 90,
   "id": "ea1a6720",
   "metadata": {},
   "outputs": [
    {
     "name": "stdout",
     "output_type": "stream",
     "text": [
      "+-----------------------------------------------------------------------------------------------------+\n",
      "|                                               Summary                                               |\n",
      "+--------+-----------+-------+--------------+-------------+----------+---------+-----------+----------+\n",
      "| Scaler |  Encoder  | Model | BalAcc_train | BalAcc_test | F1_train | F1_test | roc_train | roc_test |\n",
      "+--------+-----------+-------+--------------+-------------+----------+---------+-----------+----------+\n",
      "| Robust |     TE    |   LR  |    0.6051    |    0.6032   |  0.6565  |  0.6556 |   0.7912  |  0.7910  |\n",
      "| Robust |     TE    |  KNN  |    0.6941    |    0.6108   |  0.8233  |  0.7490 |   0.9467  |  0.8311  |\n",
      "| Robust |     TE    |   DT  |    0.5519    |    0.5529   |  0.6757  |  0.6768 |   0.7304  |  0.7299  |\n",
      "| Robust |     TE    |   RF  |    0.9738    |    0.7031   |  0.9667  |  0.8034 |   0.9967  |  0.9032  |\n",
      "| Robust |  TE+SMOTE |   RF  |    0.9787    |    0.8071   |  0.9787  |  0.8074 |   0.9988  |  0.9352  |\n",
      "| Robust |  TE+SMOTE |  Xgb  |    0.8624    |    0.8114   |  0.8621  |  0.8107 |   0.9661  |  0.9390  |\n",
      "| Robust | LOO+SMOTE |  Xgb  |    0.8592    |    0.8106   |  0.8589  |  0.8099 |   0.9655  |  0.9398  |\n",
      "+--------+-----------+-------+--------------+-------------+----------+---------+-----------+----------+\n"
     ]
    }
   ],
   "source": [
    "from prettytable import PrettyTable\n",
    "table = PrettyTable()\n",
    "table.title = \" Summary \"\n",
    "table.field_names = ['Scaler','Encoder', 'Model','BalAcc_train', 'BalAcc_test','F1_train','F1_test','roc_train','roc_test']\n",
    "\n",
    "table.add_row([\"Robust\",\"TE\",\"LR\", '0.6051', '0.6032', '0.6565', '0.6556', '0.7912', '0.7910' ])\n",
    "table.add_row([\"Robust\",\"TE\",\"KNN\", '0.6941', '0.6108', '0.8233', '0.7490', '0.9467', '0.8311' ])\n",
    "table.add_row([\"Robust\",\"TE\",\"DT\", '0.5519', '0.5529', '0.6757', '0.6768', '0.7304', '0.7299' ])\n",
    "table.add_row([\"Robust\",\"TE\",\"RF\", '0.9738', '0.7031', '0.9667', '0.8034', '0.9967', '0.9032' ])\n",
    "table.add_row([\"Robust\",\"TE+SMOTE\",\"RF\", '0.9787', '0.8071', '0.9787', '0.8074', '0.9988', '0.9352'])\n",
    "table.add_row([\"Robust\",\"TE+SMOTE\",\"Xgb\", '0.8624', '0.8114', '0.8621', '0.8107', '0.9661', '0.9390'])\n",
    "table.add_row([\"Robust\",\"LOO+SMOTE\",\"Xgb\", '0.8592', '0.8106', '0.8589', '0.8099', '0.9655', '0.9398'])\n",
    "print(table)"
   ]
  },
  {
   "cell_type": "markdown",
   "id": "c4bbcefa",
   "metadata": {},
   "source": [
    "Form the above summary, it is understood that the model 'XGBClassifier' with robust_scaler, Target_Encoder & SMOTE technique has been the best performer so far with the highest F1_score & Balanced_Accuracy as 0.81 with minimum overfitting."
   ]
  },
  {
   "cell_type": "code",
   "execution_count": null,
   "id": "56c14223",
   "metadata": {},
   "outputs": [],
   "source": []
  }
 ],
 "metadata": {
  "kernelspec": {
   "display_name": "Python 3 (ipykernel)",
   "language": "python",
   "name": "python3"
  },
  "language_info": {
   "codemirror_mode": {
    "name": "ipython",
    "version": 3
   },
   "file_extension": ".py",
   "mimetype": "text/x-python",
   "name": "python",
   "nbconvert_exporter": "python",
   "pygments_lexer": "ipython3",
   "version": "3.8.12"
  }
 },
 "nbformat": 4,
 "nbformat_minor": 5
}
